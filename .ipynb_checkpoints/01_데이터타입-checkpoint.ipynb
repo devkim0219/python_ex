{
 "cells": [
  {
   "cell_type": "markdown",
   "metadata": {},
   "source": [
    "## 데이터 종류\n",
    "\n",
    "### 일반 자료형\n",
    "\n",
    "- 정수, 실수, 논리(True/False), 함수, None\n",
    "\n",
    "### 집합 자료형\n",
    "\n",
    "- 중첩가능한 형태로 사용 가능\n",
    "- 문자열(str)\n",
    "    - 변경 불가(immutable) → 문자열을 가공하면 새로운 문자열이 생성됨\n",
    "    - 문자열 관련 함수 제공\n",
    "- 리스트(list)\n",
    "    - [a, b, c]\n",
    "    - 순서가 있음, 중복O, 값 변경 가능(mutable)\n",
    "    - 리스트 관련 함수 제공\n",
    "- 튜플(tuple)\n",
    "    - (a, b, c)\n",
    "    - 순서가 있음, 중복O, 값 변경 불가(immutable)\n",
    "    - 값 하나를 표현할 때는 뒤에 , 를 붙여야 함 → a = (10,)\n",
    "- 셋(set)\n",
    "    - {a, b, c}\n",
    "    - 순서가 없음, 중복X(중복된 값은 한번만 저장됨)\n",
    "\n",
    "        ex) [a, b, a, c] → set으로 변경하면 중복값을 제거할 수 있음\n",
    "\n",
    "    - immutable한 값만 저장\n",
    "\n",
    "        ex) {'abc', (10, 20), 10}\n",
    "\n",
    "- 딕셔너리(dict)\n",
    "    - {'key' : 'value'}\n",
    "    - 순서가 없음, 값 변경 가능(mutable)\n",
    "\n",
    "## 변경 불가능한 데이터(immutable)\n",
    "\n",
    "- 스칼라 : 정수, 실수\n",
    "- 문자열\n",
    "- tuple\n",
    "\n",
    "## builtins 객체의 함수\n",
    "\n",
    "- print(dir('__builtins__'))\n",
    "- [https://docs.python.org/ko/3.8/library/functions.html](https://docs.python.org/ko/3.8/library/functions.html)"
   ]
  },
  {
   "cell_type": "code",
   "execution_count": 1,
   "metadata": {},
   "outputs": [
    {
     "name": "stdout",
     "output_type": "stream",
     "text": [
      "정수: 0 -> 0\n",
      "정수: 양수(10진수) -> 10\n",
      "정수: 양수(2진수) -> 10\n",
      "정수: 양수(8진수) -> 65\n",
      "정수: 양수(16진수) -> 27\n",
      "정수: 음수 -> -10\n",
      "정수: bin 함수를 이용한 2진수 표현 -> 0b10\n",
      "정수: oct 함수를 이용한 8진수 표현 -> 0o101\n",
      "정수: hex 함수를 이용한 16진수 표현 -> 0x1b\n"
     ]
    }
   ],
   "source": [
    "# 기본형 데이터 종류 및 표현\n",
    "print('정수: 0 ->', 0)  # 0\n",
    "print('정수: 양수(10진수) ->', 10)  # 10\n",
    "print('정수: 양수(2진수) ->', 0b1010)  # 10\n",
    "print('정수: 양수(8진수) ->', 0o101)  # 65\n",
    "print('정수: 양수(16진수) ->', 0x1B)  # 27\n",
    "print('정수: 음수 ->', -10)  # -10\n",
    "print('정수: bin 함수를 이용한 2진수 표현 ->', bin(2))  # 0b10\n",
    "print('정수: oct 함수를 이용한 8진수 표현 ->', oct(65))  # 0o101\n",
    "print('정수: hex 함수를 이용한 16진수 표현 ->', hex(27))  # 0x1B"
   ]
  },
  {
   "cell_type": "code",
   "execution_count": 2,
   "metadata": {},
   "outputs": [
    {
     "name": "stdout",
     "output_type": "stream",
     "text": [
      "['ArithmeticError', 'AssertionError', 'AttributeError', 'BaseException', 'BlockingIOError', 'BrokenPipeError', 'BufferError', 'BytesWarning', 'ChildProcessError', 'ConnectionAbortedError', 'ConnectionError', 'ConnectionRefusedError', 'ConnectionResetError', 'DeprecationWarning', 'EOFError', 'Ellipsis', 'EnvironmentError', 'Exception', 'False', 'FileExistsError', 'FileNotFoundError', 'FloatingPointError', 'FutureWarning', 'GeneratorExit', 'IOError', 'ImportError', 'ImportWarning', 'IndentationError', 'IndexError', 'InterruptedError', 'IsADirectoryError', 'KeyError', 'KeyboardInterrupt', 'LookupError', 'MemoryError', 'ModuleNotFoundError', 'NameError', 'None', 'NotADirectoryError', 'NotImplemented', 'NotImplementedError', 'OSError', 'OverflowError', 'PendingDeprecationWarning', 'PermissionError', 'ProcessLookupError', 'RecursionError', 'ReferenceError', 'ResourceWarning', 'RuntimeError', 'RuntimeWarning', 'StopAsyncIteration', 'StopIteration', 'SyntaxError', 'SyntaxWarning', 'SystemError', 'SystemExit', 'TabError', 'TimeoutError', 'True', 'TypeError', 'UnboundLocalError', 'UnicodeDecodeError', 'UnicodeEncodeError', 'UnicodeError', 'UnicodeTranslateError', 'UnicodeWarning', 'UserWarning', 'ValueError', 'Warning', 'ZeroDivisionError', '__IPYTHON__', '__build_class__', '__debug__', '__doc__', '__import__', '__loader__', '__name__', '__package__', '__spec__', 'abs', 'all', 'any', 'ascii', 'bin', 'bool', 'breakpoint', 'bytearray', 'bytes', 'callable', 'chr', 'classmethod', 'compile', 'complex', 'copyright', 'credits', 'delattr', 'dict', 'dir', 'display', 'divmod', 'enumerate', 'eval', 'exec', 'filter', 'float', 'format', 'frozenset', 'get_ipython', 'getattr', 'globals', 'hasattr', 'hash', 'help', 'hex', 'id', 'input', 'int', 'isinstance', 'issubclass', 'iter', 'len', 'license', 'list', 'locals', 'map', 'max', 'memoryview', 'min', 'next', 'object', 'oct', 'open', 'ord', 'pow', 'print', 'property', 'range', 'repr', 'reversed', 'round', 'set', 'setattr', 'slice', 'sorted', 'staticmethod', 'str', 'sum', 'super', 'tuple', 'type', 'vars', 'zip']\n"
     ]
    }
   ],
   "source": [
    "# 현재 사용 가능한 함수 출력\n",
    "print(dir(__builtins__))"
   ]
  },
  {
   "cell_type": "code",
   "execution_count": 3,
   "metadata": {},
   "outputs": [
    {
     "name": "stdout",
     "output_type": "stream",
     "text": [
      "실수: -> 3.14\n",
      "실수: 지수표현 -> 314000.0\n",
      "논리: 참 -> True\n",
      "논리: 거짓 -> False\n"
     ]
    }
   ],
   "source": [
    "print('실수: ->', 3.14)  # 3.14\n",
    "print('실수: 지수표현 ->', 3.14e+5)  # 314000.0\n",
    "print('논리: 참 ->', True)  # True\n",
    "print('논리: 거짓 ->', False)  # False"
   ]
  },
  {
   "cell_type": "code",
   "execution_count": 4,
   "metadata": {},
   "outputs": [
    {
     "name": "stdout",
     "output_type": "stream",
     "text": [
      "함수:  <function func1 at 0x7fef00512d40>\n",
      "func1 실행..\n",
      "None: 널(null)의 의미 ->  None\n",
      "None: ->  True\n",
      "None: ->  False\n"
     ]
    }
   ],
   "source": [
    "# 함수\n",
    "def func1():\n",
    "    print('func1 실행..')\n",
    "\n",
    "print('함수: ', func1)  # <function func1 at 0x0000017BC39A5040(함수가 저장된 주소값)>\n",
    "func1()  # func1 실행..\n",
    "\n",
    "print('None: 널(null)의 의미 -> ', None)  # None\n",
    "print('None: -> ', None is None)  # True\n",
    "print('None: -> ', [10, 20] is None)  # False"
   ]
  },
  {
   "cell_type": "code",
   "execution_count": 5,
   "metadata": {},
   "outputs": [
    {
     "name": "stdout",
     "output_type": "stream",
     "text": [
      "문자열:  안녕하세요\n",
      "문자열:  안녕하세요\n",
      "문자열:  안녕하세요\n",
      "문자열:  안녕하세요\n"
     ]
    }
   ],
   "source": [
    "# 집합형 데이터 종류 및 표현(매우 중요 *****)\n",
    "# 1. 문자열\n",
    "print('문자열: ', '안녕하세요')\n",
    "print('문자열: ', \"안녕하세요\")\n",
    "print('문자열: ', '''안녕하세요''')\n",
    "print('문자열: ', \"\"\"안녕하세요\"\"\")"
   ]
  },
  {
   "cell_type": "code",
   "execution_count": 6,
   "metadata": {},
   "outputs": [
    {
     "data": {
      "text/plain": [
       "'\\n멀티 라인 주석\\n'"
      ]
     },
     "execution_count": 6,
     "metadata": {},
     "output_type": "execute_result"
    }
   ],
   "source": [
    "# 한 줄 주석\n",
    "\n",
    "'''\n",
    "멀티 라인 주석\n",
    "'''"
   ]
  },
  {
   "cell_type": "code",
   "execution_count": 7,
   "metadata": {},
   "outputs": [
    {
     "name": "stdout",
     "output_type": "stream",
     "text": [
      "He'llo\n",
      "c:\\aaa\n",
      "helloworld\n",
      "hello\tworld\n",
      "hello\n",
      "world\n"
     ]
    }
   ],
   "source": [
    "# 이스케이프(escape) 문자\n",
    "print('He\\'llo')  # He'llo\n",
    "print('c:\\\\aaa')  # c:\\aaa\n",
    "print('helloworld') # helloworld\n",
    "print('hello\\tworld')   # hello   world\n",
    "print('hello\\nworld')   # 줄바꿈"
   ]
  },
  {
   "cell_type": "code",
   "execution_count": 8,
   "metadata": {},
   "outputs": [
    {
     "name": "stdout",
     "output_type": "stream",
     "text": [
      "He\\'llo\n",
      "hello\\tworld\n"
     ]
    }
   ],
   "source": [
    "# 이스케이프(escape) 문자 비활성화 -> raw string\n",
    "print(r'He\\'llo')\n",
    "print(r'hello\\tworld')"
   ]
  },
  {
   "cell_type": "code",
   "execution_count": 9,
   "metadata": {},
   "outputs": [
    {
     "name": "stdout",
     "output_type": "stream",
     "text": [
      "c:\\path\n",
      "c:\\path\n"
     ]
    }
   ],
   "source": [
    "# 파일 경로 지정 방법\n",
    "print('c:\\\\path')\n",
    "print(r'c:\\path')   # 권장"
   ]
  },
  {
   "cell_type": "code",
   "execution_count": 10,
   "metadata": {},
   "outputs": [
    {
     "name": "stdout",
     "output_type": "stream",
     "text": [
      "리스트:  [10, 20, 30, 20, 30]\n",
      "리스트:  ['a', 'b', 'c']\n",
      "리스트:  ['a', 'b', 'c', 10, 20, 12.2, True]\n",
      "리스트:  []\n"
     ]
    }
   ],
   "source": [
    "# 2. 리스트(list) : 순서가 있음, 중복O, 값 변경 가능(mutable)\n",
    "print('리스트: ', [10, 20, 30, 20, 30])\n",
    "print('리스트: ', ['a', 'b', 'c'])\n",
    "print('리스트: ', ['a', 'b', 'c', 10, 20, 12.2, True])   # 서로 다른 타입의 데이터 저장 가능\n",
    "print('리스트: ', [])    # empty list"
   ]
  },
  {
   "cell_type": "code",
   "execution_count": 11,
   "metadata": {},
   "outputs": [
    {
     "name": "stdout",
     "output_type": "stream",
     "text": [
      "10\n",
      "[100, 20, 30, 20, 30]\n"
     ]
    }
   ],
   "source": [
    "num = [10, 20, 30, 20, 30]\n",
    "print(num[0])\n",
    "num[0] = 100\n",
    "print(num)"
   ]
  },
  {
   "cell_type": "code",
   "execution_count": 12,
   "metadata": {},
   "outputs": [
    {
     "name": "stdout",
     "output_type": "stream",
     "text": [
      "튜플:  (10, 20, 30, 40, 50)\n",
      "튜플:  ('a', 'b', 'c')\n",
      "튜플:  ()\n"
     ]
    }
   ],
   "source": [
    "# 3. 튜플(tuple) : 순서가 있음, 중복O, 값 변경 불가(immutable)\n",
    "print('튜플: ', (10, 20, 30, 40, 50))\n",
    "print('튜플: ', ('a', 'b', 'c'))\n",
    "print('튜플: ', tuple()) # empty tuple"
   ]
  },
  {
   "cell_type": "code",
   "execution_count": 13,
   "metadata": {},
   "outputs": [
    {
     "name": "stdout",
     "output_type": "stream",
     "text": [
      "40\n"
     ]
    }
   ],
   "source": [
    "num2 = (40, 50, 40, 60, 70)\n",
    "print(num2[0])  # 리스트의 요소 접근 방법은 [위치값], 위치값을 첨자(인덱스)라고 함\n",
    "# num2[0] = 100   # 값 변경 불가"
   ]
  },
  {
   "cell_type": "code",
   "execution_count": 14,
   "metadata": {},
   "outputs": [
    {
     "name": "stdout",
     "output_type": "stream",
     "text": [
      "10만 저장:  (10,) <class 'tuple'>\n",
      "10만 저장:  10 <class 'int'>\n"
     ]
    }
   ],
   "source": [
    "# 하나의 값만 가진 tuple 표현\n",
    "x = (10,)\n",
    "print('10만 저장: ', x, type(x))    # <class 'tuple'>\n",
    "y = (10)\n",
    "print('10만 저장: ', y, type(y))    # <class 'int'>"
   ]
  },
  {
   "cell_type": "code",
   "execution_count": 15,
   "metadata": {},
   "outputs": [
    {
     "name": "stdout",
     "output_type": "stream",
     "text": [
      "셋:  {10, 20, 30}\n",
      "셋:  {'b', 'c', 'a'}\n",
      "셋:  {(10, 20)}\n"
     ]
    }
   ],
   "source": [
    "# 4. 셋(set) : 순서가 없음, 중복X(중복값은 하나만 저장), immutable 값만 저장 가능\n",
    "print('셋: ', {10, 20, 30, 20, 30})\n",
    "print('셋: ', {'a', 'b', 'c'})\n",
    "print('셋: ', {(10, 20)})\n",
    "# print('셋 : ', {[10, 20]})    # 리스트는 mutable 하기 때문에 저장 불가"
   ]
  },
  {
   "cell_type": "code",
   "execution_count": 16,
   "metadata": {},
   "outputs": [
    {
     "name": "stdout",
     "output_type": "stream",
     "text": [
      "딕셔너리:  {'name': '홍길동', 'age': 20, 'address': '부산'}\n"
     ]
    }
   ],
   "source": [
    "# 5. 딕셔너리(dict) : key/value 로 저장, 순서가 없음, 값 변경 가능\n",
    "print('딕셔너리: ', {'name':'홍길동', 'age':20, 'address':'부산'})"
   ]
  },
  {
   "cell_type": "code",
   "execution_count": null,
   "metadata": {},
   "outputs": [],
   "source": []
  }
 ],
 "metadata": {
  "kernelspec": {
   "display_name": "Python 3",
   "language": "python",
   "name": "python3"
  },
  "language_info": {
   "codemirror_mode": {
    "name": "ipython",
    "version": 3
   },
   "file_extension": ".py",
   "mimetype": "text/x-python",
   "name": "python",
   "nbconvert_exporter": "python",
   "pygments_lexer": "ipython3",
   "version": "3.7.6"
  }
 },
 "nbformat": 4,
 "nbformat_minor": 4
}
