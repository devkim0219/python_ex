{
 "cells": [
  {
   "cell_type": "markdown",
   "metadata": {},
   "source": [
    "## 4. 변수\n",
    "- 용도: 기본형 데이터 및 참조형 데이터를 저장하는 용도\n",
    "- 문법\n",
    "    - 변수명 = 값\n",
    "    - 변수명 = 변수명 = 변수명 = 값\n",
    "    - 변수, 변수2 = 값, 값2 => tuple\n",
    "- 모든 변수는 참조형 변수이다. 즉, 변수에는 실제값이 저장된 위치값을 저장하고 있다. 따라서 위치값을 출력하기 위해서는 id(변수)를 사용한다.\n",
    "- type(변수)을 이용하여 변수의 데이터 타입 확인 가능\n",
    "- 변수명은 단어와 단어 사이에 _ 을 이용하는 스네이크 표기법을 권장\n",
    "- isinstance(변수, 타입)을 이용해서 타입을 비교한다."
   ]
  },
  {
   "cell_type": "code",
   "execution_count": 18,
   "metadata": {},
   "outputs": [
    {
     "name": "stdout",
     "output_type": "stream",
     "text": [
      "이름:  홍길동\n",
      "나이:  20\n",
      "주소:  부산\n",
      "결혼여부:  False\n",
      "이메일:  ['aaa@daum.net', 'aaa@naver.com']\n",
      "추가정보:  {'mobile': ['010', '011'], 'pet': ['강아지', '고양이']}\n"
     ]
    }
   ],
   "source": [
    "username = '홍길동'\n",
    "age = 20\n",
    "address = '부산'\n",
    "isMarried = False\n",
    "email = ['aaa@daum.net', 'aaa@naver.com']\n",
    "options = {\n",
    "    'mobile':['010', '011'],\n",
    "    'pet':['강아지', '고양이']\n",
    "}\n",
    "\n",
    "print('이름: ', username)\n",
    "print('나이: ', age)\n",
    "print('주소: ', address)\n",
    "print('결혼여부: ', isMarried)\n",
    "print('이메일: ', email)\n",
    "print('추가정보: ', options)"
   ]
  },
  {
   "cell_type": "code",
   "execution_count": 19,
   "metadata": {},
   "outputs": [
    {
     "name": "stdout",
     "output_type": "stream",
     "text": [
      "홍길동 140512125943696\n",
      "20 94432055227744\n",
      "부산 140512134766736\n"
     ]
    }
   ],
   "source": [
    "# 변수의 주소값 확인\n",
    "print(username, id(username))\n",
    "print(age, id(age))\n",
    "print(address, id(address))"
   ]
  },
  {
   "cell_type": "code",
   "execution_count": 6,
   "metadata": {},
   "outputs": [
    {
     "data": {
      "text/plain": [
       "(100, 300, 100)"
      ]
     },
     "execution_count": 6,
     "metadata": {},
     "output_type": "execute_result"
    }
   ],
   "source": [
    "# 동시에 변수 할당\n",
    "num = num2 = num3 = 100\n",
    "num2 = 300\n",
    "num, num2, num3"
   ]
  },
  {
   "cell_type": "code",
   "execution_count": 7,
   "metadata": {},
   "outputs": [
    {
     "data": {
      "text/plain": [
       "([100, 200, 300], [34, 61], [100, 200, 300])"
      ]
     },
     "execution_count": 7,
     "metadata": {},
     "output_type": "execute_result"
    }
   ],
   "source": [
    "num = num2 = num3 = [100, 200, 300]\n",
    "num2 = [34, 61]\n",
    "num, num2, num3"
   ]
  },
  {
   "cell_type": "code",
   "execution_count": 8,
   "metadata": {},
   "outputs": [
    {
     "data": {
      "text/plain": [
       "('홍길동', 20, '서울')"
      ]
     },
     "execution_count": 8,
     "metadata": {},
     "output_type": "execute_result"
    }
   ],
   "source": [
    "# 여러개의 값을 동시에 여러 변수에 저장 가능\n",
    "name, age, address = '홍길동', 20, '서울'    # tuple과 동일 ('홍길동', 20, '서울')\n",
    "name, age, address"
   ]
  },
  {
   "cell_type": "code",
   "execution_count": 11,
   "metadata": {},
   "outputs": [],
   "source": [
    "# _ 는 dummy varible(더미 변수)라고 함\n",
    "name, age, _ = ('홍길동', 20, '서울')"
   ]
  },
  {
   "cell_type": "code",
   "execution_count": 12,
   "metadata": {},
   "outputs": [
    {
     "name": "stdout",
     "output_type": "stream",
     "text": [
      "10 <class 'int'>\n",
      "3.15 <class 'float'>\n",
      "True <class 'bool'>\n",
      "None <class 'NoneType'>\n"
     ]
    }
   ],
   "source": [
    "# 타입 체크\n",
    "int_value = 10\n",
    "float_value = 3.15\n",
    "bool_value = True\n",
    "none_value = None\n",
    "\n",
    "print(int_value, type(int_value))\n",
    "print(float_value, type(float_value))\n",
    "print(bool_value, type(bool_value))\n",
    "print(none_value, type(none_value))"
   ]
  },
  {
   "cell_type": "code",
   "execution_count": 15,
   "metadata": {},
   "outputs": [
    {
     "name": "stdout",
     "output_type": "stream",
     "text": [
      "abcde <class 'str'>\n",
      "[10, 20, 30] <class 'list'>\n",
      "(2, 3, 4) <class 'tuple'>\n",
      "{1, 2, 3} <class 'set'>\n",
      "{'name': 'Kim', 'age': 20} <class 'dict'>\n"
     ]
    }
   ],
   "source": [
    "str_value = 'abcde'\n",
    "list_value = [10, 20, 30]\n",
    "tuple_value = (2, 3, 4)\n",
    "set_value = {1, 2, 3}\n",
    "dict_value = {'name': 'Kim', 'age': 20}\n",
    "\n",
    "print(str_value, type(str_value))\n",
    "print(list_value, type(list_value))\n",
    "print(tuple_value, type(tuple_value))\n",
    "print(set_value, type(set_value))\n",
    "print(dict_value, type(dict_value))"
   ]
  },
  {
   "cell_type": "code",
   "execution_count": 17,
   "metadata": {},
   "outputs": [
    {
     "name": "stdout",
     "output_type": "stream",
     "text": [
      "True\n",
      "True\n",
      "True\n",
      "True\n",
      "True\n",
      "True\n",
      "True\n",
      "True\n",
      "True\n"
     ]
    }
   ],
   "source": [
    "# 타입 비교\n",
    "print(isinstance(int_value, int))\n",
    "print(isinstance(float_value, float))\n",
    "print(isinstance(bool_value, bool))\n",
    "print(none_value is None)  # None은 is None 연산자를 이용\n",
    "print(isinstance(str_value, str))\n",
    "print(isinstance(list_value, list))\n",
    "print(isinstance(tuple_value, tuple))\n",
    "print(isinstance(set_value, set))\n",
    "print(isinstance(dict_value, dict))"
   ]
  },
  {
   "cell_type": "code",
   "execution_count": null,
   "metadata": {},
   "outputs": [],
   "source": []
  }
 ],
 "metadata": {
  "kernelspec": {
   "display_name": "Python 3",
   "language": "python",
   "name": "python3"
  },
  "language_info": {
   "codemirror_mode": {
    "name": "ipython",
    "version": 3
   },
   "file_extension": ".py",
   "mimetype": "text/x-python",
   "name": "python",
   "nbconvert_exporter": "python",
   "pygments_lexer": "ipython3",
   "version": "3.7.6"
  }
 },
 "nbformat": 4,
 "nbformat_minor": 4
}
