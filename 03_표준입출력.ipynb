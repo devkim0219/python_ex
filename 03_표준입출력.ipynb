{
 "cells": [
  {
   "cell_type": "markdown",
   "metadata": {},
   "source": [
    "## 표준 입력\n",
    "- 키보드로 입력\n",
    "- input() 함수 사용\n",
    "- 특정 함수의 사용 방법 알아보기\n",
    "    - help(함수명)\n",
    "- 입력받은 모든 데이터는 문자열(str)로 처리된다. 따라서 숫자로 변경해야 되는 경우는 int()로 변경하고 처리한다."
   ]
  },
  {
   "cell_type": "code",
   "execution_count": 11,
   "metadata": {},
   "outputs": [
    {
     "name": "stdout",
     "output_type": "stream",
     "text": [
      "Help on method raw_input in module ipykernel.kernelbase:\n",
      "\n",
      "raw_input(prompt='') method of ipykernel.ipkernel.IPythonKernel instance\n",
      "    Forward raw_input to frontends\n",
      "    \n",
      "    Raises\n",
      "    ------\n",
      "    StdinNotImplentedError if active frontend doesn't support stdin.\n",
      "\n"
     ]
    }
   ],
   "source": [
    "help(input)"
   ]
  },
  {
   "cell_type": "code",
   "execution_count": 14,
   "metadata": {},
   "outputs": [
    {
     "name": "stdin",
     "output_type": "stream",
     "text": [
      "이름입력: Kim\n",
      "나이입력: 20\n"
     ]
    }
   ],
   "source": [
    "name = input('이름입력:')\n",
    "age = input('나이입력:')"
   ]
  },
  {
   "cell_type": "code",
   "execution_count": 19,
   "metadata": {},
   "outputs": [
    {
     "name": "stdout",
     "output_type": "stream",
     "text": [
      "입력값:  Kim 21\n"
     ]
    }
   ],
   "source": [
    "print('입력값: ', name, int(age) + 1)"
   ]
  },
  {
   "cell_type": "markdown",
   "metadata": {},
   "source": [
    "## 표준 출력\n",
    "- 모니터로 출력\n",
    "- print() 함수 사용\n",
    "- 특정 함수의 사용 방법 알아보기\n",
    "    - help(함수명)"
   ]
  },
  {
   "cell_type": "code",
   "execution_count": 1,
   "metadata": {},
   "outputs": [
    {
     "name": "stdout",
     "output_type": "stream",
     "text": [
      "Help on built-in function print in module builtins:\n",
      "\n",
      "print(...)\n",
      "    print(value, ..., sep=' ', end='\\n', file=sys.stdout, flush=False)\n",
      "    \n",
      "    Prints the values to a stream, or to sys.stdout by default.\n",
      "    Optional keyword arguments:\n",
      "    file:  a file-like object (stream); defaults to the current sys.stdout.\n",
      "    sep:   string inserted between values, default a space.\n",
      "    end:   string appended after the last value, default a newline.\n",
      "    flush: whether to forcibly flush the stream.\n",
      "\n"
     ]
    }
   ],
   "source": [
    "help(print)"
   ]
  },
  {
   "cell_type": "code",
   "execution_count": 3,
   "metadata": {},
   "outputs": [
    {
     "name": "stdout",
     "output_type": "stream",
     "text": [
      "10 20 30\n"
     ]
    }
   ],
   "source": [
    "# 1. 값을 한번에 여러개 출력\n",
    "print(10, 20, 30)  # 공백으로 자동 구분"
   ]
  },
  {
   "cell_type": "code",
   "execution_count": 4,
   "metadata": {},
   "outputs": [],
   "source": [
    "# 2. sep = '' 재정의 가능"
   ]
  },
  {
   "cell_type": "code",
   "execution_count": 8,
   "metadata": {},
   "outputs": [
    {
     "name": "stdout",
     "output_type": "stream",
     "text": [
      "10,20,30\n",
      "10:20:30\n"
     ]
    }
   ],
   "source": [
    "print(10, 20, 30, sep=',')\n",
    "print(10, 20, 30, sep=':')"
   ]
  },
  {
   "cell_type": "code",
   "execution_count": 7,
   "metadata": {},
   "outputs": [
    {
     "name": "stdout",
     "output_type": "stream",
     "text": [
      "10\n",
      "20\n"
     ]
    }
   ],
   "source": [
    "# 3. 기본적으로 print 함수는 개행(new line)\n",
    "print(10)\n",
    "print(20)"
   ]
  },
  {
   "cell_type": "code",
   "execution_count": 9,
   "metadata": {},
   "outputs": [
    {
     "name": "stdout",
     "output_type": "stream",
     "text": [
      "10 20\n"
     ]
    }
   ],
   "source": [
    "# end = '\\n' 재정의 가능\n",
    "print(10, end=' ')\n",
    "print(20)"
   ]
  },
  {
   "cell_type": "code",
   "execution_count": 10,
   "metadata": {},
   "outputs": [
    {
     "name": "stdout",
     "output_type": "stream",
     "text": [
      "6,1,2\n",
      "\t24\n"
     ]
    }
   ],
   "source": [
    "print(6,1,2, sep=',', end='\\n\\t')\n",
    "print(24)"
   ]
  },
  {
   "cell_type": "markdown",
   "metadata": {},
   "source": [
    "## 표준 출력 + 포맷 지정\n",
    "- print('...{}, ...{}'.format(값1, 값2))\n",
    "- print('...{key}, ...{key2}'.format(key=값, key2=값))\n",
    "- print('...{0}, ...{1}, ...{key}'.format(값, 값2, key=값))"
   ]
  },
  {
   "cell_type": "code",
   "execution_count": 20,
   "metadata": {},
   "outputs": [],
   "source": [
    "name = '홍길동'\n",
    "age = 20"
   ]
  },
  {
   "cell_type": "code",
   "execution_count": 24,
   "metadata": {},
   "outputs": [
    {
     "name": "stdout",
     "output_type": "stream",
     "text": [
      "이름: 홍길동, 나이: 20\n"
     ]
    }
   ],
   "source": [
    "# 출력 포맷? -> 이름: 홍길동, 나이: 20\n",
    "print('이름: ' + name + ', 나이: ' + str(age))  # 권장하지 않음"
   ]
  },
  {
   "cell_type": "code",
   "execution_count": 27,
   "metadata": {},
   "outputs": [
    {
     "name": "stdout",
     "output_type": "stream",
     "text": [
      "이름: 홍길동, 나이: 20\n",
      "이름: 홍길동, 나이: 20\n",
      "이름: 20, 나이: 홍길동\n"
     ]
    }
   ],
   "source": [
    "# format 함수 사용\n",
    "print('이름: {0}, 나이: {1}'.format('홍길동', 20))\n",
    "print('이름: {}, 나이: {}'.format('홍길동', 20))\n",
    "print('이름: {1}, 나이: {0}'.format('홍길동', 20))"
   ]
  },
  {
   "cell_type": "code",
   "execution_count": 28,
   "metadata": {},
   "outputs": [
    {
     "name": "stdout",
     "output_type": "stream",
     "text": [
      "이름: 홍길동       , 나이: 20\n"
     ]
    }
   ],
   "source": [
    "# 문자열 길이 지정\n",
    "print('이름: {0:10s}, 나이: {1}'.format('홍길동', 20))"
   ]
  },
  {
   "cell_type": "code",
   "execution_count": 30,
   "metadata": {},
   "outputs": [
    {
     "name": "stdout",
     "output_type": "stream",
     "text": [
      "이름: 홍길동, 나이: 20\n"
     ]
    }
   ],
   "source": [
    "print('이름: {username}, 나이: {age}'.format(username='홍길동', age=20))"
   ]
  },
  {
   "cell_type": "code",
   "execution_count": 32,
   "metadata": {},
   "outputs": [
    {
     "name": "stdout",
     "output_type": "stream",
     "text": [
      "이름: 홍길동, 나이: 20, 주소: 서울\n"
     ]
    }
   ],
   "source": [
    "print('이름: {0}, 나이: {1}, 주소: {address}'.format('홍길동', 20, address='서울'))"
   ]
  },
  {
   "cell_type": "code",
   "execution_count": 43,
   "metadata": {},
   "outputs": [
    {
     "data": {
      "text/plain": [
       "'\\nunpacking\\n1. dict를 제외한 집합형의 분해는 *를 사용한다.\\n2. dict는 **를 사용한다.\\n'"
      ]
     },
     "execution_count": 43,
     "metadata": {},
     "output_type": "execute_result"
    }
   ],
   "source": [
    "'''\n",
    "unpacking\n",
    "1. dict를 제외한 집합형의 분해는 *를 사용한다.\n",
    "2. dict는 **를 사용한다.\n",
    "'''"
   ]
  },
  {
   "cell_type": "code",
   "execution_count": 34,
   "metadata": {},
   "outputs": [
    {
     "name": "stdout",
     "output_type": "stream",
     "text": [
      "홍길동\n",
      "홍 길 동\n",
      "[10, 20, 30]\n",
      "10 20 30\n"
     ]
    }
   ],
   "source": [
    "print('홍길동')\n",
    "print(*'홍길동')\n",
    "print([10, 20, 30])\n",
    "print(*[10, 20, 30])"
   ]
  },
  {
   "cell_type": "code",
   "execution_count": 40,
   "metadata": {},
   "outputs": [
    {
     "name": "stdout",
     "output_type": "stream",
     "text": [
      "A:B:C\n",
      "이름: 홍길동, 나이: 20\n"
     ]
    }
   ],
   "source": [
    "print('{}:{}:{}'.format(*'ABC'))\n",
    "print('이름: {0}, 나이: {1}'.format(*['홍길동', 20]))"
   ]
  },
  {
   "cell_type": "code",
   "execution_count": 42,
   "metadata": {},
   "outputs": [
    {
     "name": "stdout",
     "output_type": "stream",
     "text": [
      "이름:Kim, 나이:20\n"
     ]
    }
   ],
   "source": [
    "person = {'username':'Kim', 'age':20}\n",
    "print('이름:{username}, 나이:{age}'.format(**person))"
   ]
  },
  {
   "cell_type": "code",
   "execution_count": 49,
   "metadata": {},
   "outputs": [],
   "source": [
    "import datetime"
   ]
  },
  {
   "cell_type": "code",
   "execution_count": 51,
   "metadata": {},
   "outputs": [
    {
     "name": "stdout",
     "output_type": "stream",
     "text": [
      "2021-07-13 11:39:40\n"
     ]
    }
   ],
   "source": [
    "d = datetime.datetime(2021, 7, 13, 11, 39, 40)\n",
    "print(d)"
   ]
  },
  {
   "cell_type": "code",
   "execution_count": 52,
   "metadata": {},
   "outputs": [
    {
     "data": {
      "text/plain": [
       "\"\\nSQL\\nTO_CAHR(d, 'YYYY/MM/dd HH:MI:SS')\\n\""
      ]
     },
     "execution_count": 52,
     "metadata": {},
     "output_type": "execute_result"
    }
   ],
   "source": [
    "'''\n",
    "SQL\n",
    "TO_CAHR(d, 'YYYY/MM/dd HH:MI:SS')\n",
    "'''"
   ]
  },
  {
   "cell_type": "code",
   "execution_count": 53,
   "metadata": {},
   "outputs": [
    {
     "name": "stdout",
     "output_type": "stream",
     "text": [
      "2021-07-13 02:42:09.394548\n"
     ]
    }
   ],
   "source": [
    "# 현재 시간\n",
    "current_date = datetime.datetime.today()\n",
    "print(current_date)"
   ]
  },
  {
   "cell_type": "code",
   "execution_count": null,
   "metadata": {},
   "outputs": [],
   "source": [
    "# help('FORMATTING')"
   ]
  },
  {
   "cell_type": "code",
   "execution_count": 62,
   "metadata": {},
   "outputs": [
    {
     "name": "stdout",
     "output_type": "stream",
     "text": [
      "2021년 07월 13일 02:51:53\n"
     ]
    }
   ],
   "source": [
    "print('{:%Y년 %m월 %d일 %H:%M:%S}'.format(datetime.datetime.today()))"
   ]
  },
  {
   "cell_type": "code",
   "execution_count": 63,
   "metadata": {},
   "outputs": [
    {
     "data": {
      "text/plain": [
       "\"\\n수치 데이터 포맷 + 옵션\\n'{:옵션}'.format(수치값)\\n\""
      ]
     },
     "execution_count": 63,
     "metadata": {},
     "output_type": "execute_result"
    }
   ],
   "source": [
    "'''\n",
    "수치 데이터 포맷 + 옵션\n",
    "'{:옵션}'.format(수치값)\n",
    "'''"
   ]
  },
  {
   "cell_type": "code",
   "execution_count": 64,
   "metadata": {},
   "outputs": [
    {
     "name": "stdout",
     "output_type": "stream",
     "text": [
      "1234\n"
     ]
    }
   ],
   "source": [
    "print('{0}'.format(1234))"
   ]
  },
  {
   "cell_type": "code",
   "execution_count": 65,
   "metadata": {},
   "outputs": [
    {
     "name": "stdout",
     "output_type": "stream",
     "text": [
      "1234.000000\n"
     ]
    }
   ],
   "source": [
    "print('{0:f}'.format(1234))"
   ]
  },
  {
   "cell_type": "code",
   "execution_count": 67,
   "metadata": {},
   "outputs": [
    {
     "name": "stdout",
     "output_type": "stream",
     "text": [
      "1234.00\n",
      "1234.00\n"
     ]
    }
   ],
   "source": [
    "print('{0:.2f}'.format(1234))\n",
    "print('{:.2f}'.format(1234))"
   ]
  },
  {
   "cell_type": "code",
   "execution_count": 68,
   "metadata": {},
   "outputs": [
    {
     "name": "stdout",
     "output_type": "stream",
     "text": [
      "123,456,789\n"
     ]
    }
   ],
   "source": [
    "print('{0:,}'.format(123456789))"
   ]
  },
  {
   "cell_type": "code",
   "execution_count": 69,
   "metadata": {},
   "outputs": [
    {
     "name": "stdout",
     "output_type": "stream",
     "text": [
      "int: 10, bin: 1010, oct: 12, hex: a\n"
     ]
    }
   ],
   "source": [
    "# 진수표기\n",
    "print('int: {0}, bin: {0:b}, oct: {0:o}, hex: {0:x}'.format(10))"
   ]
  },
  {
   "cell_type": "code",
   "execution_count": 70,
   "metadata": {},
   "outputs": [
    {
     "data": {
      "text/plain": [
       "\"\\n이전 방식의 포맷 지정\\n'something' % (값, 값2, ...)\\n\\n%s : 문자열\\n%d : 정수\\n%f : 실수\\n%c : 문자하나\\n\""
      ]
     },
     "execution_count": 70,
     "metadata": {},
     "output_type": "execute_result"
    }
   ],
   "source": [
    "'''\n",
    "이전 방식의 포맷 지정\n",
    "'something' % (값, 값2, ...)\n",
    "\n",
    "%s : 문자열\n",
    "%d : 정수\n",
    "%f : 실수\n",
    "%c : 문자하나\n",
    "'''"
   ]
  },
  {
   "cell_type": "code",
   "execution_count": 73,
   "metadata": {},
   "outputs": [
    {
     "name": "stdout",
     "output_type": "stream",
     "text": [
      "이름: 홍길동\n",
      "이름: 홍길동, 나이: 20, 키: 185.20\n"
     ]
    }
   ],
   "source": [
    "print('이름: %s' % ('홍길동'))\n",
    "print('이름: %s, 나이: %d, 키: %.2f' % ('홍길동', 20, 185.2))"
   ]
  },
  {
   "cell_type": "code",
   "execution_count": null,
   "metadata": {},
   "outputs": [],
   "source": []
  }
 ],
 "metadata": {
  "kernelspec": {
   "display_name": "Python 3",
   "language": "python",
   "name": "python3"
  },
  "language_info": {
   "codemirror_mode": {
    "name": "ipython",
    "version": 3
   },
   "file_extension": ".py",
   "mimetype": "text/x-python",
   "name": "python",
   "nbconvert_exporter": "python",
   "pygments_lexer": "ipython3",
   "version": "3.7.6"
  }
 },
 "nbformat": 4,
 "nbformat_minor": 4
}
