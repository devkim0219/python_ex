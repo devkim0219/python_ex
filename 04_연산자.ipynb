{
 "cells": [
  {
   "cell_type": "markdown",
   "metadata": {},
   "source": [
    "## 산술 연산자"
   ]
  },
  {
   "cell_type": "code",
   "execution_count": 1,
   "metadata": {},
   "outputs": [
    {
     "name": "stdout",
     "output_type": "stream",
     "text": [
      "13\n",
      "7\n",
      "30\n",
      "3.3333333333333335\n",
      "1\n",
      "3\n",
      "1000\n"
     ]
    }
   ],
   "source": [
    "n = 10\n",
    "n2 = 3\n",
    "\n",
    "print(n + n2)\n",
    "print(n - n2)\n",
    "print(n * n2)\n",
    "print(n / n2)\n",
    "print(n % n2)\n",
    "print(n // n2)\n",
    "print(n ** n2)"
   ]
  },
  {
   "cell_type": "code",
   "execution_count": 2,
   "metadata": {},
   "outputs": [
    {
     "name": "stdout",
     "output_type": "stream",
     "text": [
      "(3, 1)\n"
     ]
    }
   ],
   "source": [
    "# 몫과 나머지를 한번에 반환 -> divmod(10, 3)\n",
    "result = divmod(10, 3)\n",
    "print(result)"
   ]
  },
  {
   "cell_type": "markdown",
   "metadata": {},
   "source": [
    "## 대입 연산자\n",
    "- 심화\n",
    "    - packing"
   ]
  },
  {
   "cell_type": "code",
   "execution_count": 10,
   "metadata": {},
   "outputs": [],
   "source": [
    "n = 10\n",
    "n2 = 3\n",
    "\n",
    "n += n2\n",
    "n -= n2\n",
    "n *= n2\n",
    "n /= n2\n",
    "n %= n2\n",
    "n //= n2"
   ]
  },
  {
   "cell_type": "code",
   "execution_count": 13,
   "metadata": {},
   "outputs": [
    {
     "name": "stdout",
     "output_type": "stream",
     "text": [
      "100 300 100\n"
     ]
    }
   ],
   "source": [
    "# 대입 연산자 심화\n",
    "\n",
    "# 1. 동시에 변수 할당\n",
    "num = num2 = num3 = 100\n",
    "num2 = 300\n",
    "print(num, num2, num3)"
   ]
  },
  {
   "cell_type": "code",
   "execution_count": 12,
   "metadata": {},
   "outputs": [
    {
     "name": "stdout",
     "output_type": "stream",
     "text": [
      "홍길동 20 서울\n"
     ]
    }
   ],
   "source": [
    "# 2. 여러개의 값을 동시에 여러 변수에 저장 가능\n",
    "name, age, address = '홍길동', 20, '서울'    # tuple과 동일 ('홍길동', 20, '서울')\n",
    "print(name, age, address)"
   ]
  },
  {
   "cell_type": "code",
   "execution_count": 14,
   "metadata": {},
   "outputs": [
    {
     "name": "stdout",
     "output_type": "stream",
     "text": [
      "200 100\n"
     ]
    }
   ],
   "source": [
    "# 문제) 다음 두 변수값을 change 하시오.\n",
    "v1, v2 = 100, 200\n",
    "v1, v2 = v2, v1\n",
    "print(v1, v2)"
   ]
  },
  {
   "cell_type": "code",
   "execution_count": 15,
   "metadata": {},
   "outputs": [
    {
     "name": "stdout",
     "output_type": "stream",
     "text": [
      "username age\n"
     ]
    }
   ],
   "source": [
    "# dict는 key값이 저장됨\n",
    "x, x2 = {'username': 'Kim', 'age':20}\n",
    "print(x, x2)"
   ]
  },
  {
   "cell_type": "code",
   "execution_count": 18,
   "metadata": {},
   "outputs": [
    {
     "name": "stdout",
     "output_type": "stream",
     "text": [
      "10 [20, 30]\n"
     ]
    }
   ],
   "source": [
    "# 변수와 값의 개수가 일치하지 않아도 되는 방법(변수 개수 < 값 개수)\n",
    "# packing\n",
    "n, *n2 = 10, 20, 30\n",
    "print(n, n2)"
   ]
  },
  {
   "cell_type": "code",
   "execution_count": 19,
   "metadata": {},
   "outputs": [
    {
     "name": "stdout",
     "output_type": "stream",
     "text": [
      "[10, 20] 30\n"
     ]
    }
   ],
   "source": [
    "*n, n2 = 10, 20, 30\n",
    "print(n, n2)"
   ]
  },
  {
   "cell_type": "code",
   "execution_count": 20,
   "metadata": {},
   "outputs": [
    {
     "name": "stdout",
     "output_type": "stream",
     "text": [
      "10 [20, 30]\n"
     ]
    }
   ],
   "source": [
    "n, *n2 = [10, 20, 30]\n",
    "print(n, n2)"
   ]
  },
  {
   "cell_type": "code",
   "execution_count": 21,
   "metadata": {},
   "outputs": [
    {
     "name": "stdout",
     "output_type": "stream",
     "text": [
      "username ['age', 'address']\n"
     ]
    }
   ],
   "source": [
    "x, *x2 = {'username':'Kim', 'age':20, 'address':'Seoul'}\n",
    "print(x, x2)"
   ]
  },
  {
   "cell_type": "markdown",
   "metadata": {},
   "source": [
    "## 비교 연산자\n",
    "- 실행결과는 논리값(True/False) 반환"
   ]
  },
  {
   "cell_type": "code",
   "execution_count": 24,
   "metadata": {},
   "outputs": [
    {
     "name": "stdout",
     "output_type": "stream",
     "text": [
      "False\n",
      "True\n",
      "True\n",
      "False\n",
      "False\n",
      "True\n"
     ]
    }
   ],
   "source": [
    "n = 10\n",
    "n2 = 5\n",
    "\n",
    "print(n == n2)\n",
    "print(n > n2)\n",
    "print(n >= n2)\n",
    "print(n < n2)\n",
    "print(n <= n2)\n",
    "print(n != n2)"
   ]
  },
  {
   "cell_type": "code",
   "execution_count": 25,
   "metadata": {},
   "outputs": [
    {
     "name": "stdout",
     "output_type": "stream",
     "text": [
      "False\n"
     ]
    }
   ],
   "source": [
    "# None 비교 -> is None 사용\n",
    "print([10] is None)"
   ]
  },
  {
   "cell_type": "markdown",
   "metadata": {},
   "source": [
    "### 비교 연산자 심화\n",
    "- == 연산자\n",
    "        -> 값만 비교\n",
    "- is 연산자\n",
    "        -> 주소값 비교"
   ]
  },
  {
   "cell_type": "code",
   "execution_count": 26,
   "metadata": {},
   "outputs": [
    {
     "name": "stdout",
     "output_type": "stream",
     "text": [
      "True\n",
      "True\n"
     ]
    }
   ],
   "source": [
    "n = [10, 20, 30]\n",
    "n2 = n\n",
    "print(n == n2)\n",
    "print(n is n2)"
   ]
  },
  {
   "cell_type": "code",
   "execution_count": 27,
   "metadata": {},
   "outputs": [
    {
     "name": "stdout",
     "output_type": "stream",
     "text": [
      "True\n",
      "False\n"
     ]
    }
   ],
   "source": [
    "# 복사본 생성\n",
    "n2 = n[:]\n",
    "print(n == n2)\n",
    "print(n is n2)"
   ]
  },
  {
   "cell_type": "code",
   "execution_count": 29,
   "metadata": {},
   "outputs": [
    {
     "name": "stdout",
     "output_type": "stream",
     "text": [
      "True\n"
     ]
    }
   ],
   "source": [
    "# 문제) num 값이 2보다 크거나 짝수값인가?\n",
    "num = 10\n",
    "print(num > 2 or num % 2 == 0)"
   ]
  },
  {
   "cell_type": "markdown",
   "metadata": {},
   "source": [
    "## 논리 연산자\n",
    "- and, or, not\n",
    "- True, False 외의 모든 값을 논리값으로 처리할 수 있다.\n",
    "- False로 처리되는 값: 0, '', None, [], (), {} -> 이외의 값은 모두 True\n",
    "- 논리값으로 변경 : bool(값)"
   ]
  },
  {
   "cell_type": "code",
   "execution_count": 30,
   "metadata": {},
   "outputs": [
    {
     "name": "stdout",
     "output_type": "stream",
     "text": [
      "0\n",
      "0\n"
     ]
    }
   ],
   "source": [
    "# 논리값(True/False)이 아닌 값으로 논리연산자(and, or, not)를 사용 가능\n",
    "\n",
    "# and : 왼쪽 값이 참이면 오른쪽 값을 반환, 왼쪽 값이 거짓이면 왼쪽 값을 반환\n",
    "# 논리값이 최종적으로 정해지는 값을 반환\n",
    "print('123' and 0)\n",
    "print(0 and 123)"
   ]
  },
  {
   "cell_type": "code",
   "execution_count": 32,
   "metadata": {},
   "outputs": [
    {
     "name": "stdout",
     "output_type": "stream",
     "text": [
      "123\n",
      "123\n"
     ]
    }
   ],
   "source": [
    "# or : 왼쪽 값이 참이면 왼쪽 값을 반환, 왼쪽 값이 거짓이면 오른쪽 값을 반환\n",
    "# 논리값이 최종적으로 정해지는 값을 반환\n",
    "print('123' or 0)\n",
    "print(0 or 123)"
   ]
  },
  {
   "cell_type": "markdown",
   "metadata": {},
   "source": [
    "## Bitwise 연산자\n",
    "- 비트끼리 연산 : &, |, ^, <<"
   ]
  },
  {
   "cell_type": "code",
   "execution_count": 35,
   "metadata": {},
   "outputs": [
    {
     "name": "stdout",
     "output_type": "stream",
     "text": [
      "8 0b1000\n",
      "11 0b1011\n",
      "3 0b11\n",
      "16384 0b100000000000000\n"
     ]
    }
   ],
   "source": [
    "n = 8\n",
    "n2 = 11\n",
    "\n",
    "print(n & n2, bin(n & n2))\n",
    "print(n | n2, bin(n | n2))\n",
    "print(n ^ n2, bin(n ^ n2))\n",
    "print(n << n2, bin(n << n2))"
   ]
  },
  {
   "cell_type": "markdown",
   "metadata": {},
   "source": [
    "## 멤버쉽 연산자\n",
    "- dict를 제외한 집합형\n",
    "    - 집합형에서 임의의 값 존재여부 확인 -> 존재하면 True, 없으면 False 반환\n",
    "    - 값 in 집합형\n",
    "- dict\n",
    "    - dict에서 임의의 key 존재여부 확인"
   ]
  },
  {
   "cell_type": "code",
   "execution_count": 36,
   "metadata": {},
   "outputs": [
    {
     "name": "stdout",
     "output_type": "stream",
     "text": [
      "True\n",
      "False\n",
      "True\n",
      "False\n"
     ]
    }
   ],
   "source": [
    "n = [10, 20, 30]\n",
    "\n",
    "result = 10 in n\n",
    "print(result)\n",
    "\n",
    "result = 100 in n\n",
    "print(result)\n",
    "\n",
    "m = 'hello'\n",
    "print('h' in m)\n",
    "print('x' in m)"
   ]
  },
  {
   "cell_type": "code",
   "execution_count": 38,
   "metadata": {},
   "outputs": [
    {
     "name": "stdout",
     "output_type": "stream",
     "text": [
      "True\n",
      "False\n"
     ]
    }
   ],
   "source": [
    "person = {'username':'Kim', age:20}\n",
    "print('username' in person)\n",
    "print('email' in person)"
   ]
  }
 ],
 "metadata": {
  "kernelspec": {
   "display_name": "Python 3",
   "language": "python",
   "name": "python3"
  },
  "language_info": {
   "codemirror_mode": {
    "name": "ipython",
    "version": 3
   },
   "file_extension": ".py",
   "mimetype": "text/x-python",
   "name": "python",
   "nbconvert_exporter": "python",
   "pygments_lexer": "ipython3",
   "version": "3.7.6"
  }
 },
 "nbformat": 4,
 "nbformat_minor": 4
}
