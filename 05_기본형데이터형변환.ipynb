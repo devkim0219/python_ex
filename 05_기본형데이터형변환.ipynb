{
 "cells": [
  {
   "cell_type": "markdown",
   "metadata": {},
   "source": [
    "## 기본형 데이터 형변환\n",
    "- int(값)\n",
    "- float(값)\n",
    "- bool(값)\n",
    "- str(값)\n",
    "- ord('a'), chr(97)"
   ]
  },
  {
   "cell_type": "code",
   "execution_count": 3,
   "metadata": {},
   "outputs": [
    {
     "name": "stdout",
     "output_type": "stream",
     "text": [
      "3\n",
      "-3\n",
      "1\n",
      "0\n",
      "10\n",
      "10\n"
     ]
    }
   ],
   "source": [
    "# 1. int로 변환 -> int(값)\n",
    "print(int(3.5))\n",
    "print(int(-3.5))\n",
    "print(int(True))\n",
    "print(int(False))\n",
    "print(int('10'))\n",
    "# print(int('AAA'))  # ValueError: invalid literal for int() with base 10: 'AAA'\n",
    "print(int('   10'))  # 공백 제거"
   ]
  },
  {
   "cell_type": "code",
   "execution_count": 4,
   "metadata": {},
   "outputs": [
    {
     "name": "stdout",
     "output_type": "stream",
     "text": [
      "10.0\n",
      "-10.0\n",
      "1.0\n",
      "0.0\n"
     ]
    }
   ],
   "source": [
    "# 2. float으로 변환 -> float(값)\n",
    "print(float(10))\n",
    "print(float(-10))\n",
    "print(float(True))\n",
    "print(float(False))"
   ]
  },
  {
   "cell_type": "code",
   "execution_count": null,
   "metadata": {},
   "outputs": [],
   "source": [
    "# 3. 논리형으로 변환 -> bool(값)"
   ]
  },
  {
   "cell_type": "code",
   "execution_count": null,
   "metadata": {},
   "outputs": [],
   "source": [
    "# 4. 문자열 -> str(값)"
   ]
  },
  {
   "cell_type": "code",
   "execution_count": 8,
   "metadata": {},
   "outputs": [
    {
     "name": "stdout",
     "output_type": "stream",
     "text": [
      "97 65\n",
      "a A\n"
     ]
    }
   ],
   "source": [
    "# 5. 아스키코드 -> 문자, 문자 -> 아스키코드\n",
    "print(ord('a'), ord('A'))\n",
    "print(chr(97), chr(65))"
   ]
  },
  {
   "cell_type": "code",
   "execution_count": null,
   "metadata": {},
   "outputs": [],
   "source": []
  }
 ],
 "metadata": {
  "kernelspec": {
   "display_name": "Python 3",
   "language": "python",
   "name": "python3"
  },
  "language_info": {
   "codemirror_mode": {
    "name": "ipython",
    "version": 3
   },
   "file_extension": ".py",
   "mimetype": "text/x-python",
   "name": "python",
   "nbconvert_exporter": "python",
   "pygments_lexer": "ipython3",
   "version": "3.7.6"
  }
 },
 "nbformat": 4,
 "nbformat_minor": 4
}
