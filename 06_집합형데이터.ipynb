{
 "cells": [
  {
   "cell_type": "markdown",
   "metadata": {},
   "source": [
    "## 집합형 데이터\n",
    "### 1. 문자열 생성"
   ]
  },
  {
   "cell_type": "code",
   "execution_count": 2,
   "metadata": {},
   "outputs": [
    {
     "name": "stdout",
     "output_type": "stream",
     "text": [
      "aasadwqqegwgrerjrklajsdlkjsdflksajdlksjadlksdja asadwqqegwgrerjrklajsdlkjsdflksajdlksjadlksdjaasadw qqegwgrerjrklajsdlkjsdflksajdlksjadlksdjaasadwqqegwg rerjrklajsdlkjsdflksajdlksjadlksdjaasadwqqegwgrerjrk lajsdlkjsdflksajdlksjadlksdjaasadwqqegwgrerjrklajsdlk jsdflksajdlksjadlksdjaasadwqqegwgrerjrklajsdlkjsdflks ajdlksjadlksdjaasadwqqegwgrerjrklajsdlkjsdflksajdlksj adlksdjaasadwqqegwgrerjrklajsdlkjsdflksajdlksjadlksdj aasadwqqegwgrerjrklajsdlkjsdflksajdlksjadlksdjaasadwq qegwgrerjrklajsdlkjsdflksajdlksjadlksdj\n",
      "aasadwqqegwgrerjrklajsdlkjsdflksajdlksjadlksdjaas\n",
      "adwqqegwgrerjrklajsdlkjsdflksajdlksjadlksdjaasadwqqeg\n",
      "wgrerjrklajsdlkjsdflksajdlksjadlksdjaasadwqqegwgrerjr\n",
      "klajsdlkjsdflksajdlksjadlksdjaasadwqqegwgrerjrklajsd\n",
      "kjsdflksajdlksjadlksdjaasadwqqegwgrerjrklajsdlkjsdflk\n",
      "sajdlksjadlksdjaasadwqqegwgrerjrklajsdlkjsdflksajdlksja\n",
      "dlksdjaasadwqqegwgrerjrklajsdlkjsdflksajdlksjadlksdjaasa\n",
      "dwqqegwgrerjrklajsdlkjsdflksajdlksjadlksdjaasadwqqegwgrer\n",
      "rklajsdlkjsdflksajdlksjadlksdjaasadwqqegwgrerjrklajsdlkjsd\n",
      "flksajdlksjadlksdjaasadwqqegwgrerjrklajsdlkjsdflksajdlksjadlksdj\n"
     ]
    }
   ],
   "source": [
    "# triple 사용 용도\n",
    "'''\n",
    "멀티 라인 주석\n",
    "'''\n",
    "x = 'aasadwqqegwgrerjrklajsdlkjsdflksajdlksjadlksdja \\\n",
    "asadwqqegwgrerjrklajsdlkjsdflksajdlksjadlksdjaasadw \\\n",
    "qqegwgrerjrklajsdlkjsdflksajdlksjadlksdjaasadwqqegwg \\\n",
    "rerjrklajsdlkjsdflksajdlksjadlksdjaasadwqqegwgrerjrk \\\n",
    "lajsdlkjsdflksajdlksjadlksdjaasadwqqegwgrerjrklajsdlk \\\n",
    "jsdflksajdlksjadlksdjaasadwqqegwgrerjrklajsdlkjsdflks \\\n",
    "ajdlksjadlksdjaasadwqqegwgrerjrklajsdlkjsdflksajdlksj \\\n",
    "adlksdjaasadwqqegwgrerjrklajsdlkjsdflksajdlksjadlksdj \\\n",
    "aasadwqqegwgrerjrklajsdlkjsdflksajdlksjadlksdjaasadwq \\\n",
    "qegwgrerjrklajsdlkjsdflksajdlksjadlksdj'\n",
    "x2 = '''aasadwqqegwgrerjrklajsdlkjsdflksajdlksjadlksdjaas\n",
    "adwqqegwgrerjrklajsdlkjsdflksajdlksjadlksdjaasadwqqeg\n",
    "wgrerjrklajsdlkjsdflksajdlksjadlksdjaasadwqqegwgrerjr\n",
    "klajsdlkjsdflksajdlksjadlksdjaasadwqqegwgrerjrklajsd\n",
    "kjsdflksajdlksjadlksdjaasadwqqegwgrerjrklajsdlkjsdflk\n",
    "sajdlksjadlksdjaasadwqqegwgrerjrklajsdlkjsdflksajdlksja\n",
    "dlksdjaasadwqqegwgrerjrklajsdlkjsdflksajdlksjadlksdjaasa\n",
    "dwqqegwgrerjrklajsdlkjsdflksajdlksjadlksdjaasadwqqegwgrer\n",
    "rklajsdlkjsdflksajdlksjadlksdjaasadwqqegwgrerjrklajsdlkjsd\n",
    "flksajdlksjadlksdjaasadwqqegwgrerjrklajsdlkjsdflksajdlksjadlksdj'''\n",
    "\n",
    "print(x)\n",
    "print(x2)"
   ]
  },
  {
   "cell_type": "markdown",
   "metadata": {},
   "source": [
    "### 2. 문자열 함수\n",
    "    - 문자열.함수()\n",
    "- Built-in의 함수\n",
    "    - len()\n",
    "    - int(), str(), input(), print(), bool(), ..."
   ]
  },
  {
   "cell_type": "code",
   "execution_count": 3,
   "metadata": {},
   "outputs": [
    {
     "name": "stdout",
     "output_type": "stream",
     "text": [
      "문자열 길이:  8\n"
     ]
    }
   ],
   "source": [
    "s = 'sequence'\n",
    "\n",
    "print('문자열 길이: ', len(s))"
   ]
  },
  {
   "cell_type": "code",
   "execution_count": 4,
   "metadata": {},
   "outputs": [
    {
     "name": "stdout",
     "output_type": "stream",
     "text": [
      "특정문자의 개수:  3\n"
     ]
    }
   ],
   "source": [
    "print('특정문자의 개수: ', s.count('e'))"
   ]
  },
  {
   "cell_type": "code",
   "execution_count": 5,
   "metadata": {},
   "outputs": [
    {
     "name": "stdout",
     "output_type": "stream",
     "text": [
      "첫글자를 대문자로:  Sequence\n"
     ]
    }
   ],
   "source": [
    "print('첫글자를 대문자로: ', s.capitalize())"
   ]
  },
  {
   "cell_type": "code",
   "execution_count": 6,
   "metadata": {},
   "outputs": [
    {
     "name": "stdout",
     "output_type": "stream",
     "text": [
      "대문자로:  SEQUENCE\n"
     ]
    }
   ],
   "source": [
    "print('대문자로: ', s.upper())"
   ]
  },
  {
   "cell_type": "code",
   "execution_count": 7,
   "metadata": {},
   "outputs": [
    {
     "name": "stdout",
     "output_type": "stream",
     "text": [
      "소문자로:  sequence\n"
     ]
    }
   ],
   "source": [
    "s2 = 'SEQUENCE'\n",
    "print('소문자로: ', s2.lower())"
   ]
  },
  {
   "cell_type": "code",
   "execution_count": 9,
   "metadata": {},
   "outputs": [
    {
     "name": "stdout",
     "output_type": "stream",
     "text": [
      "swap 문자:  SEQUENCE\n"
     ]
    }
   ],
   "source": [
    "print('swap 문자: ', s.swapcase())  # 대 -> 소, 소 -> 대"
   ]
  },
  {
   "cell_type": "code",
   "execution_count": 11,
   "metadata": {},
   "outputs": [
    {
     "name": "stdout",
     "output_type": "stream",
     "text": [
      "lstrip:  Hello      10\n"
     ]
    }
   ],
   "source": [
    "# 공백 제거\n",
    "x = '     Hello     '\n",
    "print('lstrip: ', x.lstrip(), len(x.lstrip()))"
   ]
  },
  {
   "cell_type": "code",
   "execution_count": 12,
   "metadata": {},
   "outputs": [
    {
     "name": "stdout",
     "output_type": "stream",
     "text": [
      "rstrip:       Hello 10\n"
     ]
    }
   ],
   "source": [
    "print('rstrip: ', x.rstrip(), len(x.rstrip()))"
   ]
  },
  {
   "cell_type": "code",
   "execution_count": 13,
   "metadata": {},
   "outputs": [
    {
     "name": "stdout",
     "output_type": "stream",
     "text": [
      "strip:  Hello 5\n"
     ]
    }
   ],
   "source": [
    "print('strip: ', x.strip(), len(x.strip()))"
   ]
  },
  {
   "cell_type": "code",
   "execution_count": 14,
   "metadata": {},
   "outputs": [
    {
     "name": "stdout",
     "output_type": "stream",
     "text": [
      "lstrip H문자 제거 elHloHHHH\n"
     ]
    }
   ],
   "source": [
    "# 특정문자 제거\n",
    "x = 'HHHHHHelHloHHHH'\n",
    "print('lstrip H문자 제거', x.lstrip('H'))"
   ]
  },
  {
   "cell_type": "code",
   "execution_count": 15,
   "metadata": {},
   "outputs": [
    {
     "name": "stdout",
     "output_type": "stream",
     "text": [
      "rstrip H문자 제거 HHHHHHelHlo\n"
     ]
    }
   ],
   "source": [
    "print('rstrip H문자 제거', x.rstrip('H'))"
   ]
  },
  {
   "cell_type": "code",
   "execution_count": 16,
   "metadata": {},
   "outputs": [
    {
     "name": "stdout",
     "output_type": "stream",
     "text": [
      "문자열 변경:  Aello\n"
     ]
    }
   ],
   "source": [
    "print('문자열 변경: ', 'Hello'.replace('H', 'A'))"
   ]
  },
  {
   "cell_type": "code",
   "execution_count": 18,
   "metadata": {},
   "outputs": [
    {
     "name": "stdout",
     "output_type": "stream",
     "text": [
      "구분자로 분리:  ['홍길동', '이순신', '유관순']\n"
     ]
    }
   ],
   "source": [
    "x = '홍길동/이순신/유관순'\n",
    "result = x.split('/')\n",
    "print('구분자로 분리: ', result)"
   ]
  },
  {
   "cell_type": "code",
   "execution_count": 20,
   "metadata": {},
   "outputs": [
    {
     "name": "stdout",
     "output_type": "stream",
     "text": [
      "특정 문자 시작 여부:  True\n",
      "특정 문자 시작 여부:  False\n"
     ]
    }
   ],
   "source": [
    "print('특정 문자 시작 여부: ', 'Hello'.startswith('H'))\n",
    "print('특정 문자 시작 여부: ', 'Hello'.startswith('F'))"
   ]
  },
  {
   "cell_type": "code",
   "execution_count": 23,
   "metadata": {},
   "outputs": [
    {
     "name": "stdout",
     "output_type": "stream",
     "text": [
      "특정 문자 종료 여부:  True\n",
      "특정 문자 종료 여부:  False\n"
     ]
    }
   ],
   "source": [
    "print('특정 문자 종료 여부: ', 'Hello'.endswith('o'))\n",
    "print('특정 문자 종료 여부: ', 'Hello'.endswith('a'))"
   ]
  },
  {
   "cell_type": "code",
   "execution_count": 24,
   "metadata": {},
   "outputs": [
    {
     "name": "stdout",
     "output_type": "stream",
     "text": [
      "특정 문자 위치:  1\n"
     ]
    }
   ],
   "source": [
    "print('특정 문자 위치: ', 'Hello'.find('e'))"
   ]
  },
  {
   "cell_type": "code",
   "execution_count": 25,
   "metadata": {},
   "outputs": [
    {
     "name": "stdout",
     "output_type": "stream",
     "text": [
      "특정 문자 위치:  -1\n"
     ]
    }
   ],
   "source": [
    "print('특정 문자 위치: ', 'Hello'.find('x'))"
   ]
  },
  {
   "cell_type": "code",
   "execution_count": 27,
   "metadata": {},
   "outputs": [
    {
     "name": "stdout",
     "output_type": "stream",
     "text": [
      "특정 문자 위치:  3\n"
     ]
    }
   ],
   "source": [
    "print('특정 문자 위치: ', 'Hello'.rfind('l'))"
   ]
  },
  {
   "cell_type": "code",
   "execution_count": 28,
   "metadata": {},
   "outputs": [
    {
     "name": "stdout",
     "output_type": "stream",
     "text": [
      "center 패딩:  **Hello***\n"
     ]
    }
   ],
   "source": [
    "# sql 패딩 역할 -> center, rjust, ljust\n",
    "print('center 패딩: ', 'Hello'.center(20, '*'))"
   ]
  },
  {
   "cell_type": "code",
   "execution_count": 29,
   "metadata": {},
   "outputs": [
    {
     "name": "stdout",
     "output_type": "stream",
     "text": [
      "center 패딩:  ***************Hello\n"
     ]
    }
   ],
   "source": [
    "print('center 패딩: ', 'Hello'.rjust(20, '*'))"
   ]
  },
  {
   "cell_type": "code",
   "execution_count": 30,
   "metadata": {},
   "outputs": [
    {
     "name": "stdout",
     "output_type": "stream",
     "text": [
      "center 패딩:  Hello***************\n"
     ]
    }
   ],
   "source": [
    "print('center 패딩: ', 'Hello'.ljust(20, '*'))"
   ]
  },
  {
   "cell_type": "code",
   "execution_count": 31,
   "metadata": {},
   "outputs": [
    {
     "name": "stdout",
     "output_type": "stream",
     "text": [
      "집합형의 값을 특정 문자와 연결:  a와 b와 c\n"
     ]
    }
   ],
   "source": [
    "# 집합형의 값을 특정 문자와 연결\n",
    "# ['A', 'B', 'C'] == A와 B와 C\n",
    "print('집합형의 값을 특정 문자와 연결: ', '와 '.join(['a', 'b', 'c']))"
   ]
  },
  {
   "cell_type": "code",
   "execution_count": 34,
   "metadata": {},
   "outputs": [
    {
     "name": "stdout",
     "output_type": "stream",
     "text": [
      "문자로만 구성:  True\n",
      "문자로만 구성:  False\n"
     ]
    }
   ],
   "source": [
    "# 문자/숫자 여부 확인\n",
    "print('문자로만 구성: ', 'Hello'.isalpha())\n",
    "print('문자로만 구성: ', 'Hello123'.isalpha())"
   ]
  },
  {
   "cell_type": "code",
   "execution_count": 35,
   "metadata": {},
   "outputs": [
    {
     "name": "stdout",
     "output_type": "stream",
     "text": [
      "숫자로만 구성:  True\n",
      "숫자로만 구성:  False\n"
     ]
    }
   ],
   "source": [
    "print('숫자로만 구성: ', '9874'.isnumeric())\n",
    "print('숫자로만 구성: ', 'Hello414'.isnumeric())"
   ]
  },
  {
   "cell_type": "markdown",
   "metadata": {},
   "source": [
    " ### 3. 문자열 색인\n",
    " - 위치값(index, 첨자)을 사용\n",
    " - 인덱싱 : 하나만 참조\n",
    "     - 문자열[index]\n",
    " - 슬라이싱 : 범위 참조\n",
    "     - 문자열[start : end : step]"
   ]
  },
  {
   "cell_type": "code",
   "execution_count": 36,
   "metadata": {},
   "outputs": [
    {
     "name": "stdout",
     "output_type": "stream",
     "text": [
      "대 한\n"
     ]
    }
   ],
   "source": [
    "s = '대한민국'\n",
    "\n",
    "# 1. 인덱싱\n",
    "print(s[0], s[1])"
   ]
  },
  {
   "cell_type": "code",
   "execution_count": 37,
   "metadata": {},
   "outputs": [
    {
     "name": "stdout",
     "output_type": "stream",
     "text": [
      "국 민\n"
     ]
    }
   ],
   "source": [
    "print(s[-1], s[-2])"
   ]
  },
  {
   "cell_type": "code",
   "execution_count": 39,
   "metadata": {},
   "outputs": [
    {
     "name": "stdout",
     "output_type": "stream",
     "text": [
      "대한민\n"
     ]
    }
   ],
   "source": [
    "# 2. 슬라이싱\n",
    "print(s[0:3])"
   ]
  },
  {
   "cell_type": "code",
   "execution_count": 41,
   "metadata": {},
   "outputs": [
    {
     "name": "stdout",
     "output_type": "stream",
     "text": [
      "대한민\n"
     ]
    }
   ],
   "source": [
    "print(s[:3])"
   ]
  },
  {
   "cell_type": "code",
   "execution_count": 43,
   "metadata": {},
   "outputs": [
    {
     "name": "stdout",
     "output_type": "stream",
     "text": [
      "한민\n"
     ]
    }
   ],
   "source": [
    "print(s[1:3])"
   ]
  },
  {
   "cell_type": "code",
   "execution_count": 44,
   "metadata": {},
   "outputs": [
    {
     "name": "stdout",
     "output_type": "stream",
     "text": [
      "한민국\n"
     ]
    }
   ],
   "source": [
    "print(s[1:])"
   ]
  },
  {
   "cell_type": "code",
   "execution_count": 45,
   "metadata": {},
   "outputs": [
    {
     "name": "stdout",
     "output_type": "stream",
     "text": [
      "대한민국\n"
     ]
    }
   ],
   "source": [
    "print(s[:])"
   ]
  },
  {
   "cell_type": "code",
   "execution_count": 46,
   "metadata": {},
   "outputs": [
    {
     "name": "stdout",
     "output_type": "stream",
     "text": [
      "한민\n"
     ]
    }
   ],
   "source": [
    "print(s[-3:-1])"
   ]
  },
  {
   "cell_type": "code",
   "execution_count": 47,
   "metadata": {},
   "outputs": [
    {
     "name": "stdout",
     "output_type": "stream",
     "text": [
      "한민국\n"
     ]
    }
   ],
   "source": [
    "print(s[-3:])"
   ]
  },
  {
   "cell_type": "code",
   "execution_count": 48,
   "metadata": {},
   "outputs": [
    {
     "name": "stdout",
     "output_type": "stream",
     "text": [
      "파썬 우 습다\n"
     ]
    }
   ],
   "source": [
    "s = '파이썬을 배우고 있습니다.'\n",
    "\n",
    "print(s[::2])"
   ]
  },
  {
   "cell_type": "code",
   "execution_count": 49,
   "metadata": {},
   "outputs": [
    {
     "name": "stdout",
     "output_type": "stream",
     "text": [
      ".다니습있 고우배 을썬이파\n"
     ]
    }
   ],
   "source": [
    "print(s[::-1])"
   ]
  },
  {
   "cell_type": "markdown",
   "metadata": {},
   "source": [
    "### 4. 문자열 종류\n",
    "- 유니코드 표현 : 일반적으로 사용되는 표현\n",
    "- bytes 표현 : 네트워크를 이용해서 가져왔을 때\n",
    "- 서로 변환 작업 필요"
   ]
  },
  {
   "cell_type": "code",
   "execution_count": 50,
   "metadata": {},
   "outputs": [
    {
     "name": "stdout",
     "output_type": "stream",
     "text": [
      "b'abcde' <class 'bytes'>\n"
     ]
    }
   ],
   "source": [
    "# 1. bytes 표현(binary)\n",
    "n = b'abcde'\n",
    "print(n, type(n))"
   ]
  },
  {
   "cell_type": "code",
   "execution_count": 51,
   "metadata": {},
   "outputs": [
    {
     "name": "stdout",
     "output_type": "stream",
     "text": [
      "abcde <class 'str'>\n"
     ]
    }
   ],
   "source": [
    "n2 = 'abcde'\n",
    "print(n2, type(n2))"
   ]
  },
  {
   "cell_type": "code",
   "execution_count": 53,
   "metadata": {},
   "outputs": [
    {
     "name": "stdout",
     "output_type": "stream",
     "text": [
      "bytes로 변환:  b'abcde \\xec\\x95\\x88\\xeb\\x85\\x95\\xed\\x95\\x98\\xec\\x84\\xb8\\xec\\x9a\\x94'\n"
     ]
    }
   ],
   "source": [
    "# 2. 변환\n",
    "s = 'abcde 안녕하세요'\n",
    "s_bytes = s.encode('utf-8')\n",
    "print('bytes로 변환: ', s_bytes)"
   ]
  },
  {
   "cell_type": "code",
   "execution_count": 55,
   "metadata": {},
   "outputs": [
    {
     "name": "stdout",
     "output_type": "stream",
     "text": [
      "unicode로 변환:  abcde 안녕하세요\n"
     ]
    }
   ],
   "source": [
    "s_uni = s_bytes.decode('utf-8')\n",
    "print('unicode로 변환: ', s_uni)"
   ]
  },
  {
   "cell_type": "code",
   "execution_count": 1,
   "metadata": {},
   "outputs": [],
   "source": [
    "a = 'is'\n",
    "b = 'nice'\n",
    "my_list = ['my', 'list', a, b]\n",
    "my_list2 = [[4, 5, 6, 7], [3, 4, 5, 6]]"
   ]
  },
  {
   "cell_type": "code",
   "execution_count": null,
   "metadata": {},
   "outputs": [],
   "source": []
  }
 ],
 "metadata": {
  "kernelspec": {
   "display_name": "Python 3",
   "language": "python",
   "name": "python3"
  },
  "language_info": {
   "codemirror_mode": {
    "name": "ipython",
    "version": 3
   },
   "file_extension": ".py",
   "mimetype": "text/x-python",
   "name": "python",
   "nbconvert_exporter": "python",
   "pygments_lexer": "ipython3",
   "version": "3.7.6"
  }
 },
 "nbformat": 4,
 "nbformat_minor": 4
}
