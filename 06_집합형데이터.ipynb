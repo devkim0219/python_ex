{
 "cells": [
  {
   "cell_type": "markdown",
   "metadata": {},
   "source": [
    "# 집합형 데이터\n",
    "## 문자열\n",
    "### 1. 생성\n",
    "- ' ', \" \", ''' ''', \"\"\" \"\"\"\n",
    "- str() 함수"
   ]
  },
  {
   "cell_type": "code",
   "execution_count": 2,
   "metadata": {},
   "outputs": [
    {
     "name": "stdout",
     "output_type": "stream",
     "text": [
      "aasadwqqegwgrerjrklajsdlkjsdflksajdlksjadlksdja asadwqqegwgrerjrklajsdlkjsdflksajdlksjadlksdjaasadw qqegwgrerjrklajsdlkjsdflksajdlksjadlksdjaasadwqqegwg rerjrklajsdlkjsdflksajdlksjadlksdjaasadwqqegwgrerjrk lajsdlkjsdflksajdlksjadlksdjaasadwqqegwgrerjrklajsdlk jsdflksajdlksjadlksdjaasadwqqegwgrerjrklajsdlkjsdflks ajdlksjadlksdjaasadwqqegwgrerjrklajsdlkjsdflksajdlksj adlksdjaasadwqqegwgrerjrklajsdlkjsdflksajdlksjadlksdj aasadwqqegwgrerjrklajsdlkjsdflksajdlksjadlksdjaasadwq qegwgrerjrklajsdlkjsdflksajdlksjadlksdj\n",
      "aasadwqqegwgrerjrklajsdlkjsdflksajdlksjadlksdjaas\n",
      "adwqqegwgrerjrklajsdlkjsdflksajdlksjadlksdjaasadwqqeg\n",
      "wgrerjrklajsdlkjsdflksajdlksjadlksdjaasadwqqegwgrerjr\n",
      "klajsdlkjsdflksajdlksjadlksdjaasadwqqegwgrerjrklajsd\n",
      "kjsdflksajdlksjadlksdjaasadwqqegwgrerjrklajsdlkjsdflk\n",
      "sajdlksjadlksdjaasadwqqegwgrerjrklajsdlkjsdflksajdlksja\n",
      "dlksdjaasadwqqegwgrerjrklajsdlkjsdflksajdlksjadlksdjaasa\n",
      "dwqqegwgrerjrklajsdlkjsdflksajdlksjadlksdjaasadwqqegwgrer\n",
      "rklajsdlkjsdflksajdlksjadlksdjaasadwqqegwgrerjrklajsdlkjsd\n",
      "flksajdlksjadlksdjaasadwqqegwgrerjrklajsdlkjsdflksajdlksjadlksdj\n"
     ]
    }
   ],
   "source": [
    "# triple 사용 용도\n",
    "'''\n",
    "멀티 라인 주석\n",
    "'''\n",
    "x = 'aasadwqqegwgrerjrklajsdlkjsdflksajdlksjadlksdja \\\n",
    "asadwqqegwgrerjrklajsdlkjsdflksajdlksjadlksdjaasadw \\\n",
    "qqegwgrerjrklajsdlkjsdflksajdlksjadlksdjaasadwqqegwg \\\n",
    "rerjrklajsdlkjsdflksajdlksjadlksdjaasadwqqegwgrerjrk \\\n",
    "lajsdlkjsdflksajdlksjadlksdjaasadwqqegwgrerjrklajsdlk \\\n",
    "jsdflksajdlksjadlksdjaasadwqqegwgrerjrklajsdlkjsdflks \\\n",
    "ajdlksjadlksdjaasadwqqegwgrerjrklajsdlkjsdflksajdlksj \\\n",
    "adlksdjaasadwqqegwgrerjrklajsdlkjsdflksajdlksjadlksdj \\\n",
    "aasadwqqegwgrerjrklajsdlkjsdflksajdlksjadlksdjaasadwq \\\n",
    "qegwgrerjrklajsdlkjsdflksajdlksjadlksdj'\n",
    "x2 = '''aasadwqqegwgrerjrklajsdlkjsdflksajdlksjadlksdjaas\n",
    "adwqqegwgrerjrklajsdlkjsdflksajdlksjadlksdjaasadwqqeg\n",
    "wgrerjrklajsdlkjsdflksajdlksjadlksdjaasadwqqegwgrerjr\n",
    "klajsdlkjsdflksajdlksjadlksdjaasadwqqegwgrerjrklajsd\n",
    "kjsdflksajdlksjadlksdjaasadwqqegwgrerjrklajsdlkjsdflk\n",
    "sajdlksjadlksdjaasadwqqegwgrerjrklajsdlkjsdflksajdlksja\n",
    "dlksdjaasadwqqegwgrerjrklajsdlkjsdflksajdlksjadlksdjaasa\n",
    "dwqqegwgrerjrklajsdlkjsdflksajdlksjadlksdjaasadwqqegwgrer\n",
    "rklajsdlkjsdflksajdlksjadlksdjaasadwqqegwgrerjrklajsdlkjsd\n",
    "flksajdlksjadlksdjaasadwqqegwgrerjrklajsdlkjsdflksajdlksjadlksdj'''\n",
    "\n",
    "print(x)\n",
    "print(x2)"
   ]
  },
  {
   "cell_type": "markdown",
   "metadata": {},
   "source": [
    "### 2. 함수\n",
    "    - 문자열.함수()\n",
    "- Built-in의 함수\n",
    "    - len()\n",
    "    - int(), str(), input(), print(), bool(), ..."
   ]
  },
  {
   "cell_type": "code",
   "execution_count": 3,
   "metadata": {},
   "outputs": [
    {
     "name": "stdout",
     "output_type": "stream",
     "text": [
      "문자열 길이:  8\n"
     ]
    }
   ],
   "source": [
    "s = 'sequence'\n",
    "\n",
    "print('문자열 길이: ', len(s))"
   ]
  },
  {
   "cell_type": "code",
   "execution_count": 4,
   "metadata": {},
   "outputs": [
    {
     "name": "stdout",
     "output_type": "stream",
     "text": [
      "특정문자의 개수:  3\n"
     ]
    }
   ],
   "source": [
    "print('특정문자의 개수: ', s.count('e'))"
   ]
  },
  {
   "cell_type": "code",
   "execution_count": 5,
   "metadata": {},
   "outputs": [
    {
     "name": "stdout",
     "output_type": "stream",
     "text": [
      "첫글자를 대문자로:  Sequence\n"
     ]
    }
   ],
   "source": [
    "print('첫글자를 대문자로: ', s.capitalize())"
   ]
  },
  {
   "cell_type": "code",
   "execution_count": 6,
   "metadata": {},
   "outputs": [
    {
     "name": "stdout",
     "output_type": "stream",
     "text": [
      "대문자로:  SEQUENCE\n"
     ]
    }
   ],
   "source": [
    "print('대문자로: ', s.upper())"
   ]
  },
  {
   "cell_type": "code",
   "execution_count": 7,
   "metadata": {},
   "outputs": [
    {
     "name": "stdout",
     "output_type": "stream",
     "text": [
      "소문자로:  sequence\n"
     ]
    }
   ],
   "source": [
    "s2 = 'SEQUENCE'\n",
    "print('소문자로: ', s2.lower())"
   ]
  },
  {
   "cell_type": "code",
   "execution_count": 9,
   "metadata": {},
   "outputs": [
    {
     "name": "stdout",
     "output_type": "stream",
     "text": [
      "swap 문자:  SEQUENCE\n"
     ]
    }
   ],
   "source": [
    "print('swap 문자: ', s.swapcase())  # 대 -> 소, 소 -> 대"
   ]
  },
  {
   "cell_type": "code",
   "execution_count": 11,
   "metadata": {},
   "outputs": [
    {
     "name": "stdout",
     "output_type": "stream",
     "text": [
      "lstrip:  Hello      10\n"
     ]
    }
   ],
   "source": [
    "# 공백 제거\n",
    "x = '     Hello     '\n",
    "print('lstrip: ', x.lstrip(), len(x.lstrip()))"
   ]
  },
  {
   "cell_type": "code",
   "execution_count": 12,
   "metadata": {},
   "outputs": [
    {
     "name": "stdout",
     "output_type": "stream",
     "text": [
      "rstrip:       Hello 10\n"
     ]
    }
   ],
   "source": [
    "print('rstrip: ', x.rstrip(), len(x.rstrip()))"
   ]
  },
  {
   "cell_type": "code",
   "execution_count": 13,
   "metadata": {},
   "outputs": [
    {
     "name": "stdout",
     "output_type": "stream",
     "text": [
      "strip:  Hello 5\n"
     ]
    }
   ],
   "source": [
    "print('strip: ', x.strip(), len(x.strip()))"
   ]
  },
  {
   "cell_type": "code",
   "execution_count": 14,
   "metadata": {},
   "outputs": [
    {
     "name": "stdout",
     "output_type": "stream",
     "text": [
      "lstrip H문자 제거 elHloHHHH\n"
     ]
    }
   ],
   "source": [
    "# 특정문자 제거\n",
    "x = 'HHHHHHelHloHHHH'\n",
    "print('lstrip H문자 제거', x.lstrip('H'))"
   ]
  },
  {
   "cell_type": "code",
   "execution_count": 15,
   "metadata": {},
   "outputs": [
    {
     "name": "stdout",
     "output_type": "stream",
     "text": [
      "rstrip H문자 제거 HHHHHHelHlo\n"
     ]
    }
   ],
   "source": [
    "print('rstrip H문자 제거', x.rstrip('H'))"
   ]
  },
  {
   "cell_type": "code",
   "execution_count": 16,
   "metadata": {},
   "outputs": [
    {
     "name": "stdout",
     "output_type": "stream",
     "text": [
      "문자열 변경:  Aello\n"
     ]
    }
   ],
   "source": [
    "print('문자열 변경: ', 'Hello'.replace('H', 'A'))"
   ]
  },
  {
   "cell_type": "code",
   "execution_count": 18,
   "metadata": {},
   "outputs": [
    {
     "name": "stdout",
     "output_type": "stream",
     "text": [
      "구분자로 분리:  ['홍길동', '이순신', '유관순']\n"
     ]
    }
   ],
   "source": [
    "x = '홍길동/이순신/유관순'\n",
    "result = x.split('/')\n",
    "print('구분자로 분리: ', result)"
   ]
  },
  {
   "cell_type": "code",
   "execution_count": 20,
   "metadata": {},
   "outputs": [
    {
     "name": "stdout",
     "output_type": "stream",
     "text": [
      "특정 문자 시작 여부:  True\n",
      "특정 문자 시작 여부:  False\n"
     ]
    }
   ],
   "source": [
    "print('특정 문자 시작 여부: ', 'Hello'.startswith('H'))\n",
    "print('특정 문자 시작 여부: ', 'Hello'.startswith('F'))"
   ]
  },
  {
   "cell_type": "code",
   "execution_count": 23,
   "metadata": {},
   "outputs": [
    {
     "name": "stdout",
     "output_type": "stream",
     "text": [
      "특정 문자 종료 여부:  True\n",
      "특정 문자 종료 여부:  False\n"
     ]
    }
   ],
   "source": [
    "print('특정 문자 종료 여부: ', 'Hello'.endswith('o'))\n",
    "print('특정 문자 종료 여부: ', 'Hello'.endswith('a'))"
   ]
  },
  {
   "cell_type": "code",
   "execution_count": 24,
   "metadata": {},
   "outputs": [
    {
     "name": "stdout",
     "output_type": "stream",
     "text": [
      "특정 문자 위치:  1\n"
     ]
    }
   ],
   "source": [
    "print('특정 문자 위치: ', 'Hello'.find('e'))"
   ]
  },
  {
   "cell_type": "code",
   "execution_count": 25,
   "metadata": {},
   "outputs": [
    {
     "name": "stdout",
     "output_type": "stream",
     "text": [
      "특정 문자 위치:  -1\n"
     ]
    }
   ],
   "source": [
    "print('특정 문자 위치: ', 'Hello'.find('x'))"
   ]
  },
  {
   "cell_type": "code",
   "execution_count": 27,
   "metadata": {},
   "outputs": [
    {
     "name": "stdout",
     "output_type": "stream",
     "text": [
      "특정 문자 위치:  3\n"
     ]
    }
   ],
   "source": [
    "print('특정 문자 위치: ', 'Hello'.rfind('l'))"
   ]
  },
  {
   "cell_type": "code",
   "execution_count": 28,
   "metadata": {},
   "outputs": [
    {
     "name": "stdout",
     "output_type": "stream",
     "text": [
      "center 패딩:  **Hello***\n"
     ]
    }
   ],
   "source": [
    "# sql 패딩 역할 -> center, rjust, ljust\n",
    "print('center 패딩: ', 'Hello'.center(20, '*'))"
   ]
  },
  {
   "cell_type": "code",
   "execution_count": 29,
   "metadata": {},
   "outputs": [
    {
     "name": "stdout",
     "output_type": "stream",
     "text": [
      "center 패딩:  ***************Hello\n"
     ]
    }
   ],
   "source": [
    "print('center 패딩: ', 'Hello'.rjust(20, '*'))"
   ]
  },
  {
   "cell_type": "code",
   "execution_count": 30,
   "metadata": {},
   "outputs": [
    {
     "name": "stdout",
     "output_type": "stream",
     "text": [
      "center 패딩:  Hello***************\n"
     ]
    }
   ],
   "source": [
    "print('center 패딩: ', 'Hello'.ljust(20, '*'))"
   ]
  },
  {
   "cell_type": "code",
   "execution_count": 31,
   "metadata": {},
   "outputs": [
    {
     "name": "stdout",
     "output_type": "stream",
     "text": [
      "집합형의 값을 특정 문자와 연결:  a와 b와 c\n"
     ]
    }
   ],
   "source": [
    "# 집합형의 값을 특정 문자와 연결\n",
    "# ['A', 'B', 'C'] == A와 B와 C\n",
    "print('집합형의 값을 특정 문자와 연결: ', '와 '.join(['a', 'b', 'c']))"
   ]
  },
  {
   "cell_type": "code",
   "execution_count": 34,
   "metadata": {},
   "outputs": [
    {
     "name": "stdout",
     "output_type": "stream",
     "text": [
      "문자로만 구성:  True\n",
      "문자로만 구성:  False\n"
     ]
    }
   ],
   "source": [
    "# 문자/숫자 여부 확인\n",
    "print('문자로만 구성: ', 'Hello'.isalpha())\n",
    "print('문자로만 구성: ', 'Hello123'.isalpha())"
   ]
  },
  {
   "cell_type": "code",
   "execution_count": 35,
   "metadata": {},
   "outputs": [
    {
     "name": "stdout",
     "output_type": "stream",
     "text": [
      "숫자로만 구성:  True\n",
      "숫자로만 구성:  False\n"
     ]
    }
   ],
   "source": [
    "print('숫자로만 구성: ', '9874'.isnumeric())\n",
    "print('숫자로만 구성: ', 'Hello414'.isnumeric())"
   ]
  },
  {
   "cell_type": "markdown",
   "metadata": {},
   "source": [
    " ### 3. 색인\n",
    " - 위치값(index, 첨자)을 사용\n",
    " - 인덱싱 : 하나만 참조\n",
    "     - 문자열[index]\n",
    " - 슬라이싱 : 범위 참조\n",
    "     - 문자열[start : end : step]"
   ]
  },
  {
   "cell_type": "code",
   "execution_count": 36,
   "metadata": {},
   "outputs": [
    {
     "name": "stdout",
     "output_type": "stream",
     "text": [
      "대 한\n"
     ]
    }
   ],
   "source": [
    "s = '대한민국'\n",
    "\n",
    "# 1. 인덱싱\n",
    "print(s[0], s[1])"
   ]
  },
  {
   "cell_type": "code",
   "execution_count": 37,
   "metadata": {},
   "outputs": [
    {
     "name": "stdout",
     "output_type": "stream",
     "text": [
      "국 민\n"
     ]
    }
   ],
   "source": [
    "print(s[-1], s[-2])"
   ]
  },
  {
   "cell_type": "code",
   "execution_count": 39,
   "metadata": {},
   "outputs": [
    {
     "name": "stdout",
     "output_type": "stream",
     "text": [
      "대한민\n"
     ]
    }
   ],
   "source": [
    "# 2. 슬라이싱\n",
    "print(s[0:3])"
   ]
  },
  {
   "cell_type": "code",
   "execution_count": 41,
   "metadata": {},
   "outputs": [
    {
     "name": "stdout",
     "output_type": "stream",
     "text": [
      "대한민\n"
     ]
    }
   ],
   "source": [
    "print(s[:3])"
   ]
  },
  {
   "cell_type": "code",
   "execution_count": 43,
   "metadata": {},
   "outputs": [
    {
     "name": "stdout",
     "output_type": "stream",
     "text": [
      "한민\n"
     ]
    }
   ],
   "source": [
    "print(s[1:3])"
   ]
  },
  {
   "cell_type": "code",
   "execution_count": 44,
   "metadata": {},
   "outputs": [
    {
     "name": "stdout",
     "output_type": "stream",
     "text": [
      "한민국\n"
     ]
    }
   ],
   "source": [
    "print(s[1:])"
   ]
  },
  {
   "cell_type": "code",
   "execution_count": 45,
   "metadata": {},
   "outputs": [
    {
     "name": "stdout",
     "output_type": "stream",
     "text": [
      "대한민국\n"
     ]
    }
   ],
   "source": [
    "print(s[:])"
   ]
  },
  {
   "cell_type": "code",
   "execution_count": 46,
   "metadata": {},
   "outputs": [
    {
     "name": "stdout",
     "output_type": "stream",
     "text": [
      "한민\n"
     ]
    }
   ],
   "source": [
    "print(s[-3:-1])"
   ]
  },
  {
   "cell_type": "code",
   "execution_count": 47,
   "metadata": {},
   "outputs": [
    {
     "name": "stdout",
     "output_type": "stream",
     "text": [
      "한민국\n"
     ]
    }
   ],
   "source": [
    "print(s[-3:])"
   ]
  },
  {
   "cell_type": "code",
   "execution_count": 48,
   "metadata": {},
   "outputs": [
    {
     "name": "stdout",
     "output_type": "stream",
     "text": [
      "파썬 우 습다\n"
     ]
    }
   ],
   "source": [
    "s = '파이썬을 배우고 있습니다.'\n",
    "\n",
    "print(s[::2])"
   ]
  },
  {
   "cell_type": "code",
   "execution_count": 49,
   "metadata": {},
   "outputs": [
    {
     "name": "stdout",
     "output_type": "stream",
     "text": [
      ".다니습있 고우배 을썬이파\n"
     ]
    }
   ],
   "source": [
    "print(s[::-1])"
   ]
  },
  {
   "cell_type": "markdown",
   "metadata": {},
   "source": [
    "### 4. 종류\n",
    "- 유니코드 표현 : 일반적으로 사용되는 표현\n",
    "- bytes 표현 : 네트워크를 이용해서 가져왔을 때\n",
    "- 서로 변환 작업 필요"
   ]
  },
  {
   "cell_type": "code",
   "execution_count": 50,
   "metadata": {},
   "outputs": [
    {
     "name": "stdout",
     "output_type": "stream",
     "text": [
      "b'abcde' <class 'bytes'>\n"
     ]
    }
   ],
   "source": [
    "# 1. bytes 표현(binary)\n",
    "n = b'abcde'\n",
    "print(n, type(n))"
   ]
  },
  {
   "cell_type": "code",
   "execution_count": 51,
   "metadata": {},
   "outputs": [
    {
     "name": "stdout",
     "output_type": "stream",
     "text": [
      "abcde <class 'str'>\n"
     ]
    }
   ],
   "source": [
    "n2 = 'abcde'\n",
    "print(n2, type(n2))"
   ]
  },
  {
   "cell_type": "code",
   "execution_count": 53,
   "metadata": {},
   "outputs": [
    {
     "name": "stdout",
     "output_type": "stream",
     "text": [
      "bytes로 변환:  b'abcde \\xec\\x95\\x88\\xeb\\x85\\x95\\xed\\x95\\x98\\xec\\x84\\xb8\\xec\\x9a\\x94'\n"
     ]
    }
   ],
   "source": [
    "# 2. 변환\n",
    "s = 'abcde 안녕하세요'\n",
    "s_bytes = s.encode('utf-8')\n",
    "print('bytes로 변환: ', s_bytes)"
   ]
  },
  {
   "cell_type": "code",
   "execution_count": 55,
   "metadata": {},
   "outputs": [
    {
     "name": "stdout",
     "output_type": "stream",
     "text": [
      "unicode로 변환:  abcde 안녕하세요\n"
     ]
    }
   ],
   "source": [
    "s_uni = s_bytes.decode('utf-8')\n",
    "print('unicode로 변환: ', s_uni)"
   ]
  },
  {
   "cell_type": "markdown",
   "metadata": {},
   "source": [
    "## 리스트\n",
    "### 1. 생성\n",
    "- \\[ \\] 표현\n",
    "- [값, 값2, ...] or [ ](empty list)\n",
    "- list(값) 함수 -> 값은 문자열 또는 tuple\n",
    "- 저장되는 값은 데이터형이 달라도 가능"
   ]
  },
  {
   "cell_type": "code",
   "execution_count": 10,
   "metadata": {},
   "outputs": [
    {
     "name": "stdout",
     "output_type": "stream",
     "text": [
      "['abc', 'def']\n",
      "[1, 2, 3]\n",
      "[]\n",
      "[1, 'a', True]\n",
      "[['a', 'b'], [1, 'c']]\n"
     ]
    }
   ],
   "source": [
    "# 1. 리스트 생성\n",
    "string_list = ['abc', 'def']\n",
    "int_list = [1, 2, 3]\n",
    "empty_list = []\n",
    "mixed_list = [1, 'a', True]\n",
    "nested_list = [['a', 'b'], [1, 'c']]\n",
    "\n",
    "print(string_list)\n",
    "print(int_list)\n",
    "print(empty_list)\n",
    "print(mixed_list)\n",
    "print(nested_list)"
   ]
  },
  {
   "cell_type": "code",
   "execution_count": 11,
   "metadata": {},
   "outputs": [
    {
     "name": "stdout",
     "output_type": "stream",
     "text": [
      "['H', 'e', 'l', 'l', 'o']\n"
     ]
    }
   ],
   "source": [
    "str_list = list('Hello')\n",
    "print(str_list)"
   ]
  },
  {
   "cell_type": "code",
   "execution_count": 12,
   "metadata": {},
   "outputs": [
    {
     "name": "stdout",
     "output_type": "stream",
     "text": [
      "[10, 20, 30]\n"
     ]
    }
   ],
   "source": [
    "tuple_list = list((10, 20, 30))\n",
    "print(tuple_list)"
   ]
  },
  {
   "cell_type": "markdown",
   "metadata": {},
   "source": [
    "### 2. 함수"
   ]
  },
  {
   "cell_type": "code",
   "execution_count": 13,
   "metadata": {},
   "outputs": [
    {
     "name": "stdout",
     "output_type": "stream",
     "text": [
      "['__add__', '__class__', '__contains__', '__delattr__', '__delitem__', '__dir__', '__doc__', '__eq__', '__format__', '__ge__', '__getattribute__', '__getitem__', '__gt__', '__hash__', '__iadd__', '__imul__', '__init__', '__init_subclass__', '__iter__', '__le__', '__len__', '__lt__', '__mul__', '__ne__', '__new__', '__reduce__', '__reduce_ex__', '__repr__', '__reversed__', '__rmul__', '__setattr__', '__setitem__', '__sizeof__', '__str__', '__subclasshook__', 'append', 'clear', 'copy', 'count', 'extend', 'index', 'insert', 'pop', 'remove', 'reverse', 'sort']\n"
     ]
    }
   ],
   "source": [
    "print(dir(list))\n",
    "\n",
    "'''\n",
    "'append', 'clear', 'copy', 'count', 'extend', 'index',\n",
    "'insert', 'pop', 'remove', 'reverse', 'sort'\n",
    "'''"
   ]
  },
  {
   "cell_type": "code",
   "execution_count": 14,
   "metadata": {},
   "outputs": [
    {
     "name": "stdout",
     "output_type": "stream",
     "text": [
      "1. 리스트 길이:  4\n"
     ]
    }
   ],
   "source": [
    "int_list = [10, 20, 30, 40]\n",
    "\n",
    "print('1. 리스트 길이: ', len(int_list))"
   ]
  },
  {
   "cell_type": "code",
   "execution_count": 17,
   "metadata": {},
   "outputs": [
    {
     "name": "stdout",
     "output_type": "stream",
     "text": [
      "2. 추가\n",
      "[10, 20, 30, 40, 50, 50, [60, 70], (80, 90)]\n"
     ]
    }
   ],
   "source": [
    "print('2. 추가')\n",
    "int_list.append(50)\n",
    "int_list.append([60, 70])\n",
    "int_list.append((80, 90))\n",
    "print(int_list)"
   ]
  },
  {
   "cell_type": "code",
   "execution_count": 19,
   "metadata": {},
   "outputs": [
    {
     "name": "stdout",
     "output_type": "stream",
     "text": [
      "3. 삽입\n",
      "[100, 5, 100, 10, 20, 30, 40, 50, 50, [60, 70], (80, 90)]\n"
     ]
    }
   ],
   "source": [
    "print('3. 삽입')\n",
    "int_list.insert(0, 100)\n",
    "int_list.insert(1, 5)\n",
    "print(int_list)"
   ]
  },
  {
   "cell_type": "code",
   "execution_count": 26,
   "metadata": {},
   "outputs": [
    {
     "name": "stdout",
     "output_type": "stream",
     "text": [
      "4. 병합\n",
      "[10, 20, 30, 40, 50]\n",
      "[10, 20, 30, 40]\n"
     ]
    }
   ],
   "source": [
    "print('4. 병합')\n",
    "int_list = [10, 20, 30, 40]\n",
    "int_list.extend([50])\n",
    "print(int_list)\n",
    "\n",
    "x = [10, 20]\n",
    "x2 = [30, 40]\n",
    "print(x + x2)"
   ]
  },
  {
   "cell_type": "code",
   "execution_count": 32,
   "metadata": {},
   "outputs": [
    {
     "name": "stdout",
     "output_type": "stream",
     "text": [
      "5. 특정 위치\n",
      "2\n"
     ]
    }
   ],
   "source": [
    "print('5. 특정 위치')\n",
    "int_list = [10, 20, 30, 40]\n",
    "print(int_list.index(30))\n",
    "# print(int_list.index(100))  # 지정된 값이 없으면 에러 발생"
   ]
  },
  {
   "cell_type": "code",
   "execution_count": 35,
   "metadata": {},
   "outputs": [
    {
     "name": "stdout",
     "output_type": "stream",
     "text": [
      "6. 반전\n",
      "[40, 30, 20, 10]\n",
      "원본:  [10, 20, 30, 40]\n",
      "복사본:  [40, 30, 20, 10]\n"
     ]
    }
   ],
   "source": [
    "print('6. 반전')\n",
    "\n",
    "# 원본 변경\n",
    "int_list.reverse()\n",
    "print(int_list)\n",
    "\n",
    "# 원본 유지, 복사본 생성\n",
    "int_list = [10, 20, 30, 40]\n",
    "copy_list = list(reversed(int_list))\n",
    "print('원본: ', int_list)\n",
    "print('복사본: ', copy_list)"
   ]
  },
  {
   "cell_type": "code",
   "execution_count": 37,
   "metadata": {},
   "outputs": [
    {
     "name": "stdout",
     "output_type": "stream",
     "text": [
      "7. 삭제 : clear, pop, remove\n",
      "[10, 20]\n"
     ]
    }
   ],
   "source": [
    "print('7. 삭제 : clear, pop, remove')\n",
    "int_list = [10, 20, 30, 40]\n",
    "int_list.pop(2)\n",
    "int_list.pop()\n",
    "print(int_list)"
   ]
  },
  {
   "cell_type": "code",
   "execution_count": 39,
   "metadata": {},
   "outputs": [
    {
     "name": "stdout",
     "output_type": "stream",
     "text": [
      "[10, 30, 40]\n",
      "[]\n"
     ]
    }
   ],
   "source": [
    "int_list = [10, 20, 30, 40]\n",
    "int_list.remove(20)\n",
    "print(int_list)\n",
    "\n",
    "int_list.clear()  # 전체 삭제\n",
    "print(int_list)"
   ]
  },
  {
   "cell_type": "code",
   "execution_count": 41,
   "metadata": {},
   "outputs": [
    {
     "name": "stdout",
     "output_type": "stream",
     "text": [
      "8. 복사 : copy, [:], list()\n",
      "True\n",
      "False\n"
     ]
    }
   ],
   "source": [
    "print('8. 복사 : copy, [:], list()')\n",
    "int_list = [10, 20, 30, 40]\n",
    "copy_list = int_list.copy()\n",
    "copy_list = int_list[:]\n",
    "copy_list = list(int_list)\n",
    "print(int_list == copy_list)\n",
    "print(int_list is copy_list)"
   ]
  },
  {
   "cell_type": "code",
   "execution_count": 47,
   "metadata": {},
   "outputs": [
    {
     "name": "stdout",
     "output_type": "stream",
     "text": [
      "9. 정렬\n",
      "[32, 13, 12, 9, 6, 2]\n"
     ]
    }
   ],
   "source": [
    "print('9. 정렬 : 자신이 정렬(in-place)')\n",
    "num = [6, 32, 12, 13, 9, 2]\n",
    "num.sort()  # 오름차순\n",
    "num.sort(reverse=True)  # 내림차순\n",
    "print(num)"
   ]
  },
  {
   "cell_type": "code",
   "execution_count": 48,
   "metadata": {},
   "outputs": [
    {
     "name": "stdout",
     "output_type": "stream",
     "text": [
      "원본:  [32, 13, 12, 9, 6, 2]\n",
      "복사본:  [2, 6, 9, 12, 13, 32]\n"
     ]
    }
   ],
   "source": [
    "copy_num = sorted(num)\n",
    "copy_num = sorted(num, reverse=True)\n",
    "print('원본: ', num)\n",
    "print('복사본: ', copy_num)"
   ]
  },
  {
   "cell_type": "code",
   "execution_count": 52,
   "metadata": {},
   "outputs": [
    {
     "name": "stdout",
     "output_type": "stream",
     "text": [
      "10. 정렬 심화\n",
      "['2', '6', '9', '12', '13', '32']\n"
     ]
    }
   ],
   "source": [
    "print('10. 정렬 심화')\n",
    "str_num = ['6', '32', '12', '13', '9', '2']\n",
    "str_num.sort()\n",
    "str_num.sort(key=int)\n",
    "str_num.sort(key=int, reverse=True)\n",
    "print(str_num)"
   ]
  },
  {
   "cell_type": "code",
   "execution_count": 57,
   "metadata": {},
   "outputs": [
    {
     "name": "stdout",
     "output_type": "stream",
     "text": [
      "['Kim', 'Park', 'Steve']\n"
     ]
    }
   ],
   "source": [
    "str_name = ['Steve', 'Kim', 'Park']\n",
    "str_name.sort(key=len)\n",
    "str_name.sort(key=len, reverse=True)\n",
    "print(str_name)"
   ]
  },
  {
   "cell_type": "markdown",
   "metadata": {},
   "source": [
    "### 3. 색인\n",
    "- 문자열 색인과 동일\n",
    "- 중첩리스트의 색인"
   ]
  },
  {
   "cell_type": "code",
   "execution_count": 58,
   "metadata": {},
   "outputs": [],
   "source": [
    "num_list = [90, 80, 70, 60, 50, 40]"
   ]
  },
  {
   "cell_type": "code",
   "execution_count": 59,
   "metadata": {},
   "outputs": [
    {
     "data": {
      "text/plain": [
       "90"
      ]
     },
     "execution_count": 59,
     "metadata": {},
     "output_type": "execute_result"
    }
   ],
   "source": [
    "num_list[0]"
   ]
  },
  {
   "cell_type": "code",
   "execution_count": 60,
   "metadata": {},
   "outputs": [
    {
     "data": {
      "text/plain": [
       "80"
      ]
     },
     "execution_count": 60,
     "metadata": {},
     "output_type": "execute_result"
    }
   ],
   "source": [
    "num_list[1]"
   ]
  },
  {
   "cell_type": "code",
   "execution_count": 61,
   "metadata": {},
   "outputs": [
    {
     "data": {
      "text/plain": [
       "40"
      ]
     },
     "execution_count": 61,
     "metadata": {},
     "output_type": "execute_result"
    }
   ],
   "source": [
    "num_list[-1]"
   ]
  },
  {
   "cell_type": "code",
   "execution_count": 62,
   "metadata": {},
   "outputs": [
    {
     "data": {
      "text/plain": [
       "50"
      ]
     },
     "execution_count": 62,
     "metadata": {},
     "output_type": "execute_result"
    }
   ],
   "source": [
    "num_list[-2]"
   ]
  },
  {
   "cell_type": "code",
   "execution_count": 63,
   "metadata": {},
   "outputs": [
    {
     "data": {
      "text/plain": [
       "[90, 80, 70, 60, 50]"
      ]
     },
     "execution_count": 63,
     "metadata": {},
     "output_type": "execute_result"
    }
   ],
   "source": [
    "num_list[0:5]"
   ]
  },
  {
   "cell_type": "code",
   "execution_count": 64,
   "metadata": {},
   "outputs": [
    {
     "data": {
      "text/plain": [
       "[90, 80, 70, 60, 50]"
      ]
     },
     "execution_count": 64,
     "metadata": {},
     "output_type": "execute_result"
    }
   ],
   "source": [
    "num_list[:5]"
   ]
  },
  {
   "cell_type": "code",
   "execution_count": 65,
   "metadata": {},
   "outputs": [
    {
     "data": {
      "text/plain": [
       "[90, 80, 70, 60, 50, 40]"
      ]
     },
     "execution_count": 65,
     "metadata": {},
     "output_type": "execute_result"
    }
   ],
   "source": [
    "num_list[:]"
   ]
  },
  {
   "cell_type": "code",
   "execution_count": 66,
   "metadata": {},
   "outputs": [
    {
     "data": {
      "text/plain": [
       "[70, 60, 50]"
      ]
     },
     "execution_count": 66,
     "metadata": {},
     "output_type": "execute_result"
    }
   ],
   "source": [
    "num_list[-4:-1]"
   ]
  },
  {
   "cell_type": "code",
   "execution_count": 67,
   "metadata": {},
   "outputs": [
    {
     "data": {
      "text/plain": [
       "[90, 70, 50]"
      ]
     },
     "execution_count": 67,
     "metadata": {},
     "output_type": "execute_result"
    }
   ],
   "source": [
    "num_list[0:6:2]"
   ]
  },
  {
   "cell_type": "code",
   "execution_count": 68,
   "metadata": {},
   "outputs": [
    {
     "data": {
      "text/plain": [
       "[90, 70, 50]"
      ]
     },
     "execution_count": 68,
     "metadata": {},
     "output_type": "execute_result"
    }
   ],
   "source": [
    "num_list[::2]"
   ]
  },
  {
   "cell_type": "code",
   "execution_count": 69,
   "metadata": {},
   "outputs": [
    {
     "data": {
      "text/plain": [
       "[40, 50, 60, 70, 80, 90]"
      ]
     },
     "execution_count": 69,
     "metadata": {},
     "output_type": "execute_result"
    }
   ],
   "source": [
    "num_list[::-1]"
   ]
  },
  {
   "cell_type": "code",
   "execution_count": 70,
   "metadata": {},
   "outputs": [],
   "source": [
    "# 중첩리스트 색인\n",
    "num = [[10, 11, 12, 56, 7], [8, 6, 9, 17, 26]]"
   ]
  },
  {
   "cell_type": "code",
   "execution_count": 71,
   "metadata": {},
   "outputs": [
    {
     "data": {
      "text/plain": [
       "[56, 7]"
      ]
     },
     "execution_count": 71,
     "metadata": {},
     "output_type": "execute_result"
    }
   ],
   "source": [
    "num[0][-2:]"
   ]
  },
  {
   "cell_type": "code",
   "execution_count": 72,
   "metadata": {},
   "outputs": [
    {
     "data": {
      "text/plain": [
       "[6, 9, 17]"
      ]
     },
     "execution_count": 72,
     "metadata": {},
     "output_type": "execute_result"
    }
   ],
   "source": [
    "num[1][1:-1]"
   ]
  },
  {
   "cell_type": "markdown",
   "metadata": {},
   "source": [
    "### 4. 복사\n",
    "- 얕은 복사 : 주소값 복사\n",
    "- 깊은 복사 : 실제값 복사\n",
    "    - copy(), [:], list()"
   ]
  },
  {
   "cell_type": "code",
   "execution_count": 80,
   "metadata": {},
   "outputs": [],
   "source": [
    "num = [10, 20, 30]"
   ]
  },
  {
   "cell_type": "code",
   "execution_count": 78,
   "metadata": {},
   "outputs": [
    {
     "data": {
      "text/plain": [
       "([10, 20, 30], [10, 20, 30])"
      ]
     },
     "execution_count": 78,
     "metadata": {},
     "output_type": "execute_result"
    }
   ],
   "source": [
    "# 1. 얕은 복사 : 하나의 값을 두 개의 변수가 참조하기 때문에 한 쪽에서 값을 변경하면 다른 쪽도 영향을 받음\n",
    "num2 = num\n",
    "num, num2"
   ]
  },
  {
   "cell_type": "code",
   "execution_count": 79,
   "metadata": {},
   "outputs": [
    {
     "data": {
      "text/plain": [
       "([100, 20, 30], [100, 20, 30])"
      ]
     },
     "execution_count": 79,
     "metadata": {},
     "output_type": "execute_result"
    }
   ],
   "source": [
    "num[0] = 100\n",
    "num, num2"
   ]
  },
  {
   "cell_type": "code",
   "execution_count": 81,
   "metadata": {},
   "outputs": [
    {
     "data": {
      "text/plain": [
       "([10, 20, 30], [10, 20, 30])"
      ]
     },
     "execution_count": 81,
     "metadata": {},
     "output_type": "execute_result"
    }
   ],
   "source": [
    "# 2. 깊은 복사 : 동일한 값을 복사해서 두 개의 변수가 따로 참조하기 때문에 \n",
    "#               한 쪽에서 값을 변경해도 다른 쪽에 영향을 주지 않음\n",
    "num2 = num.copy()\n",
    "num, num2"
   ]
  },
  {
   "cell_type": "code",
   "execution_count": 82,
   "metadata": {},
   "outputs": [
    {
     "data": {
      "text/plain": [
       "([100, 20, 30], [10, 20, 30])"
      ]
     },
     "execution_count": 82,
     "metadata": {},
     "output_type": "execute_result"
    }
   ],
   "source": [
    "num[0] = 100\n",
    "num, num2"
   ]
  },
  {
   "cell_type": "markdown",
   "metadata": {},
   "source": [
    "## 튜플(tuple)\n",
    "### 1. 생성\n",
    "- ( ) 표현\n",
    "- 리스트와 동일한 특징(단, 값 변경 불가: 추가X, 삽입X, 삭제X, 정렬X)\n",
    "- tuple(값) 함수\n",
    "- 하나의 값을 가진 tuple 표현 : (값,)"
   ]
  },
  {
   "cell_type": "code",
   "execution_count": 83,
   "metadata": {},
   "outputs": [
    {
     "data": {
      "text/plain": [
       "['__add__',\n",
       " '__class__',\n",
       " '__contains__',\n",
       " '__delattr__',\n",
       " '__dir__',\n",
       " '__doc__',\n",
       " '__eq__',\n",
       " '__format__',\n",
       " '__ge__',\n",
       " '__getattribute__',\n",
       " '__getitem__',\n",
       " '__getnewargs__',\n",
       " '__gt__',\n",
       " '__hash__',\n",
       " '__init__',\n",
       " '__init_subclass__',\n",
       " '__iter__',\n",
       " '__le__',\n",
       " '__len__',\n",
       " '__lt__',\n",
       " '__mul__',\n",
       " '__ne__',\n",
       " '__new__',\n",
       " '__reduce__',\n",
       " '__reduce_ex__',\n",
       " '__repr__',\n",
       " '__rmul__',\n",
       " '__setattr__',\n",
       " '__sizeof__',\n",
       " '__str__',\n",
       " '__subclasshook__',\n",
       " 'count',\n",
       " 'index']"
      ]
     },
     "execution_count": 83,
     "metadata": {},
     "output_type": "execute_result"
    }
   ],
   "source": [
    "dir(tuple)"
   ]
  },
  {
   "cell_type": "code",
   "execution_count": 84,
   "metadata": {},
   "outputs": [
    {
     "data": {
      "text/plain": [
       "(10, 20, 30, 40)"
      ]
     },
     "execution_count": 84,
     "metadata": {},
     "output_type": "execute_result"
    }
   ],
   "source": [
    "int_tuple = (10, 20, 30, 40)\n",
    "int_tuple"
   ]
  },
  {
   "cell_type": "code",
   "execution_count": 86,
   "metadata": {},
   "outputs": [
    {
     "data": {
      "text/plain": [
       "(10, 20, 30)"
      ]
     },
     "execution_count": 86,
     "metadata": {},
     "output_type": "execute_result"
    }
   ],
   "source": [
    "list_tuple = tuple([10, 20, 30])\n",
    "list_tuple"
   ]
  },
  {
   "cell_type": "code",
   "execution_count": 87,
   "metadata": {},
   "outputs": [
    {
     "data": {
      "text/plain": [
       "('H', 'e', 'l', 'l', 'o')"
      ]
     },
     "execution_count": 87,
     "metadata": {},
     "output_type": "execute_result"
    }
   ],
   "source": [
    "str_tuple = tuple('Hello')\n",
    "str_tuple"
   ]
  },
  {
   "cell_type": "markdown",
   "metadata": {},
   "source": [
    "### 2. 함수"
   ]
  },
  {
   "cell_type": "code",
   "execution_count": 94,
   "metadata": {},
   "outputs": [],
   "source": [
    "int_tuple = (10, 20, 30, 40, 20)"
   ]
  },
  {
   "cell_type": "code",
   "execution_count": 95,
   "metadata": {},
   "outputs": [
    {
     "data": {
      "text/plain": [
       "5"
      ]
     },
     "execution_count": 95,
     "metadata": {},
     "output_type": "execute_result"
    }
   ],
   "source": [
    "# 1. 길이\n",
    "len(int_tuple)"
   ]
  },
  {
   "cell_type": "code",
   "execution_count": 96,
   "metadata": {},
   "outputs": [
    {
     "data": {
      "text/plain": [
       "2"
      ]
     },
     "execution_count": 96,
     "metadata": {},
     "output_type": "execute_result"
    }
   ],
   "source": [
    "# 2. 개수\n",
    "int_tuple.count(20)"
   ]
  },
  {
   "cell_type": "code",
   "execution_count": 99,
   "metadata": {},
   "outputs": [
    {
     "data": {
      "text/plain": [
       "4"
      ]
     },
     "execution_count": 99,
     "metadata": {},
     "output_type": "execute_result"
    }
   ],
   "source": [
    "# 3. 인덱스\n",
    "int_tuple.index(20)\n",
    "int_tuple.index(20, 2)  # 시작인덱스 추가"
   ]
  },
  {
   "cell_type": "code",
   "execution_count": 100,
   "metadata": {},
   "outputs": [
    {
     "ename": "TypeError",
     "evalue": "'tuple' object does not support item assignment",
     "output_type": "error",
     "traceback": [
      "\u001b[0;31m---------------------------------------------------------------------------\u001b[0m",
      "\u001b[0;31mTypeError\u001b[0m                                 Traceback (most recent call last)",
      "\u001b[0;32m<ipython-input-100-bb0b97336c1a>\u001b[0m in \u001b[0;36m<module>\u001b[0;34m\u001b[0m\n\u001b[1;32m      1\u001b[0m \u001b[0;31m# 값 변경 불가\u001b[0m\u001b[0;34m\u001b[0m\u001b[0;34m\u001b[0m\u001b[0;34m\u001b[0m\u001b[0m\n\u001b[0;32m----> 2\u001b[0;31m \u001b[0mint_tuple\u001b[0m\u001b[0;34m[\u001b[0m\u001b[0;36m0\u001b[0m\u001b[0;34m]\u001b[0m \u001b[0;34m=\u001b[0m \u001b[0;36m100\u001b[0m\u001b[0;34m\u001b[0m\u001b[0;34m\u001b[0m\u001b[0m\n\u001b[0m",
      "\u001b[0;31mTypeError\u001b[0m: 'tuple' object does not support item assignment"
     ]
    }
   ],
   "source": [
    "# 값 변경 불가\n",
    "int_tuple[0] = 100"
   ]
  },
  {
   "cell_type": "markdown",
   "metadata": {},
   "source": [
    "### 3. 색인\n",
    "- 리스트 색인과 동일"
   ]
  },
  {
   "cell_type": "code",
   "execution_count": 101,
   "metadata": {},
   "outputs": [
    {
     "data": {
      "text/plain": [
       "(1, 2, 3, 4, 5)"
      ]
     },
     "execution_count": 101,
     "metadata": {},
     "output_type": "execute_result"
    }
   ],
   "source": [
    "# tip\n",
    "(n, n2, (n3, n4, (n5))) = (1, 2, (3, 4, (5)))\n",
    "n, n2, n3, n4, n5"
   ]
  },
  {
   "cell_type": "markdown",
   "metadata": {},
   "source": [
    "## 셋(set)\n",
    "- {값, 값2} 표현\n",
    "- 순서가 없고 중복 불가\n",
    "- set() 함수\n",
    "- immutable 값만 저장 가능 : 상수, 문자열, 튜플"
   ]
  },
  {
   "cell_type": "code",
   "execution_count": 102,
   "metadata": {},
   "outputs": [
    {
     "data": {
      "text/plain": [
       "['__and__',\n",
       " '__class__',\n",
       " '__contains__',\n",
       " '__delattr__',\n",
       " '__dir__',\n",
       " '__doc__',\n",
       " '__eq__',\n",
       " '__format__',\n",
       " '__ge__',\n",
       " '__getattribute__',\n",
       " '__gt__',\n",
       " '__hash__',\n",
       " '__iand__',\n",
       " '__init__',\n",
       " '__init_subclass__',\n",
       " '__ior__',\n",
       " '__isub__',\n",
       " '__iter__',\n",
       " '__ixor__',\n",
       " '__le__',\n",
       " '__len__',\n",
       " '__lt__',\n",
       " '__ne__',\n",
       " '__new__',\n",
       " '__or__',\n",
       " '__rand__',\n",
       " '__reduce__',\n",
       " '__reduce_ex__',\n",
       " '__repr__',\n",
       " '__ror__',\n",
       " '__rsub__',\n",
       " '__rxor__',\n",
       " '__setattr__',\n",
       " '__sizeof__',\n",
       " '__str__',\n",
       " '__sub__',\n",
       " '__subclasshook__',\n",
       " '__xor__',\n",
       " 'add',\n",
       " 'clear',\n",
       " 'copy',\n",
       " 'difference',\n",
       " 'difference_update',\n",
       " 'discard',\n",
       " 'intersection',\n",
       " 'intersection_update',\n",
       " 'isdisjoint',\n",
       " 'issubset',\n",
       " 'issuperset',\n",
       " 'pop',\n",
       " 'remove',\n",
       " 'symmetric_difference',\n",
       " 'symmetric_difference_update',\n",
       " 'union',\n",
       " 'update']"
      ]
     },
     "execution_count": 102,
     "metadata": {},
     "output_type": "execute_result"
    }
   ],
   "source": [
    "dir(set)"
   ]
  },
  {
   "cell_type": "markdown",
   "metadata": {},
   "source": [
    "### 1. 생성"
   ]
  },
  {
   "cell_type": "code",
   "execution_count": 104,
   "metadata": {},
   "outputs": [
    {
     "data": {
      "text/plain": [
       "{10, 20, 30, 40}"
      ]
     },
     "execution_count": 104,
     "metadata": {},
     "output_type": "execute_result"
    }
   ],
   "source": [
    "n = {10, 20, 10, 30, 20, 40}\n",
    "n"
   ]
  },
  {
   "cell_type": "code",
   "execution_count": 106,
   "metadata": {},
   "outputs": [
    {
     "data": {
      "text/plain": [
       "set"
      ]
     },
     "execution_count": 106,
     "metadata": {},
     "output_type": "execute_result"
    }
   ],
   "source": [
    "empty_set = {}  # type: dict\n",
    "empty_set = set()\n",
    "type(empty_set)"
   ]
  },
  {
   "cell_type": "code",
   "execution_count": 111,
   "metadata": {},
   "outputs": [
    {
     "data": {
      "text/plain": [
       "{'H', 'e', 'l', 'o'}"
      ]
     },
     "execution_count": 111,
     "metadata": {},
     "output_type": "execute_result"
    }
   ],
   "source": [
    "str_set = set('Hello')\n",
    "str_set"
   ]
  },
  {
   "cell_type": "code",
   "execution_count": 112,
   "metadata": {},
   "outputs": [
    {
     "data": {
      "text/plain": [
       "{1, 2, 4, 5}"
      ]
     },
     "execution_count": 112,
     "metadata": {},
     "output_type": "execute_result"
    }
   ],
   "source": [
    "list_set = set([1, 5, 4, 1, 2, 4])\n",
    "list_set"
   ]
  },
  {
   "cell_type": "code",
   "execution_count": 113,
   "metadata": {},
   "outputs": [
    {
     "ename": "TypeError",
     "evalue": "unhashable type: 'list'",
     "output_type": "error",
     "traceback": [
      "\u001b[0;31m---------------------------------------------------------------------------\u001b[0m",
      "\u001b[0;31mTypeError\u001b[0m                                 Traceback (most recent call last)",
      "\u001b[0;32m<ipython-input-113-2cdad29cc110>\u001b[0m in \u001b[0;36m<module>\u001b[0;34m\u001b[0m\n\u001b[1;32m      1\u001b[0m \u001b[0;31m# mutable 값 저장 불가\u001b[0m\u001b[0;34m\u001b[0m\u001b[0;34m\u001b[0m\u001b[0;34m\u001b[0m\u001b[0m\n\u001b[0;32m----> 2\u001b[0;31m \u001b[0mint_set\u001b[0m \u001b[0;34m=\u001b[0m \u001b[0;34m{\u001b[0m\u001b[0;36m1\u001b[0m\u001b[0;34m,\u001b[0m \u001b[0;36m2\u001b[0m\u001b[0;34m,\u001b[0m \u001b[0;34m[\u001b[0m\u001b[0;36m3\u001b[0m\u001b[0;34m,\u001b[0m \u001b[0;36m4\u001b[0m\u001b[0;34m]\u001b[0m\u001b[0;34m}\u001b[0m\u001b[0;34m\u001b[0m\u001b[0;34m\u001b[0m\u001b[0m\n\u001b[0m",
      "\u001b[0;31mTypeError\u001b[0m: unhashable type: 'list'"
     ]
    }
   ],
   "source": [
    "# mutable 값 저장 불가\n",
    "int_set = {1, 2, [3, 4]}"
   ]
  },
  {
   "cell_type": "markdown",
   "metadata": {},
   "source": [
    "### 2. 함수"
   ]
  },
  {
   "cell_type": "code",
   "execution_count": 114,
   "metadata": {},
   "outputs": [],
   "source": [
    "int_set = {10, 20, 30, 20, 30, 99}"
   ]
  },
  {
   "cell_type": "code",
   "execution_count": 115,
   "metadata": {},
   "outputs": [
    {
     "data": {
      "text/plain": [
       "{10, 20, 30, 99, 100}"
      ]
     },
     "execution_count": 115,
     "metadata": {},
     "output_type": "execute_result"
    }
   ],
   "source": [
    "# 1. 값 추가\n",
    "int_set.add(100)\n",
    "int_set"
   ]
  },
  {
   "cell_type": "code",
   "execution_count": 117,
   "metadata": {},
   "outputs": [
    {
     "data": {
      "text/plain": [
       "{(5, 23), 10, 100, 20, 30, 99, 'ABC'}"
      ]
     },
     "execution_count": 117,
     "metadata": {},
     "output_type": "execute_result"
    }
   ],
   "source": [
    "int_set.add('ABC')\n",
    "int_set.add((5, 23))\n",
    "# int_set.add([5, 23])  # list 저장 불가\n",
    "int_set"
   ]
  },
  {
   "cell_type": "code",
   "execution_count": 118,
   "metadata": {},
   "outputs": [],
   "source": [
    "# 2. 병합 :update\n",
    "n = {1, 2, 3, 4, 5}"
   ]
  },
  {
   "cell_type": "code",
   "execution_count": 119,
   "metadata": {},
   "outputs": [
    {
     "data": {
      "text/plain": [
       "{1, 2, 3, 4, 5, 6, 8, 15}"
      ]
     },
     "execution_count": 119,
     "metadata": {},
     "output_type": "execute_result"
    }
   ],
   "source": [
    "n.update({1, 6, 8, 15})\n",
    "n"
   ]
  },
  {
   "cell_type": "code",
   "execution_count": 127,
   "metadata": {},
   "outputs": [
    {
     "name": "stdout",
     "output_type": "stream",
     "text": [
      "{1, 2, 3, 4, 5}\n"
     ]
    },
    {
     "data": {
      "text/plain": [
       "{3, 4, 5}"
      ]
     },
     "execution_count": 127,
     "metadata": {},
     "output_type": "execute_result"
    }
   ],
   "source": [
    "# 3. 삭제 : discard, remove, pop\n",
    "m = {1, 2, 3, 4, 1, 2, 5}\n",
    "print(m)\n",
    "m.pop()\n",
    "m.pop()\n",
    "m"
   ]
  },
  {
   "cell_type": "code",
   "execution_count": 128,
   "metadata": {},
   "outputs": [
    {
     "data": {
      "text/plain": [
       "{3, 5}"
      ]
     },
     "execution_count": 128,
     "metadata": {},
     "output_type": "execute_result"
    }
   ],
   "source": [
    "m.remove(4)  # 일치하는 값이 없으면 keyError 발생\n",
    "m.discard(9)  # 일치하는 값이 없으면 do nothing\n",
    "m"
   ]
  },
  {
   "cell_type": "code",
   "execution_count": 129,
   "metadata": {},
   "outputs": [
    {
     "data": {
      "text/plain": [
       "set()"
      ]
     },
     "execution_count": 129,
     "metadata": {},
     "output_type": "execute_result"
    }
   ],
   "source": [
    "m.clear()\n",
    "m"
   ]
  },
  {
   "cell_type": "code",
   "execution_count": 130,
   "metadata": {},
   "outputs": [],
   "source": [
    "# 4. 함수를 사용한 교집합, 차집합, 합집합\n",
    "a = {1, 2, 3}\n",
    "b = {2, 3, 5, 6}"
   ]
  },
  {
   "cell_type": "code",
   "execution_count": 131,
   "metadata": {},
   "outputs": [
    {
     "data": {
      "text/plain": [
       "{1, 2, 3, 5, 6}"
      ]
     },
     "execution_count": 131,
     "metadata": {},
     "output_type": "execute_result"
    }
   ],
   "source": [
    "a.union(b)"
   ]
  },
  {
   "cell_type": "code",
   "execution_count": 132,
   "metadata": {},
   "outputs": [
    {
     "data": {
      "text/plain": [
       "{2, 3}"
      ]
     },
     "execution_count": 132,
     "metadata": {},
     "output_type": "execute_result"
    }
   ],
   "source": [
    "a.intersection(b)"
   ]
  },
  {
   "cell_type": "code",
   "execution_count": 133,
   "metadata": {},
   "outputs": [
    {
     "data": {
      "text/plain": [
       "{1}"
      ]
     },
     "execution_count": 133,
     "metadata": {},
     "output_type": "execute_result"
    }
   ],
   "source": [
    "a.difference(b)"
   ]
  },
  {
   "cell_type": "code",
   "execution_count": 134,
   "metadata": {},
   "outputs": [
    {
     "data": {
      "text/plain": [
       "{1, 5, 6}"
      ]
     },
     "execution_count": 134,
     "metadata": {},
     "output_type": "execute_result"
    }
   ],
   "source": [
    "# 대칭차집합 : 합집합 - 교집합\n",
    "a.symmetric_difference(b)"
   ]
  },
  {
   "cell_type": "code",
   "execution_count": 135,
   "metadata": {},
   "outputs": [],
   "source": [
    "# 5. 연산자를 사용한 교집합, 차집합, 합집합\n",
    "a = {1, 2, 3}\n",
    "b = {2, 3, 5, 6}"
   ]
  },
  {
   "cell_type": "code",
   "execution_count": 136,
   "metadata": {},
   "outputs": [
    {
     "data": {
      "text/plain": [
       "{1, 2, 3, 5, 6}"
      ]
     },
     "execution_count": 136,
     "metadata": {},
     "output_type": "execute_result"
    }
   ],
   "source": [
    "a | b"
   ]
  },
  {
   "cell_type": "code",
   "execution_count": 137,
   "metadata": {},
   "outputs": [
    {
     "data": {
      "text/plain": [
       "{2, 3}"
      ]
     },
     "execution_count": 137,
     "metadata": {},
     "output_type": "execute_result"
    }
   ],
   "source": [
    "a & b"
   ]
  },
  {
   "cell_type": "code",
   "execution_count": 138,
   "metadata": {},
   "outputs": [
    {
     "data": {
      "text/plain": [
       "{1}"
      ]
     },
     "execution_count": 138,
     "metadata": {},
     "output_type": "execute_result"
    }
   ],
   "source": [
    "a - b"
   ]
  },
  {
   "cell_type": "code",
   "execution_count": 139,
   "metadata": {},
   "outputs": [
    {
     "data": {
      "text/plain": [
       "{1, 5, 6}"
      ]
     },
     "execution_count": 139,
     "metadata": {},
     "output_type": "execute_result"
    }
   ],
   "source": [
    "a ^ b"
   ]
  },
  {
   "cell_type": "markdown",
   "metadata": {},
   "source": [
    "## 딕셔너리\n",
    "### 1. 생성\n",
    "- {key:value, key1:value1} 표현\n",
    "- 순서가 없음\n",
    "- dict(표현식) 함수"
   ]
  },
  {
   "cell_type": "code",
   "execution_count": 140,
   "metadata": {},
   "outputs": [
    {
     "data": {
      "text/plain": [
       "['__class__',\n",
       " '__contains__',\n",
       " '__delattr__',\n",
       " '__delitem__',\n",
       " '__dir__',\n",
       " '__doc__',\n",
       " '__eq__',\n",
       " '__format__',\n",
       " '__ge__',\n",
       " '__getattribute__',\n",
       " '__getitem__',\n",
       " '__gt__',\n",
       " '__hash__',\n",
       " '__init__',\n",
       " '__init_subclass__',\n",
       " '__iter__',\n",
       " '__le__',\n",
       " '__len__',\n",
       " '__lt__',\n",
       " '__ne__',\n",
       " '__new__',\n",
       " '__reduce__',\n",
       " '__reduce_ex__',\n",
       " '__repr__',\n",
       " '__setattr__',\n",
       " '__setitem__',\n",
       " '__sizeof__',\n",
       " '__str__',\n",
       " '__subclasshook__',\n",
       " 'clear',\n",
       " 'copy',\n",
       " 'fromkeys',\n",
       " 'get',\n",
       " 'items',\n",
       " 'keys',\n",
       " 'pop',\n",
       " 'popitem',\n",
       " 'setdefault',\n",
       " 'update',\n",
       " 'values']"
      ]
     },
     "execution_count": 140,
     "metadata": {},
     "output_type": "execute_result"
    }
   ],
   "source": [
    "dir(dict)"
   ]
  },
  {
   "cell_type": "code",
   "execution_count": 145,
   "metadata": {},
   "outputs": [
    {
     "data": {
      "text/plain": [
       "({'name': 'Kim', 'age': 20},\n",
       " {'name': 'Lee', 'age': 30},\n",
       " {'name': 'Park', 'age': 40},\n",
       " {})"
      ]
     },
     "execution_count": 145,
     "metadata": {},
     "output_type": "execute_result"
    }
   ],
   "source": [
    "# 1. dict 생성\n",
    "m = {'name':'Kim', 'age':20}\n",
    "m2 = dict(name='Lee', age=30)\n",
    "m3 = dict([['name', 'Park'], ['age', 40]])\n",
    "m4 = {}\n",
    "\n",
    "m, m2, m3, m4"
   ]
  },
  {
   "cell_type": "markdown",
   "metadata": {},
   "source": [
    "### 2. 함수"
   ]
  },
  {
   "cell_type": "code",
   "execution_count": 147,
   "metadata": {},
   "outputs": [],
   "source": [
    "m = {'name':'Kim', 'age':20}"
   ]
  },
  {
   "cell_type": "code",
   "execution_count": 148,
   "metadata": {},
   "outputs": [
    {
     "data": {
      "text/plain": [
       "'Kim'"
      ]
     },
     "execution_count": 148,
     "metadata": {},
     "output_type": "execute_result"
    }
   ],
   "source": [
    "# 1. 조회 : key를 알고 있을 경우\n",
    "result = m['name']\n",
    "result = m.get('name')\n",
    "result"
   ]
  },
  {
   "cell_type": "code",
   "execution_count": 149,
   "metadata": {},
   "outputs": [
    {
     "data": {
      "text/plain": [
       "'default'"
      ]
     },
     "execution_count": 149,
     "metadata": {},
     "output_type": "execute_result"
    }
   ],
   "source": [
    "# result = m['email']  # key가 없으면 에러\n",
    "result = m.get('email')  # None\n",
    "result = m.get('email', 'default')  # default\n",
    "result"
   ]
  },
  {
   "cell_type": "code",
   "execution_count": 150,
   "metadata": {},
   "outputs": [
    {
     "data": {
      "text/plain": [
       "{'name': 'Kim', 'age': 30, 'email': 'kim1234@gmail.com'}"
      ]
     },
     "execution_count": 150,
     "metadata": {},
     "output_type": "execute_result"
    }
   ],
   "source": [
    "# 2. 추가\n",
    "m['email'] = 'kim1234@gmail.com'\n",
    "m['age'] = 30  # 기존에 key가 있으면 새로운 값으로 덮어씀\n",
    "m"
   ]
  },
  {
   "cell_type": "code",
   "execution_count": 160,
   "metadata": {},
   "outputs": [],
   "source": [
    "# 3. 병합(update) : 병합 + 수정\n",
    "m = {'name':'Kim', 'age':20, 'address':'부산'}\n",
    "m2= {'name':'Kim', 'age':50, 'email':'abc@example.com'}"
   ]
  },
  {
   "cell_type": "code",
   "execution_count": 159,
   "metadata": {},
   "outputs": [
    {
     "data": {
      "text/plain": [
       "({'name': 'Kim', 'age': 50, 'address': '부산', 'email': 'abc@example.com'},\n",
       " {'name': 'Kim', 'age': 50, 'email': 'abc@example.com'})"
      ]
     },
     "execution_count": 159,
     "metadata": {},
     "output_type": "execute_result"
    }
   ],
   "source": [
    "m.update(m2)\n",
    "m, m2"
   ]
  },
  {
   "cell_type": "code",
   "execution_count": 161,
   "metadata": {},
   "outputs": [
    {
     "data": {
      "text/plain": [
       "({'name': 'Kim', 'age': 20, 'address': '부산'},\n",
       " {'name': 'Kim', 'age': 20, 'email': 'abc@example.com', 'address': '부산'})"
      ]
     },
     "execution_count": 161,
     "metadata": {},
     "output_type": "execute_result"
    }
   ],
   "source": [
    "m2.update(m)\n",
    "m, m2"
   ]
  },
  {
   "cell_type": "code",
   "execution_count": 165,
   "metadata": {},
   "outputs": [],
   "source": [
    "# 4. 삭제\n",
    "m = {'name':'Kim', 'age':20, 'address':'부산'}"
   ]
  },
  {
   "cell_type": "code",
   "execution_count": 166,
   "metadata": {},
   "outputs": [
    {
     "data": {
      "text/plain": [
       "{'name': 'Kim', 'age': 20}"
      ]
     },
     "execution_count": 166,
     "metadata": {},
     "output_type": "execute_result"
    }
   ],
   "source": [
    "m.pop('address')\n",
    "m"
   ]
  },
  {
   "cell_type": "code",
   "execution_count": 168,
   "metadata": {},
   "outputs": [
    {
     "data": {
      "text/plain": [
       "{}"
      ]
     },
     "execution_count": 168,
     "metadata": {},
     "output_type": "execute_result"
    }
   ],
   "source": [
    "m.clear()\n",
    "m"
   ]
  },
  {
   "cell_type": "code",
   "execution_count": 169,
   "metadata": {},
   "outputs": [],
   "source": [
    "# 5. 색인\n",
    "m = {'name':'Kim', 'age':20, 'address':'부산'}"
   ]
  },
  {
   "cell_type": "code",
   "execution_count": 170,
   "metadata": {},
   "outputs": [
    {
     "data": {
      "text/plain": [
       "dict_keys(['name', 'age', 'address'])"
      ]
     },
     "execution_count": 170,
     "metadata": {},
     "output_type": "execute_result"
    }
   ],
   "source": [
    "m.keys()"
   ]
  },
  {
   "cell_type": "code",
   "execution_count": 171,
   "metadata": {},
   "outputs": [
    {
     "data": {
      "text/plain": [
       "dict_values(['Kim', 20, '부산'])"
      ]
     },
     "execution_count": 171,
     "metadata": {},
     "output_type": "execute_result"
    }
   ],
   "source": [
    "m.values()"
   ]
  },
  {
   "cell_type": "code",
   "execution_count": 172,
   "metadata": {},
   "outputs": [
    {
     "data": {
      "text/plain": [
       "dict_items([('name', 'Kim'), ('age', 20), ('address', '부산')])"
      ]
     },
     "execution_count": 172,
     "metadata": {},
     "output_type": "execute_result"
    }
   ],
   "source": [
    "m.items()"
   ]
  },
  {
   "cell_type": "code",
   "execution_count": 173,
   "metadata": {},
   "outputs": [
    {
     "data": {
      "text/plain": [
       "3"
      ]
     },
     "execution_count": 173,
     "metadata": {},
     "output_type": "execute_result"
    }
   ],
   "source": [
    "# 6. etc\n",
    "len(m)"
   ]
  },
  {
   "cell_type": "code",
   "execution_count": 174,
   "metadata": {},
   "outputs": [
    {
     "data": {
      "text/plain": [
       "True"
      ]
     },
     "execution_count": 174,
     "metadata": {},
     "output_type": "execute_result"
    }
   ],
   "source": [
    "'name' in m"
   ]
  },
  {
   "cell_type": "code",
   "execution_count": 175,
   "metadata": {},
   "outputs": [
    {
     "data": {
      "text/plain": [
       "False"
      ]
     },
     "execution_count": 175,
     "metadata": {},
     "output_type": "execute_result"
    }
   ],
   "source": [
    "'email' in m"
   ]
  },
  {
   "cell_type": "code",
   "execution_count": 183,
   "metadata": {},
   "outputs": [],
   "source": [
    "# 7. 두 개의 리스트 값을 하나는 key, 다른 하나는 value로 묶어서 dict로 변환\n",
    "a = ['대한민국', '미국', '영국']\n",
    "b = ['서울', '워싱턴', '런던']"
   ]
  },
  {
   "cell_type": "code",
   "execution_count": 179,
   "metadata": {},
   "outputs": [
    {
     "data": {
      "text/plain": [
       "{'대한민국': '서울', '미국': '워싱턴', '영국': '런던'}"
      ]
     },
     "execution_count": 179,
     "metadata": {},
     "output_type": "execute_result"
    }
   ],
   "source": [
    "# result = list(zip(a, b))  # [('대한민국', '서울'), ('미국', '워싱턴'), ('영국', '런던')]\n",
    "result = dict(zip(a, b))\n",
    "result"
   ]
  },
  {
   "cell_type": "code",
   "execution_count": 198,
   "metadata": {},
   "outputs": [
    {
     "data": {
      "text/plain": [
       "{'서울': '대한민국', '워싱턴': '미국', '런던': '영국'}"
      ]
     },
     "execution_count": 198,
     "metadata": {},
     "output_type": "execute_result"
    }
   ],
   "source": [
    "# 문제\n",
    "result2 = dict(zip(a, b))\n",
    "result2 = dict(zip(result2.values(), result2.keys()))\n",
    "result2"
   ]
  },
  {
   "cell_type": "code",
   "execution_count": null,
   "metadata": {},
   "outputs": [],
   "source": []
  }
 ],
 "metadata": {
  "kernelspec": {
   "display_name": "Python 3",
   "language": "python",
   "name": "python3"
  },
  "language_info": {
   "codemirror_mode": {
    "name": "ipython",
    "version": 3
   },
   "file_extension": ".py",
   "mimetype": "text/x-python",
   "name": "python",
   "nbconvert_exporter": "python",
   "pygments_lexer": "ipython3",
   "version": "3.7.6"
  }
 },
 "nbformat": 4,
 "nbformat_minor": 4
}
