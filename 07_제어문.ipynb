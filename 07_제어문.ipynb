{
 "cells": [
  {
   "cell_type": "markdown",
   "metadata": {},
   "source": [
    "# 제어문\n",
    "## 문장\n",
    "- 실행문\n",
    "    - 순차문\n",
    "    - 제어문\n",
    "        - 조건문 : 단일 if문, if~else문, 다중 if문, 3항 연산자\n",
    "        - 반복문 : for문, while문\n",
    "        - 주의할 점은 반드시 들여쓰기를 해야 함\n",
    "- 비실행문\n",
    "    - 주석문(한줄, 멀티라인)\n",
    "\n",
    "## if문"
   ]
  },
  {
   "cell_type": "code",
   "execution_count": 3,
   "metadata": {},
   "outputs": [
    {
     "name": "stdout",
     "output_type": "stream",
     "text": [
      "1\n",
      "4\n"
     ]
    }
   ],
   "source": [
    "# 1. 단일 if문\n",
    "\n",
    "# print('2') 문장을 조건에 따라 실행(조건이 True)하거나 실행하지 않게(조건이 False) 처리\n",
    "'''\n",
    "if 조건식: -> 조건식에 사용가능한 연산자 : 비교, 논리, 멤버쉽, is None\n",
    "    문장\n",
    "'''\n",
    "\n",
    "print('1')\n",
    "\n",
    "if False:\n",
    "    print('2')\n",
    "    print('3')\n",
    "    \n",
    "print('4')"
   ]
  },
  {
   "cell_type": "code",
   "execution_count": 4,
   "metadata": {},
   "outputs": [
    {
     "name": "stdout",
     "output_type": "stream",
     "text": [
      "end\n"
     ]
    }
   ],
   "source": [
    "if 3 == 4:\n",
    "    print('true')\n",
    "print('end')"
   ]
  },
  {
   "cell_type": "code",
   "execution_count": 5,
   "metadata": {},
   "outputs": [
    {
     "name": "stdout",
     "output_type": "stream",
     "text": [
      "1\n",
      "True!!\n",
      "end\n"
     ]
    }
   ],
   "source": [
    "# 2. if ~ else문\n",
    "\n",
    "# 조건에 따라 실행 문장이 달라짐\n",
    "'''\n",
    "if 조건식:\n",
    "    문장1\n",
    "else:\n",
    "    문장2\n",
    "'''\n",
    "\n",
    "print('1')\n",
    "\n",
    "if True:\n",
    "    print('True!!')\n",
    "else:\n",
    "    print('False!!')\n",
    "print('end')"
   ]
  },
  {
   "cell_type": "code",
   "execution_count": 7,
   "metadata": {},
   "outputs": [
    {
     "name": "stdin",
     "output_type": "stream",
     "text": [
      "숫자를 입력하세요:  23\n"
     ]
    },
    {
     "name": "stdout",
     "output_type": "stream",
     "text": [
      "홀수\n"
     ]
    }
   ],
   "source": [
    "# 문제1) 키보드로 숫자를 입력받아서 짝수인지 홀수인지 출력\n",
    "input_num = int(input('숫자를 입력하세요: '));\n",
    "\n",
    "if input_num % 2 == 0:\n",
    "    print('짝수')\n",
    "else:\n",
    "    print('홀수')"
   ]
  },
  {
   "cell_type": "code",
   "execution_count": 9,
   "metadata": {},
   "outputs": [
    {
     "name": "stdout",
     "output_type": "stream",
     "text": [
      "값이 있음\n"
     ]
    }
   ],
   "source": [
    "# 문제2) num_list에 정수 10이 존재하면 '값이 있음' 출력, 없으면 'None' 출력\n",
    "num_list = [10, 20, 30]\n",
    "\n",
    "if 10 in num_list:\n",
    "    print('값이 있음')\n",
    "else:\n",
    "    print('None')"
   ]
  },
  {
   "cell_type": "code",
   "execution_count": 13,
   "metadata": {},
   "outputs": [
    {
     "name": "stdin",
     "output_type": "stream",
     "text": [
      "점수를 입력하세요:  42\n"
     ]
    },
    {
     "name": "stdout",
     "output_type": "stream",
     "text": [
      "F학점\n"
     ]
    }
   ],
   "source": [
    "# 3. 다중 if문\n",
    "\n",
    "# 조건이 여러개일 경우\n",
    "'''\n",
    "if 조건식1:\n",
    "    문장1\n",
    "elif 조건식2:\n",
    "    문장2\n",
    "elif 조건식3:\n",
    "    문장3\n",
    "else:\n",
    "    문장4\n",
    "'''\n",
    "\n",
    "'''\n",
    "문제) 점수를 입력받아 학점 구하기\n",
    "90 ~ 100 : A학점\n",
    "80 ~ 89 : B학점\n",
    "70 ~ 79 : C학점\n",
    "0 ~ 69 : F학점\n",
    "'''\n",
    "score = int(input('점수를 입력하세요: '))\n",
    "\n",
    "if score >= 90:\n",
    "    print('A학점')\n",
    "elif score >= 80 and score < 90:\n",
    "    print('B학점')\n",
    "elif score >=70 and score < 80:\n",
    "    print('C학점')\n",
    "else:\n",
    "    print('F학점')"
   ]
  },
  {
   "cell_type": "code",
   "execution_count": 16,
   "metadata": {},
   "outputs": [
    {
     "name": "stdin",
     "output_type": "stream",
     "text": [
      "점수를 입력하세요:  89\n"
     ]
    },
    {
     "name": "stdout",
     "output_type": "stream",
     "text": [
      "B학점\n"
     ]
    }
   ],
   "source": [
    "score = int(input('점수를 입력하세요: '))\n",
    "\n",
    "if score >= 90:\n",
    "    print('A학점')\n",
    "elif 80 <= score < 90:\n",
    "    print('B학점')\n",
    "elif 70 <= score < 80:\n",
    "    print('C학점')\n",
    "else:\n",
    "    print('F학점')"
   ]
  },
  {
   "cell_type": "code",
   "execution_count": null,
   "metadata": {},
   "outputs": [],
   "source": []
  }
 ],
 "metadata": {
  "kernelspec": {
   "display_name": "Python 3",
   "language": "python",
   "name": "python3"
  },
  "language_info": {
   "codemirror_mode": {
    "name": "ipython",
    "version": 3
   },
   "file_extension": ".py",
   "mimetype": "text/x-python",
   "name": "python",
   "nbconvert_exporter": "python",
   "pygments_lexer": "ipython3",
   "version": "3.7.6"
  }
 },
 "nbformat": 4,
 "nbformat_minor": 4
}
