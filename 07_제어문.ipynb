{
 "cells": [
  {
   "cell_type": "markdown",
   "metadata": {},
   "source": [
    "# 제어문\n",
    "## 문장\n",
    "- 실행문\n",
    "    - 순차문\n",
    "    - 제어문\n",
    "        - 조건문 : 단일 if문, if~else문, 다중 if문, 3항 연산자\n",
    "        - 반복문 : for문, while문\n",
    "            - break\n",
    "            - continue\n",
    "            - else : break가 아닌 정상적으로 반복문이 종료되었을 때 실행\n",
    "        - 주의할 점은 반드시 들여쓰기를 해야 함\n",
    "        - 모든 제어문은 서로 간에 중첩이 가능\n",
    "- 비실행문\n",
    "    - 주석문(한줄, 멀티라인)\n",
    "\n",
    "## if문"
   ]
  },
  {
   "cell_type": "code",
   "execution_count": 3,
   "metadata": {},
   "outputs": [
    {
     "name": "stdout",
     "output_type": "stream",
     "text": [
      "1\n",
      "4\n"
     ]
    }
   ],
   "source": [
    "# 1. 단일 if문\n",
    "\n",
    "# print('2') 문장을 조건에 따라 실행(조건이 True)하거나 실행하지 않게(조건이 False) 처리\n",
    "'''\n",
    "if 조건식: -> 조건식에 사용가능한 연산자 : 비교, 논리, 멤버쉽, is None\n",
    "    문장\n",
    "'''\n",
    "\n",
    "print('1')\n",
    "\n",
    "if False:\n",
    "    print('2')\n",
    "    print('3')\n",
    "    \n",
    "print('4')"
   ]
  },
  {
   "cell_type": "code",
   "execution_count": 4,
   "metadata": {},
   "outputs": [
    {
     "name": "stdout",
     "output_type": "stream",
     "text": [
      "end\n"
     ]
    }
   ],
   "source": [
    "if 3 == 4:\n",
    "    print('true')\n",
    "print('end')"
   ]
  },
  {
   "cell_type": "code",
   "execution_count": 5,
   "metadata": {},
   "outputs": [
    {
     "name": "stdout",
     "output_type": "stream",
     "text": [
      "1\n",
      "True!!\n",
      "end\n"
     ]
    }
   ],
   "source": [
    "# 2. if ~ else문\n",
    "\n",
    "# 조건에 따라 실행 문장이 달라짐\n",
    "'''\n",
    "if 조건식:\n",
    "    문장1\n",
    "else:\n",
    "    문장2\n",
    "'''\n",
    "\n",
    "print('1')\n",
    "\n",
    "if True:\n",
    "    print('True!!')\n",
    "else:\n",
    "    print('False!!')\n",
    "print('end')"
   ]
  },
  {
   "cell_type": "code",
   "execution_count": 7,
   "metadata": {},
   "outputs": [
    {
     "name": "stdin",
     "output_type": "stream",
     "text": [
      "숫자를 입력하세요:  23\n"
     ]
    },
    {
     "name": "stdout",
     "output_type": "stream",
     "text": [
      "홀수\n"
     ]
    }
   ],
   "source": [
    "# 문제1) 키보드로 숫자를 입력받아서 짝수인지 홀수인지 출력\n",
    "input_num = int(input('숫자를 입력하세요: '));\n",
    "\n",
    "if input_num % 2 == 0:\n",
    "    print('짝수')\n",
    "else:\n",
    "    print('홀수')"
   ]
  },
  {
   "cell_type": "code",
   "execution_count": 9,
   "metadata": {},
   "outputs": [
    {
     "name": "stdout",
     "output_type": "stream",
     "text": [
      "값이 있음\n"
     ]
    }
   ],
   "source": [
    "# 문제2) num_list에 정수 10이 존재하면 '값이 있음' 출력, 없으면 'None' 출력\n",
    "num_list = [10, 20, 30]\n",
    "\n",
    "if 10 in num_list:\n",
    "    print('값이 있음')\n",
    "else:\n",
    "    print('None')"
   ]
  },
  {
   "cell_type": "code",
   "execution_count": 13,
   "metadata": {},
   "outputs": [
    {
     "name": "stdin",
     "output_type": "stream",
     "text": [
      "점수를 입력하세요:  42\n"
     ]
    },
    {
     "name": "stdout",
     "output_type": "stream",
     "text": [
      "F학점\n"
     ]
    }
   ],
   "source": [
    "# 3. 다중 if문\n",
    "\n",
    "# 조건이 여러개일 경우\n",
    "'''\n",
    "if 조건식1:\n",
    "    문장1\n",
    "elif 조건식2:\n",
    "    문장2\n",
    "elif 조건식3:\n",
    "    문장3\n",
    "else:\n",
    "    문장4\n",
    "'''\n",
    "\n",
    "'''\n",
    "문제) 점수를 입력받아 학점 구하기\n",
    "90 ~ 100 : A학점\n",
    "80 ~ 89 : B학점\n",
    "70 ~ 79 : C학점\n",
    "0 ~ 69 : F학점\n",
    "'''\n",
    "score = int(input('점수를 입력하세요: '))\n",
    "\n",
    "if score >= 90:\n",
    "    print('A학점')\n",
    "elif score >= 80 and score < 90:\n",
    "    print('B학점')\n",
    "elif score >=70 and score < 80:\n",
    "    print('C학점')\n",
    "else:\n",
    "    print('F학점')"
   ]
  },
  {
   "cell_type": "code",
   "execution_count": 16,
   "metadata": {},
   "outputs": [
    {
     "name": "stdin",
     "output_type": "stream",
     "text": [
      "점수를 입력하세요:  89\n"
     ]
    },
    {
     "name": "stdout",
     "output_type": "stream",
     "text": [
      "B학점\n"
     ]
    }
   ],
   "source": [
    "score = int(input('점수를 입력하세요: '))\n",
    "\n",
    "if score >= 90:\n",
    "    print('A학점')\n",
    "elif 80 <= score < 90:\n",
    "    print('B학점')\n",
    "elif 70 <= score < 80:\n",
    "    print('C학점')\n",
    "else:\n",
    "    print('F학점')"
   ]
  },
  {
   "cell_type": "code",
   "execution_count": 3,
   "metadata": {},
   "outputs": [
    {
     "name": "stdin",
     "output_type": "stream",
     "text": [
      "점수를 입력하세요:  90\n"
     ]
    },
    {
     "name": "stdout",
     "output_type": "stream",
     "text": [
      "합격\n"
     ]
    }
   ],
   "source": [
    "# 4. 3항연산자\n",
    "\n",
    "'''\n",
    "변수 = 참 if 조건식 else 거짓\n",
    "'''\n",
    "\n",
    "score = int(input('점수를 입력하세요: '))\n",
    "\n",
    "result = '합격' if score >=70 else '불합격'\n",
    "print(result)"
   ]
  },
  {
   "cell_type": "code",
   "execution_count": 6,
   "metadata": {},
   "outputs": [
    {
     "name": "stdin",
     "output_type": "stream",
     "text": [
      "숫자를 입력하세요:  15\n"
     ]
    },
    {
     "name": "stdout",
     "output_type": "stream",
     "text": [
      "The Best\n"
     ]
    }
   ],
   "source": [
    "# 3항연산자 중첩\n",
    "num = int(input('숫자를 입력하세요: '))\n",
    "result = 'The Best' if num > 10 else 'Good' if num > 5 else 'Worst'\n",
    "print(result)"
   ]
  },
  {
   "cell_type": "markdown",
   "metadata": {},
   "source": [
    "## for문"
   ]
  },
  {
   "cell_type": "code",
   "execution_count": 8,
   "metadata": {},
   "outputs": [
    {
     "name": "stdout",
     "output_type": "stream",
     "text": [
      "h\n",
      "e\n",
      "l\n",
      "l\n",
      "o\n"
     ]
    }
   ],
   "source": [
    "'''\n",
    "for 변수 in iterable객체(집합형 형태)\n",
    "    문장\n",
    "'''\n",
    "\n",
    "# 1. str\n",
    "for n in 'hello':\n",
    "    print(n)"
   ]
  },
  {
   "cell_type": "code",
   "execution_count": 11,
   "metadata": {},
   "outputs": [
    {
     "name": "stdout",
     "output_type": "stream",
     "text": [
      "1 h\n",
      "2 e\n",
      "3 l\n",
      "4 l\n",
      "5 o\n"
     ]
    }
   ],
   "source": [
    "for idx, val in enumerate('hello', start=1):\n",
    "    print(idx, val)"
   ]
  },
  {
   "cell_type": "code",
   "execution_count": 13,
   "metadata": {},
   "outputs": [
    {
     "name": "stdout",
     "output_type": "stream",
     "text": [
      "0 10\n",
      "1 20\n",
      "2 30\n"
     ]
    }
   ],
   "source": [
    "# 2. list\n",
    "for idx, val in enumerate([10, 20, 30]):\n",
    "    print(idx, val)"
   ]
  },
  {
   "cell_type": "code",
   "execution_count": 14,
   "metadata": {},
   "outputs": [
    {
     "name": "stdout",
     "output_type": "stream",
     "text": [
      "0 10\n",
      "1 20\n",
      "2 30\n"
     ]
    }
   ],
   "source": [
    "# 3. tuple\n",
    "for idx, val in enumerate((10, 20, 30)):\n",
    "    print(idx, val)"
   ]
  },
  {
   "cell_type": "code",
   "execution_count": 17,
   "metadata": {},
   "outputs": [
    {
     "name": "stdout",
     "output_type": "stream",
     "text": [
      "0 40\n",
      "1 10\n",
      "2 50\n",
      "3 20\n",
      "4 30\n"
     ]
    }
   ],
   "source": [
    "# set\n",
    "for idx, val in enumerate({10, 20, 30, 40, 50}):\n",
    "    print(idx, val)"
   ]
  },
  {
   "cell_type": "code",
   "execution_count": 26,
   "metadata": {},
   "outputs": [
    {
     "name": "stdout",
     "output_type": "stream",
     "text": [
      "username Kim\n",
      "age 20\n",
      "address Busan\n"
     ]
    }
   ],
   "source": [
    "# dict\n",
    "person = {\n",
    "    'username':'Kim',\n",
    "    'age':20,\n",
    "    'address':'Busan'\n",
    "}\n",
    "\n",
    "for key, val in person.items():\n",
    "    print(key, val)"
   ]
  },
  {
   "cell_type": "markdown",
   "metadata": {},
   "source": [
    "### break, continue"
   ]
  },
  {
   "cell_type": "code",
   "execution_count": 27,
   "metadata": {},
   "outputs": [
    {
     "name": "stdout",
     "output_type": "stream",
     "text": [
      "10\n",
      "20\n"
     ]
    }
   ],
   "source": [
    "# 1. for\n",
    "# break는 반복목을 빠져나감\n",
    "for n in [10, 20, 30, 40]:\n",
    "    if n == 30:\n",
    "        break\n",
    "    print(n)"
   ]
  },
  {
   "cell_type": "code",
   "execution_count": 29,
   "metadata": {},
   "outputs": [
    {
     "name": "stdout",
     "output_type": "stream",
     "text": [
      "A 1\n",
      "B 1\n",
      "C 1\n",
      "A 2\n",
      "A 3\n",
      "B 3\n",
      "C 3\n",
      "A 4\n",
      "B 4\n",
      "C 4\n"
     ]
    }
   ],
   "source": [
    "# continue는 반복문 끝으로 가서 다시 반복 실행\n",
    "for n in [1, 2, 3, 4]:\n",
    "    print('A', n)\n",
    "    if n == 2:\n",
    "        continue\n",
    "    print('B', n)\n",
    "    print('C', n)"
   ]
  },
  {
   "cell_type": "code",
   "execution_count": 31,
   "metadata": {},
   "outputs": [
    {
     "name": "stdout",
     "output_type": "stream",
     "text": [
      "10\n",
      "20\n"
     ]
    }
   ],
   "source": [
    "# 2. for ~ else\n",
    "for n in [10, 20, 30]:\n",
    "    if n == 30:\n",
    "        break\n",
    "    print(n)\n",
    "else:\n",
    "    print('반복문 정상 종료')"
   ]
  },
  {
   "cell_type": "markdown",
   "metadata": {},
   "source": [
    "### range\n",
    "- 자동으로 지정된 정수값의 개수만큼 리스트를 생성해주는 함수"
   ]
  },
  {
   "cell_type": "code",
   "execution_count": 33,
   "metadata": {},
   "outputs": [
    {
     "data": {
      "text/plain": [
       "[0, 1, 2, 3, 4, 5, 6, 7, 8, 9]"
      ]
     },
     "execution_count": 33,
     "metadata": {},
     "output_type": "execute_result"
    }
   ],
   "source": [
    "list(range(10))"
   ]
  },
  {
   "cell_type": "code",
   "execution_count": 34,
   "metadata": {},
   "outputs": [
    {
     "name": "stdout",
     "output_type": "stream",
     "text": [
      "0\n",
      "1\n",
      "2\n",
      "3\n",
      "4\n"
     ]
    }
   ],
   "source": [
    "for n in range(5):\n",
    "    print(n)"
   ]
  },
  {
   "cell_type": "code",
   "execution_count": null,
   "metadata": {},
   "outputs": [],
   "source": [
    "# 중첩 for문\n",
    "\n",
    "'''\n",
    "2 * 1 = 2\n",
    "2 * 2 = 4\n",
    "2 * 3 = 6\n",
    "..\n",
    "9 * 8 = 72\n",
    "9 * 9 = 81\n",
    "'''\n",
    "\n",
    "for i in range(2, 10):\n",
    "    print(f'[{i}단]')\n",
    "    for j in range(1, 10):\n",
    "        print(f'{i} * {j} = {i * j}')\n",
    "    print('')"
   ]
  },
  {
   "cell_type": "markdown",
   "metadata": {},
   "source": [
    "### List Comprehension\n",
    "- for문 활용\n",
    "- 용도: 리스트를 반복해서 가공한 후 새로운 리스트로 반환\n",
    "- 문법\n",
    "    - 변수명 = [표현식 for 항목 in 리스트]\n",
    "    - 변수명 = [표현식 for 항목 in 리스트 if 조건식]\n",
    "    - 변수명 = [참 if 조건 else 거짓 for 항목 in 리스트]"
   ]
  },
  {
   "cell_type": "code",
   "execution_count": 45,
   "metadata": {},
   "outputs": [
    {
     "data": {
      "text/plain": [
       "[15, 25]"
      ]
     },
     "execution_count": 45,
     "metadata": {},
     "output_type": "execute_result"
    }
   ],
   "source": [
    "n2 = []\n",
    "for n in [10, 20]:\n",
    "    n2.append(n + 5)\n",
    "n2"
   ]
  },
  {
   "cell_type": "code",
   "execution_count": 46,
   "metadata": {},
   "outputs": [
    {
     "data": {
      "text/plain": [
       "[15, 25, 35]"
      ]
     },
     "execution_count": 46,
     "metadata": {},
     "output_type": "execute_result"
    }
   ],
   "source": [
    "new_list = [n + 5 for n in [10, 20, 30]]\n",
    "new_list"
   ]
  },
  {
   "cell_type": "code",
   "execution_count": 48,
   "metadata": {},
   "outputs": [
    {
     "data": {
      "text/plain": [
       "[2, 4, 6, 8, 10]"
      ]
     },
     "execution_count": 48,
     "metadata": {},
     "output_type": "execute_result"
    }
   ],
   "source": [
    "result = [i for i in range(1, 11) if i % 2 == 0]\n",
    "result"
   ]
  },
  {
   "cell_type": "code",
   "execution_count": 49,
   "metadata": {},
   "outputs": [
    {
     "data": {
      "text/plain": [
       "[0, 3, 2, 5, 4, 7, 6, 9, 8, 11]"
      ]
     },
     "execution_count": 49,
     "metadata": {},
     "output_type": "execute_result"
    }
   ],
   "source": [
    "result = [i + 1 if i % 2 == 0 else i - 1 for i in range(1, 11)]\n",
    "result"
   ]
  },
  {
   "cell_type": "markdown",
   "metadata": {},
   "source": [
    "### Dict Comperehension\n",
    "- for문 활용\n",
    "- 용도: dict를 반복해서 가공한 후 새로운 dict로 반환\n",
    "- 문법\n",
    "    - 변수명 = { k : v for k, v in dict.items() }\n",
    "    - 변수명 = { k : v for k, v in dict.items() if 조건식 }\n",
    "    - 변수명 = { 참 if 조건식 else 거짓 for k, v in dict.items() }"
   ]
  },
  {
   "cell_type": "code",
   "execution_count": 50,
   "metadata": {},
   "outputs": [],
   "source": [
    "m = {'a':10, 'b':20, 'c':30}"
   ]
  },
  {
   "cell_type": "code",
   "execution_count": 57,
   "metadata": {},
   "outputs": [
    {
     "data": {
      "text/plain": [
       "{'a': 20, 'b': 30, 'c': 40}"
      ]
     },
     "execution_count": 57,
     "metadata": {},
     "output_type": "execute_result"
    }
   ],
   "source": [
    "new_m = {k:v + 10 for k, v in m.items()}\n",
    "new_m"
   ]
  },
  {
   "cell_type": "code",
   "execution_count": 58,
   "metadata": {},
   "outputs": [
    {
     "data": {
      "text/plain": [
       "{10: 'a', 20: 'b', 30: 'c'}"
      ]
     },
     "execution_count": 58,
     "metadata": {},
     "output_type": "execute_result"
    }
   ],
   "source": [
    "new_m2 = {v:k for k, v in m.items()}\n",
    "new_m2"
   ]
  },
  {
   "cell_type": "code",
   "execution_count": 59,
   "metadata": {},
   "outputs": [
    {
     "data": {
      "text/plain": [
       "{'a': 10, 'b': 20}"
      ]
     },
     "execution_count": 59,
     "metadata": {},
     "output_type": "execute_result"
    }
   ],
   "source": [
    "new_m3 = {k:v for k, v in m.items() if k != 'c'}\n",
    "new_m3"
   ]
  },
  {
   "cell_type": "code",
   "execution_count": 62,
   "metadata": {},
   "outputs": [
    {
     "data": {
      "text/plain": [
       "{'a': 20, 'b': 10, 'c': 20}"
      ]
     },
     "execution_count": 62,
     "metadata": {},
     "output_type": "execute_result"
    }
   ],
   "source": [
    "new_m4 = {k:v + 10 if k == 'a' else v - 10 for k, v in m.items()}\n",
    "new_m4"
   ]
  },
  {
   "cell_type": "markdown",
   "metadata": {},
   "source": [
    "## while문\n",
    "- 조건식이 만족하면 반복, 만족하지 않으면 반복 중단"
   ]
  },
  {
   "cell_type": "code",
   "execution_count": 63,
   "metadata": {},
   "outputs": [
    {
     "name": "stdout",
     "output_type": "stream",
     "text": [
      "hi\n",
      "hi\n",
      "hi\n",
      "hi\n",
      "hi\n"
     ]
    }
   ],
   "source": [
    "'''\n",
    "변수 = 값\n",
    "while 조건식:\n",
    "    문장\n",
    "'''\n",
    "\n",
    "n = 0\n",
    "while n < 5:\n",
    "    print('hi')\n",
    "    n += 1"
   ]
  },
  {
   "cell_type": "code",
   "execution_count": 66,
   "metadata": {},
   "outputs": [
    {
     "name": "stdin",
     "output_type": "stream",
     "text": [
      "입력(Q - 종료):  aa\n"
     ]
    },
    {
     "name": "stdout",
     "output_type": "stream",
     "text": [
      "aa\n"
     ]
    },
    {
     "name": "stdin",
     "output_type": "stream",
     "text": [
      "입력(Q - 종료):  q\n"
     ]
    },
    {
     "name": "stdout",
     "output_type": "stream",
     "text": [
      "종료됨\n"
     ]
    }
   ],
   "source": [
    "while True:\n",
    "    m = input('입력(Q - 종료): ')\n",
    "    if m.lower() == 'q':\n",
    "        print('종료됨')\n",
    "        break\n",
    "    else:\n",
    "        print(m)    "
   ]
  },
  {
   "cell_type": "code",
   "execution_count": null,
   "metadata": {},
   "outputs": [],
   "source": []
  }
 ],
 "metadata": {
  "kernelspec": {
   "display_name": "Python 3",
   "language": "python",
   "name": "python3"
  },
  "language_info": {
   "codemirror_mode": {
    "name": "ipython",
    "version": 3
   },
   "file_extension": ".py",
   "mimetype": "text/x-python",
   "name": "python",
   "nbconvert_exporter": "python",
   "pygments_lexer": "ipython3",
   "version": "3.7.6"
  }
 },
 "nbformat": 4,
 "nbformat_minor": 4
}
