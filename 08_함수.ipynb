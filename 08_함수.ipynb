{
 "cells": [
  {
   "cell_type": "markdown",
   "metadata": {},
   "source": [
    "# 함수\n",
    "- 용도: 기능처리 담당\n",
    "- 종류\n",
    "    - 시스템 정의 함수(built-in)\n",
    "         - \\__built-ins__ 함수: len, print, input, str, int, tuple, list, dict, zip, divmod, chr, ord, bin, float, bool, sorted, reversed,...\n",
    "         - 문자열 함수: upper, lower, capitalize, strip, lstrip, rstrip, find, count, isDigit, isAlpha\n",
    "         - 리스트 함수: insert, append, pop, remove, clear, update, sort, reverse, count, index,...\n",
    "         - 튜플 함수: count, index\n",
    "         - 셋 함수: difference, intersection, union,...\n",
    "         - 딕셔너리 함수: keys, values, items, update,...\n",
    "    - 사용자 정의 함수 : 시스템이 제공하지 않는 기능이 필요한 경우 사용자가 직접 생성해서 사용\n",
    "- 특징\n",
    "    - 반드시 호출해야 실행됨. 실행 후에는 반드시 호출한 곳으로 돌아옴(리턴)\n",
    "    - 호출할 때는 반드시 파라미터 변수와 파라미터(인자값)의 개수가 같아야 됨\n",
    "    - 함수 내에서 리턴값이 없을 경우 알아서 None을 리턴해줌\n",
    "    - 리턴되는 값은 반드시 하나. 여러개를 리턴하려면 집합형에 저장해서 반환하면 됨\n",
    "    - 리턴의 다른 용도는 함수의 실행을 중지할 때 사용됨"
   ]
  },
  {
   "cell_type": "code",
   "execution_count": null,
   "metadata": {},
   "outputs": [],
   "source": [
    "'''\n",
    "def 함수명([파라미터1, 파라미터2,...]):\n",
    "    문장\n",
    "    [return 값]\n",
    "    \n",
    "- 파라미터 변수 없고 리턴값 없는 경우\n",
    "    def 함수명():\n",
    "        문장\n",
    "- 파라미터 변수 있고 리턴값 없는 경우\n",
    "    def 함수명(변수1, 변수2,...):\n",
    "        문장\n",
    "- 파라미터 변수 없고 리턴값 있는 경우\n",
    "    def 함수명():\n",
    "        문장\n",
    "        return 값\n",
    "- 파라미터 변수 있고 리턴값 있는 경우\n",
    "    def 함수명(변수1, 변수2,...):\n",
    "        문장\n",
    "        return 값\n",
    "'''"
   ]
  },
  {
   "cell_type": "code",
   "execution_count": 4,
   "metadata": {},
   "outputs": [],
   "source": [
    "# 1. 파라미터 변수 없고 리턴값 없는 경우\n",
    "def func1():\n",
    "    print('executed func1..')"
   ]
  },
  {
   "cell_type": "code",
   "execution_count": 5,
   "metadata": {},
   "outputs": [
    {
     "name": "stdout",
     "output_type": "stream",
     "text": [
      "executed func1..\n"
     ]
    }
   ],
   "source": [
    "func1()"
   ]
  },
  {
   "cell_type": "code",
   "execution_count": 1,
   "metadata": {},
   "outputs": [],
   "source": [
    "# 2. 파라미터 변수 있고 리턴값 없는 경우\n",
    "def func2(num1, num2):\n",
    "    print(num1 + num2)"
   ]
  },
  {
   "cell_type": "code",
   "execution_count": 2,
   "metadata": {},
   "outputs": [
    {
     "name": "stdout",
     "output_type": "stream",
     "text": [
      "3\n"
     ]
    }
   ],
   "source": [
    "func2(1, 2)"
   ]
  },
  {
   "cell_type": "code",
   "execution_count": 3,
   "metadata": {},
   "outputs": [],
   "source": [
    "# 3. 파라미터 변수 없고 리턴값 있는 경우\n",
    "def func3():\n",
    "    return 100"
   ]
  },
  {
   "cell_type": "code",
   "execution_count": 4,
   "metadata": {},
   "outputs": [
    {
     "data": {
      "text/plain": [
       "100"
      ]
     },
     "execution_count": 4,
     "metadata": {},
     "output_type": "execute_result"
    }
   ],
   "source": [
    "result = func3()\n",
    "result"
   ]
  },
  {
   "cell_type": "code",
   "execution_count": 5,
   "metadata": {},
   "outputs": [],
   "source": [
    "# 4. 파라미터 변수 있고 리턴값 있는 경우\n",
    "def func4(num1, num2):\n",
    "    return num1 + num2"
   ]
  },
  {
   "cell_type": "code",
   "execution_count": 6,
   "metadata": {},
   "outputs": [
    {
     "data": {
      "text/plain": [
       "3"
      ]
     },
     "execution_count": 6,
     "metadata": {},
     "output_type": "execute_result"
    }
   ],
   "source": [
    "result = func4(1, 2)\n",
    "result"
   ]
  },
  {
   "cell_type": "code",
   "execution_count": 17,
   "metadata": {},
   "outputs": [],
   "source": [
    "# 문제1) 주민등록번호를 암호화하는 함수를 작성하시오.\n",
    "def encryptNumber(jumin_no):\n",
    "    return jumin_no[:8].ljust(14, '*')"
   ]
  },
  {
   "cell_type": "code",
   "execution_count": 18,
   "metadata": {},
   "outputs": [
    {
     "name": "stdin",
     "output_type": "stream",
     "text": [
      "주민등록번호를 입력하세요:  123456-1234567\n"
     ]
    },
    {
     "name": "stdout",
     "output_type": "stream",
     "text": [
      "123456-1******\n"
     ]
    }
   ],
   "source": [
    "jumin_no = input('주민등록번호를 입력하세요: ')\n",
    "result = encryptNumber(jumin_no)\n",
    "print(result)"
   ]
  },
  {
   "cell_type": "code",
   "execution_count": 12,
   "metadata": {},
   "outputs": [],
   "source": [
    "# 문제2) 파일명만 반환하는 함수를 작성하시오.\n",
    "def getFileName(file_name):\n",
    "    return file_name.split('.')[0]"
   ]
  },
  {
   "cell_type": "code",
   "execution_count": 14,
   "metadata": {},
   "outputs": [
    {
     "name": "stdin",
     "output_type": "stream",
     "text": [
      "파일명을 입력하세요:  abcdef.pdf\n"
     ]
    },
    {
     "name": "stdout",
     "output_type": "stream",
     "text": [
      "abcdef\n"
     ]
    }
   ],
   "source": [
    "file_name = input('파일명을 입력하세요: ')\n",
    "result = getFileName(file_name)\n",
    "print(result)"
   ]
  },
  {
   "cell_type": "markdown",
   "metadata": {},
   "source": [
    "## 파라미터 전달 - 얕은 복사\n",
    "- 함수 호출 시 전달되는 파라미터는 얕은 복사(주소값 복사)로 전달됨. 따라서 함수에서 전달받은 값을 변경하면 원본이 수정됨\n",
    "- 기본값은 값이 복사(call by value)되어 전달되고, 집합형은 주소값이 전달(call by value reference)됨"
   ]
  },
  {
   "cell_type": "code",
   "execution_count": 29,
   "metadata": {},
   "outputs": [],
   "source": [
    "def func1(n, n2):\n",
    "    n = 20\n",
    "    n2[0] = 40"
   ]
  },
  {
   "cell_type": "code",
   "execution_count": 30,
   "metadata": {},
   "outputs": [
    {
     "data": {
      "text/plain": [
       "(10, [10, 20, 30])"
      ]
     },
     "execution_count": 30,
     "metadata": {},
     "output_type": "execute_result"
    }
   ],
   "source": [
    "x = 10\n",
    "x2 = [10, 20, 30]\n",
    "x, x2"
   ]
  },
  {
   "cell_type": "code",
   "execution_count": 28,
   "metadata": {},
   "outputs": [
    {
     "data": {
      "text/plain": [
       "(10, [40, 20, 30])"
      ]
     },
     "execution_count": 28,
     "metadata": {},
     "output_type": "execute_result"
    }
   ],
   "source": [
    "# 얕은 복사 : 원본 변경\n",
    "func1(x, x2)\n",
    "x, x2"
   ]
  },
  {
   "cell_type": "code",
   "execution_count": 31,
   "metadata": {},
   "outputs": [
    {
     "data": {
      "text/plain": [
       "(10, [10, 20, 30])"
      ]
     },
     "execution_count": 31,
     "metadata": {},
     "output_type": "execute_result"
    }
   ],
   "source": [
    "# 깊은 복사 : 원본 유지\n",
    "func1(x, x2.copy())\n",
    "func1(x, x2[:])\n",
    "func1(x, list(x2))\n",
    "x, x2"
   ]
  },
  {
   "cell_type": "markdown",
   "metadata": {},
   "source": [
    "## 추가 특징\n",
    "### default 파라미터\n",
    "- 기본적으로 함수 호출 시 파라미터(인자값)의 개수와 파라미터 변수의 개수는 같아야 함\n",
    "- 다음과 같이 파라미터 변수에 초기값을 지정하면 개수가 일치하지 않아도 에러가 발생하지 않음"
   ]
  },
  {
   "cell_type": "code",
   "execution_count": 32,
   "metadata": {},
   "outputs": [],
   "source": [
    "def func1(n=1, n2=2):\n",
    "    print(n, n2)"
   ]
  },
  {
   "cell_type": "code",
   "execution_count": 33,
   "metadata": {},
   "outputs": [
    {
     "name": "stdout",
     "output_type": "stream",
     "text": [
      "1 2\n"
     ]
    }
   ],
   "source": [
    "func1()"
   ]
  },
  {
   "cell_type": "code",
   "execution_count": 34,
   "metadata": {},
   "outputs": [
    {
     "name": "stdout",
     "output_type": "stream",
     "text": [
      "10 2\n"
     ]
    }
   ],
   "source": [
    "func1(10)"
   ]
  },
  {
   "cell_type": "code",
   "execution_count": 35,
   "metadata": {},
   "outputs": [
    {
     "name": "stdout",
     "output_type": "stream",
     "text": [
      "100 200\n"
     ]
    }
   ],
   "source": [
    "func1(100, 200)"
   ]
  },
  {
   "cell_type": "markdown",
   "metadata": {},
   "source": [
    "### packing"
   ]
  },
  {
   "cell_type": "code",
   "execution_count": 42,
   "metadata": {},
   "outputs": [],
   "source": [
    "def func2(m, *n):\n",
    "    print(m, n)"
   ]
  },
  {
   "cell_type": "code",
   "execution_count": 44,
   "metadata": {},
   "outputs": [
    {
     "name": "stdout",
     "output_type": "stream",
     "text": [
      "1 (2, 4, 5)\n"
     ]
    }
   ],
   "source": [
    "func2(1, 2, 4, 5)"
   ]
  },
  {
   "cell_type": "code",
   "execution_count": 45,
   "metadata": {},
   "outputs": [
    {
     "name": "stdout",
     "output_type": "stream",
     "text": [
      "1 (5, 7)\n"
     ]
    }
   ],
   "source": [
    "func2(1, 5, 7)"
   ]
  },
  {
   "cell_type": "code",
   "execution_count": 46,
   "metadata": {},
   "outputs": [],
   "source": [
    "def func3(m, **n):\n",
    "    print(m, n)"
   ]
  },
  {
   "cell_type": "code",
   "execution_count": 48,
   "metadata": {},
   "outputs": [
    {
     "name": "stdout",
     "output_type": "stream",
     "text": [
      "50 {'name': 'Kim', 'age': 20, 'address': 'Busan'}\n"
     ]
    }
   ],
   "source": [
    "func3(50, name='Kim', age=20, address='Busan')"
   ]
  },
  {
   "cell_type": "code",
   "execution_count": 49,
   "metadata": {},
   "outputs": [],
   "source": [
    "def func4(x, *m, **n):\n",
    "    print(x, m, n)"
   ]
  },
  {
   "cell_type": "code",
   "execution_count": 50,
   "metadata": {},
   "outputs": [
    {
     "name": "stdout",
     "output_type": "stream",
     "text": [
      "1 (2, 3) {'name': 'Kim', 'age': 20}\n"
     ]
    }
   ],
   "source": [
    "func4(1, 2, 3, name=\"Kim\", age=20)"
   ]
  },
  {
   "cell_type": "code",
   "execution_count": null,
   "metadata": {},
   "outputs": [],
   "source": []
  }
 ],
 "metadata": {
  "interpreter": {
   "hash": "7d187b49f34d1b1c19be91b0849dadb3820f61465f758bb4c66e79bb24cc2fe2"
  },
  "kernelspec": {
   "display_name": "Python 3",
   "language": "python",
   "name": "python3"
  },
  "language_info": {
   "codemirror_mode": {
    "name": "ipython",
    "version": 3
   },
   "file_extension": ".py",
   "mimetype": "text/x-python",
   "name": "python",
   "nbconvert_exporter": "python",
   "pygments_lexer": "ipython3",
   "version": "3.7.10"
  }
 },
 "nbformat": 4,
 "nbformat_minor": 4
}
