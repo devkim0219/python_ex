{
 "cells": [
  {
   "cell_type": "markdown",
   "metadata": {},
   "source": [
    "# 함수\n",
    "- 용도: 기능처리 담당\n",
    "- 종류\n",
    "    - 시스템 정의 함수(built-in)\n",
    "         - \\__built-ins__ 함수: len, print, input, str, int, tuple, list, dict, zip, divmod, chr, ord, bin, float, bool, sorted, reversed,...\n",
    "         - 문자열 함수: upper, lower, capitalize, strip, lstrip, rstrip, find, count, isDigit, isAlpha\n",
    "         - 리스트 함수: insert, append, pop, remove, clear, update, sort, reverse, count, index,...\n",
    "         - 튜플 함수: count, index\n",
    "         - 셋 함수: difference, intersection, union,...\n",
    "         - 딕셔너리 함수: keys, values, items, update,...\n",
    "    - 사용자 정의 함수 : 시스템이 제공하지 않는 기능이 필요한 경우 사용자가 직접 생성해서 사용\n",
    "- 특징\n",
    "    - 반드시 호출해야 실행됨. 실행 후에는 반드시 호출한 곳으로 돌아옴(리턴)\n",
    "    - 호출할 때는 반드시 파라미터 변수와 파라미터(인자값)의 개수가 같아야 됨\n",
    "    - 함수 내에서 리턴값이 없을 경우 알아서 None을 리턴해줌\n",
    "    - 리턴되는 값은 반드시 하나. 여러개를 리턴하려면 집합형에 저장해서 반환하면 됨\n",
    "    - 리턴의 다른 용도는 함수의 실행을 중지할 때 사용됨"
   ]
  },
  {
   "cell_type": "code",
   "execution_count": null,
   "metadata": {},
   "outputs": [],
   "source": [
    "'''\n",
    "def 함수명([파라미터1, 파라미터2,...]):\n",
    "    문장\n",
    "    [return 값]\n",
    "    \n",
    "- 파라미터 변수 없고 리턴값 없는 경우\n",
    "    def 함수명():\n",
    "        문장\n",
    "- 파라미터 변수 있고 리턴값 없는 경우\n",
    "    def 함수명(변수1, 변수2,...):\n",
    "        문장\n",
    "- 파라미터 변수 없고 리턴값 있는 경우\n",
    "    def 함수명():\n",
    "        문장\n",
    "        return 값\n",
    "- 파라미터 변수 있고 리턴값 있는 경우\n",
    "    def 함수명(변수1, 변수2,...):\n",
    "        문장\n",
    "        return 값\n",
    "'''"
   ]
  },
  {
   "cell_type": "code",
   "execution_count": 4,
   "metadata": {},
   "outputs": [],
   "source": [
    "# 1. 파라미터 변수 없고 리턴값 없는 경우\n",
    "def func1():\n",
    "    print('executed func1..')"
   ]
  },
  {
   "cell_type": "code",
   "execution_count": 5,
   "metadata": {},
   "outputs": [
    {
     "name": "stdout",
     "output_type": "stream",
     "text": [
      "executed func1..\n"
     ]
    }
   ],
   "source": [
    "func1()"
   ]
  },
  {
   "cell_type": "code",
   "execution_count": 1,
   "metadata": {},
   "outputs": [],
   "source": [
    "# 2. 파라미터 변수 있고 리턴값 없는 경우\n",
    "def func2(num1, num2):\n",
    "    print(num1 + num2)"
   ]
  },
  {
   "cell_type": "code",
   "execution_count": 2,
   "metadata": {},
   "outputs": [
    {
     "name": "stdout",
     "output_type": "stream",
     "text": [
      "3\n"
     ]
    }
   ],
   "source": [
    "func2(1, 2)"
   ]
  },
  {
   "cell_type": "code",
   "execution_count": 3,
   "metadata": {},
   "outputs": [],
   "source": [
    "# 3. 파라미터 변수 없고 리턴값 있는 경우\n",
    "def func3():\n",
    "    return 100"
   ]
  },
  {
   "cell_type": "code",
   "execution_count": 4,
   "metadata": {},
   "outputs": [
    {
     "data": {
      "text/plain": [
       "100"
      ]
     },
     "execution_count": 4,
     "metadata": {},
     "output_type": "execute_result"
    }
   ],
   "source": [
    "result = func3()\n",
    "result"
   ]
  },
  {
   "cell_type": "code",
   "execution_count": 5,
   "metadata": {},
   "outputs": [],
   "source": [
    "# 4. 파라미터 변수 있고 리턴값 있는 경우\n",
    "def func4(num1, num2):\n",
    "    return num1 + num2"
   ]
  },
  {
   "cell_type": "code",
   "execution_count": 6,
   "metadata": {},
   "outputs": [
    {
     "data": {
      "text/plain": [
       "3"
      ]
     },
     "execution_count": 6,
     "metadata": {},
     "output_type": "execute_result"
    }
   ],
   "source": [
    "result = func4(1, 2)\n",
    "result"
   ]
  },
  {
   "cell_type": "code",
   "execution_count": 17,
   "metadata": {},
   "outputs": [],
   "source": [
    "# 문제1) 주민등록번호를 암호화하는 함수를 작성하시오.\n",
    "def encryptNumber(jumin_no):\n",
    "    return jumin_no[:8].ljust(14, '*')"
   ]
  },
  {
   "cell_type": "code",
   "execution_count": 18,
   "metadata": {},
   "outputs": [
    {
     "name": "stdin",
     "output_type": "stream",
     "text": [
      "주민등록번호를 입력하세요:  123456-1234567\n"
     ]
    },
    {
     "name": "stdout",
     "output_type": "stream",
     "text": [
      "123456-1******\n"
     ]
    }
   ],
   "source": [
    "jumin_no = input('주민등록번호를 입력하세요: ')\n",
    "result = encryptNumber(jumin_no)\n",
    "print(result)"
   ]
  },
  {
   "cell_type": "code",
   "execution_count": 12,
   "metadata": {},
   "outputs": [],
   "source": [
    "# 문제2) 파일명만 반환하는 함수를 작성하시오.\n",
    "def getFileName(file_name):\n",
    "    return file_name.split('.')[0]"
   ]
  },
  {
   "cell_type": "code",
   "execution_count": 14,
   "metadata": {},
   "outputs": [
    {
     "name": "stdin",
     "output_type": "stream",
     "text": [
      "파일명을 입력하세요:  abcdef.pdf\n"
     ]
    },
    {
     "name": "stdout",
     "output_type": "stream",
     "text": [
      "abcdef\n"
     ]
    }
   ],
   "source": [
    "file_name = input('파일명을 입력하세요: ')\n",
    "result = getFileName(file_name)\n",
    "print(result)"
   ]
  },
  {
   "cell_type": "markdown",
   "metadata": {},
   "source": [
    "## 파라미터 전달 - 얕은 복사\n",
    "- 함수 호출 시 전달되는 파라미터는 얕은 복사(주소값 복사)로 전달됨. 따라서 함수에서 전달받은 값을 변경하면 원본이 수정됨\n",
    "- 기본값은 값이 복사(call by value)되어 전달되고, 집합형은 주소값이 전달(call by value reference)됨"
   ]
  },
  {
   "cell_type": "code",
   "execution_count": 29,
   "metadata": {},
   "outputs": [],
   "source": [
    "def func1(n, n2):\n",
    "    n = 20\n",
    "    n2[0] = 40"
   ]
  },
  {
   "cell_type": "code",
   "execution_count": 30,
   "metadata": {},
   "outputs": [
    {
     "data": {
      "text/plain": [
       "(10, [10, 20, 30])"
      ]
     },
     "execution_count": 30,
     "metadata": {},
     "output_type": "execute_result"
    }
   ],
   "source": [
    "x = 10\n",
    "x2 = [10, 20, 30]\n",
    "x, x2"
   ]
  },
  {
   "cell_type": "code",
   "execution_count": 28,
   "metadata": {},
   "outputs": [
    {
     "data": {
      "text/plain": [
       "(10, [40, 20, 30])"
      ]
     },
     "execution_count": 28,
     "metadata": {},
     "output_type": "execute_result"
    }
   ],
   "source": [
    "# 얕은 복사 : 원본 변경\n",
    "func1(x, x2)\n",
    "x, x2"
   ]
  },
  {
   "cell_type": "code",
   "execution_count": 31,
   "metadata": {},
   "outputs": [
    {
     "data": {
      "text/plain": [
       "(10, [10, 20, 30])"
      ]
     },
     "execution_count": 31,
     "metadata": {},
     "output_type": "execute_result"
    }
   ],
   "source": [
    "# 깊은 복사 : 원본 유지\n",
    "func1(x, x2.copy())\n",
    "func1(x, x2[:])\n",
    "func1(x, list(x2))\n",
    "x, x2"
   ]
  },
  {
   "cell_type": "markdown",
   "metadata": {},
   "source": [
    "## 추가 특징"
   ]
  },
  {
   "cell_type": "markdown",
   "metadata": {},
   "source": [
    "### default 파라미터\n",
    "- 기본적으로 함수 호출 시 파라미터(인자값)의 개수와 파라미터 변수의 개수는 같아야 함\n",
    "- 다음과 같이 파라미터 변수에 초기값을 지정하면 개수가 일치하지 않아도 에러가 발생하지 않음"
   ]
  },
  {
   "cell_type": "code",
   "execution_count": 32,
   "metadata": {},
   "outputs": [],
   "source": [
    "def func1(n=1, n2=2):\n",
    "    print(n, n2)"
   ]
  },
  {
   "cell_type": "code",
   "execution_count": 33,
   "metadata": {},
   "outputs": [
    {
     "name": "stdout",
     "output_type": "stream",
     "text": [
      "1 2\n"
     ]
    }
   ],
   "source": [
    "func1()"
   ]
  },
  {
   "cell_type": "code",
   "execution_count": 34,
   "metadata": {},
   "outputs": [
    {
     "name": "stdout",
     "output_type": "stream",
     "text": [
      "10 2\n"
     ]
    }
   ],
   "source": [
    "func1(10)"
   ]
  },
  {
   "cell_type": "code",
   "execution_count": 35,
   "metadata": {},
   "outputs": [
    {
     "name": "stdout",
     "output_type": "stream",
     "text": [
      "100 200\n"
     ]
    }
   ],
   "source": [
    "func1(100, 200)"
   ]
  },
  {
   "cell_type": "markdown",
   "metadata": {},
   "source": [
    "### named 파라미터\n",
    "- 함수 호출 시 '변수명 = 값' 형식으로 호출하는 방법"
   ]
  },
  {
   "cell_type": "code",
   "execution_count": 1,
   "metadata": {},
   "outputs": [],
   "source": [
    "def namedFunc(name, age, address='Busan'):\n",
    "    print(name, age, address)"
   ]
  },
  {
   "cell_type": "code",
   "execution_count": 2,
   "metadata": {},
   "outputs": [
    {
     "name": "stdout",
     "output_type": "stream",
     "text": [
      "Kim 20 Seoul\n",
      "Kim 20 Seoul\n",
      "Kim 20 Busan\n"
     ]
    }
   ],
   "source": [
    "namedFunc('Kim', 20, 'Seoul')\n",
    "namedFunc(name='Kim', age=20, address='Seoul')\n",
    "namedFunc(age=20, name='Kim')"
   ]
  },
  {
   "cell_type": "markdown",
   "metadata": {},
   "source": [
    "### packing"
   ]
  },
  {
   "cell_type": "code",
   "execution_count": 42,
   "metadata": {},
   "outputs": [],
   "source": [
    "def func2(m, *n):\n",
    "    print(m, n)"
   ]
  },
  {
   "cell_type": "code",
   "execution_count": 44,
   "metadata": {},
   "outputs": [
    {
     "name": "stdout",
     "output_type": "stream",
     "text": [
      "1 (2, 4, 5)\n"
     ]
    }
   ],
   "source": [
    "func2(1, 2, 4, 5)"
   ]
  },
  {
   "cell_type": "code",
   "execution_count": 45,
   "metadata": {},
   "outputs": [
    {
     "name": "stdout",
     "output_type": "stream",
     "text": [
      "1 (5, 7)\n"
     ]
    }
   ],
   "source": [
    "func2(1, 5, 7)"
   ]
  },
  {
   "cell_type": "code",
   "execution_count": 46,
   "metadata": {},
   "outputs": [],
   "source": [
    "def func3(m, **n):\n",
    "    print(m, n)"
   ]
  },
  {
   "cell_type": "code",
   "execution_count": 48,
   "metadata": {},
   "outputs": [
    {
     "name": "stdout",
     "output_type": "stream",
     "text": [
      "50 {'name': 'Kim', 'age': 20, 'address': 'Busan'}\n"
     ]
    }
   ],
   "source": [
    "func3(50, name='Kim', age=20, address='Busan')"
   ]
  },
  {
   "cell_type": "code",
   "execution_count": 49,
   "metadata": {},
   "outputs": [],
   "source": [
    "def func4(x, *m, **n):\n",
    "    print(x, m, n)"
   ]
  },
  {
   "cell_type": "code",
   "execution_count": 50,
   "metadata": {},
   "outputs": [
    {
     "name": "stdout",
     "output_type": "stream",
     "text": [
      "1 (2, 3) {'name': 'Kim', 'age': 20}\n"
     ]
    }
   ],
   "source": [
    "func4(1, 2, 3, name=\"Kim\", age=20)"
   ]
  },
  {
   "cell_type": "markdown",
   "metadata": {},
   "source": [
    "### unpacking\n",
    "- 파라미터(인자값)가 분해되어 함수 파라미터로 전달됨"
   ]
  },
  {
   "cell_type": "code",
   "execution_count": 34,
   "metadata": {},
   "outputs": [],
   "source": [
    "def func1(n, *n2):\n",
    "    print(n, n2)"
   ]
  },
  {
   "cell_type": "code",
   "execution_count": 35,
   "metadata": {},
   "outputs": [
    {
     "name": "stdout",
     "output_type": "stream",
     "text": [
      "10 (20, 30)\n"
     ]
    }
   ],
   "source": [
    "func1(*[10, 20, 30])"
   ]
  },
  {
   "cell_type": "markdown",
   "metadata": {},
   "source": [
    "### 일급객체(first-class)\n",
    "- 함수를 데이터로 처리\n",
    "    - 변수에 저장 가능\n",
    "    - 호출 시 인자값으로 함수를 사용할 수 있음\n",
    "    - 리턴값으로 함수를 사용할 수 있음\n",
    "- 함수명과 일반 변수명을 같은 것으로 봄\n",
    "- 함수명()이 아닌 함수명만 사용해서 특정시점에 ()를 붙여서 실행하게 할 수 있음\n",
    "    - 특정시점\n",
    "        - 시스템이 필요에 의해 호출(callback)\n",
    "        - 사용자가 필요에 의해 호출"
   ]
  },
  {
   "cell_type": "code",
   "execution_count": 8,
   "metadata": {},
   "outputs": [],
   "source": [
    "def func1():\n",
    "    print('executed func1..')"
   ]
  },
  {
   "cell_type": "code",
   "execution_count": 6,
   "metadata": {},
   "outputs": [
    {
     "name": "stdout",
     "output_type": "stream",
     "text": [
      "<function func1 at 0x7f526c573b00>\n"
     ]
    }
   ],
   "source": [
    "print(func1)"
   ]
  },
  {
   "cell_type": "code",
   "execution_count": 9,
   "metadata": {},
   "outputs": [
    {
     "name": "stdout",
     "output_type": "stream",
     "text": [
      "executed func1..\n"
     ]
    }
   ],
   "source": [
    "# func1 = 100\n",
    "func1()"
   ]
  },
  {
   "cell_type": "code",
   "execution_count": 13,
   "metadata": {},
   "outputs": [],
   "source": [
    "new_func = func1"
   ]
  },
  {
   "cell_type": "code",
   "execution_count": 14,
   "metadata": {},
   "outputs": [
    {
     "name": "stdout",
     "output_type": "stream",
     "text": [
      "executed func1..\n"
     ]
    }
   ],
   "source": [
    "new_func()"
   ]
  },
  {
   "cell_type": "code",
   "execution_count": 19,
   "metadata": {},
   "outputs": [],
   "source": [
    "def func2(f):\n",
    "    f()"
   ]
  },
  {
   "cell_type": "code",
   "execution_count": 20,
   "metadata": {},
   "outputs": [
    {
     "name": "stdout",
     "output_type": "stream",
     "text": [
      "executed func1..\n"
     ]
    }
   ],
   "source": [
    "func2(func1)"
   ]
  },
  {
   "cell_type": "code",
   "execution_count": 21,
   "metadata": {},
   "outputs": [],
   "source": [
    "def func3():\n",
    "    return func1"
   ]
  },
  {
   "cell_type": "code",
   "execution_count": 23,
   "metadata": {},
   "outputs": [
    {
     "name": "stdout",
     "output_type": "stream",
     "text": [
      "executed func1..\n"
     ]
    }
   ],
   "source": [
    "result = func3()\n",
    "result()"
   ]
  },
  {
   "cell_type": "markdown",
   "metadata": {},
   "source": [
    "### 람다함수(lambda function)\n",
    "- 단일 문장만 가능\n",
    "- 함수명이 없음(익명함수)\n",
    "- 호출하기 위해서 변수에 저장하고 변수를 사용해서 호출\n"
   ]
  },
  {
   "cell_type": "code",
   "execution_count": 24,
   "metadata": {},
   "outputs": [
    {
     "name": "stdout",
     "output_type": "stream",
     "text": [
      "executed func1..\n"
     ]
    }
   ],
   "source": [
    "# 1. 파라미터 변수 없고 리턴값 없는 경우\n",
    "func1 = lambda: print('executed func1..')\n",
    "func1()"
   ]
  },
  {
   "cell_type": "code",
   "execution_count": 25,
   "metadata": {},
   "outputs": [
    {
     "name": "stdout",
     "output_type": "stream",
     "text": [
      "3\n"
     ]
    }
   ],
   "source": [
    "# 2. 파라미터 변수 있고 리턴값 없는 경우\n",
    "func2 = lambda num1, num2: print(num1 + num2)\n",
    "func2(1, 2)"
   ]
  },
  {
   "cell_type": "code",
   "execution_count": 27,
   "metadata": {},
   "outputs": [
    {
     "data": {
      "text/plain": [
       "100"
      ]
     },
     "execution_count": 27,
     "metadata": {},
     "output_type": "execute_result"
    }
   ],
   "source": [
    "# 3. 파라미터 변수 없고 리턴값 있는 경우\n",
    "func3 = lambda: 100\n",
    "func3()"
   ]
  },
  {
   "cell_type": "code",
   "execution_count": 30,
   "metadata": {},
   "outputs": [
    {
     "data": {
      "text/plain": [
       "3"
      ]
     },
     "execution_count": 30,
     "metadata": {},
     "output_type": "execute_result"
    }
   ],
   "source": [
    "# 4. 파라미터 변수 있고 리턴값 있는 경우\n",
    "func4 = lambda num1, num2: num1 + num2\n",
    "func4(1, 2)"
   ]
  },
  {
   "cell_type": "markdown",
   "metadata": {},
   "source": [
    "### built-in"
   ]
  },
  {
   "cell_type": "code",
   "execution_count": null,
   "metadata": {},
   "outputs": [],
   "source": [
    "dir(__builtins__)"
   ]
  },
  {
   "cell_type": "code",
   "execution_count": 41,
   "metadata": {},
   "outputs": [
    {
     "data": {
      "text/plain": [
       "15"
      ]
     },
     "execution_count": 41,
     "metadata": {},
     "output_type": "execute_result"
    }
   ],
   "source": [
    "# 1. 합계 : sum\n",
    "values = [1,2,3,4,5]\n",
    "sum(values)"
   ]
  },
  {
   "cell_type": "code",
   "execution_count": 42,
   "metadata": {},
   "outputs": [
    {
     "data": {
      "text/plain": [
       "3.0"
      ]
     },
     "execution_count": 42,
     "metadata": {},
     "output_type": "execute_result"
    }
   ],
   "source": [
    "# 2. 평균\n",
    "sum(values) / len(values)"
   ]
  },
  {
   "cell_type": "code",
   "execution_count": 44,
   "metadata": {},
   "outputs": [
    {
     "data": {
      "text/plain": [
       "(5, 1)"
      ]
     },
     "execution_count": 44,
     "metadata": {},
     "output_type": "execute_result"
    }
   ],
   "source": [
    "# 3. 최대값, 최소값 : max, min\n",
    "max(values), min(values)"
   ]
  },
  {
   "cell_type": "code",
   "execution_count": 47,
   "metadata": {},
   "outputs": [
    {
     "data": {
      "text/plain": [
       "'635'"
      ]
     },
     "execution_count": 47,
     "metadata": {},
     "output_type": "execute_result"
    }
   ],
   "source": [
    "str_values = ['12', '567', '635', '599']\n",
    "max(str_values, key=int)"
   ]
  },
  {
   "cell_type": "code",
   "execution_count": 48,
   "metadata": {},
   "outputs": [
    {
     "data": {
      "text/plain": [
       "30"
      ]
     },
     "execution_count": 48,
     "metadata": {},
     "output_type": "execute_result"
    }
   ],
   "source": [
    "dict_values = {'a':10, 'b':20, 'c':30}\n",
    "max(dict_values.values())"
   ]
  },
  {
   "cell_type": "code",
   "execution_count": 49,
   "metadata": {},
   "outputs": [
    {
     "data": {
      "text/plain": [
       "21"
      ]
     },
     "execution_count": 49,
     "metadata": {},
     "output_type": "execute_result"
    }
   ],
   "source": [
    "# 4. 절대값 : abs\n",
    "abs(-21)"
   ]
  },
  {
   "cell_type": "code",
   "execution_count": 50,
   "metadata": {},
   "outputs": [
    {
     "data": {
      "text/plain": [
       "('a', 65)"
      ]
     },
     "execution_count": 50,
     "metadata": {},
     "output_type": "execute_result"
    }
   ],
   "source": [
    "# 5. ASCII코드 : chr, ord\n",
    "chr(97), ord('A')"
   ]
  },
  {
   "cell_type": "code",
   "execution_count": 51,
   "metadata": {},
   "outputs": [
    {
     "data": {
      "text/plain": [
       "(3, 1)"
      ]
     },
     "execution_count": 51,
     "metadata": {},
     "output_type": "execute_result"
    }
   ],
   "source": [
    "# 6. 몫과 나머지 : divmod\n",
    "divmod(10, 3)"
   ]
  },
  {
   "cell_type": "code",
   "execution_count": 53,
   "metadata": {},
   "outputs": [
    {
     "data": {
      "text/plain": [
       "(13, 12.86)"
      ]
     },
     "execution_count": 53,
     "metadata": {},
     "output_type": "execute_result"
    }
   ],
   "source": [
    "# 7. 반올림 : round\n",
    "round(12.856), round(12.856, 2)"
   ]
  },
  {
   "cell_type": "code",
   "execution_count": 55,
   "metadata": {},
   "outputs": [
    {
     "data": {
      "text/plain": [
       "[1, 2, 3, 4, 5, 6, 7, 8, 9, 10]"
      ]
     },
     "execution_count": 55,
     "metadata": {},
     "output_type": "execute_result"
    }
   ],
   "source": [
    "# 8. range\n",
    "list(range(1, 11))"
   ]
  },
  {
   "cell_type": "code",
   "execution_count": 58,
   "metadata": {},
   "outputs": [
    {
     "data": {
      "text/plain": [
       "([4, 6, 12, 21, 44, 67], [44, 12, 67, 21, 4, 6])"
      ]
     },
     "execution_count": 58,
     "metadata": {},
     "output_type": "execute_result"
    }
   ],
   "source": [
    "# 9. 정렬 : sorted, reversed\n",
    "sorted([6,4,21,67,12,44]), list(reversed([6,4,21,67,12,44]))"
   ]
  },
  {
   "cell_type": "code",
   "execution_count": 59,
   "metadata": {},
   "outputs": [
    {
     "data": {
      "text/plain": [
       "12"
      ]
     },
     "execution_count": 59,
     "metadata": {},
     "output_type": "execute_result"
    }
   ],
   "source": [
    "# 10. 길이 : len\n",
    "len('hello world~')"
   ]
  },
  {
   "cell_type": "code",
   "execution_count": 60,
   "metadata": {},
   "outputs": [
    {
     "data": {
      "text/plain": [
       "{'a': 10, 'b': 20, 'c': 30}"
      ]
     },
     "execution_count": 60,
     "metadata": {},
     "output_type": "execute_result"
    }
   ],
   "source": [
    "# 11. zip\n",
    "dict(zip(['a', 'b', 'c'], [10, 20, 30]))"
   ]
  },
  {
   "cell_type": "code",
   "execution_count": 62,
   "metadata": {},
   "outputs": [
    {
     "data": {
      "text/plain": [
       "(False, True)"
      ]
     },
     "execution_count": 62,
     "metadata": {},
     "output_type": "execute_result"
    }
   ],
   "source": [
    "# 12. any, all : 제공된 집합형의 값이 모두 참?, 아니면 하나라도 참?\n",
    "list_value = [10, False, 'hello']\n",
    "all(list_value), any(list_value)"
   ]
  },
  {
   "cell_type": "code",
   "execution_count": 63,
   "metadata": {},
   "outputs": [
    {
     "data": {
      "text/plain": [
       "False"
      ]
     },
     "execution_count": 63,
     "metadata": {},
     "output_type": "execute_result"
    }
   ],
   "source": [
    "int_value = [6,4,21,67,12,44]\n",
    "any([i <= 3 for i in int_value])"
   ]
  },
  {
   "cell_type": "code",
   "execution_count": 69,
   "metadata": {},
   "outputs": [
    {
     "data": {
      "text/plain": [
       "[2, 4, 6, 8, 10]"
      ]
     },
     "execution_count": 69,
     "metadata": {},
     "output_type": "execute_result"
    }
   ],
   "source": [
    "# 13. filter : 지정된 집합형에서 조건이 일치(참인 경우)하는 값만 반환\n",
    "\n",
    "# 짝수만 출력\n",
    "def checkEvenNum(num):\n",
    "    return num % 2 == 0\n",
    "    \n",
    "# result = list(filter(checkEvenNum , range(1,11)))\n",
    "result = list(filter(lambda x: x % 2 == 0, range(1,11)))\n",
    "result"
   ]
  },
  {
   "cell_type": "code",
   "execution_count": 83,
   "metadata": {},
   "outputs": [
    {
     "data": {
      "text/plain": [
       "'HelloHi'"
      ]
     },
     "execution_count": 83,
     "metadata": {},
     "output_type": "execute_result"
    }
   ],
   "source": [
    "# 문제) 다음 문자열에서 알파벳 문자만 출력하시오.\n",
    "s_str = 'H72el55lo12345H97i'\n",
    "result = None\n",
    "\n",
    "result = ''.join(list(filter(lambda x: x.isalpha(), s_str)))\n",
    "result"
   ]
  },
  {
   "cell_type": "code",
   "execution_count": 65,
   "metadata": {},
   "outputs": [],
   "source": [
    "# 14. map : 지정된 집합형의 값을 임의의 함수로 가공해서"
   ]
  },
  {
   "cell_type": "code",
   "execution_count": 82,
   "metadata": {},
   "outputs": [
    {
     "data": {
      "text/plain": [
       "[11, 12, 13, 14, 15, 16, 17, 18, 19, 20]"
      ]
     },
     "execution_count": 82,
     "metadata": {},
     "output_type": "execute_result"
    }
   ],
   "source": [
    "result = list(map(lambda x: x + 10, range(1, 11)))\n",
    "result"
   ]
  },
  {
   "cell_type": "code",
   "execution_count": 85,
   "metadata": {},
   "outputs": [
    {
     "data": {
      "text/plain": [
       "['ABC', 'EBHW', 'XUMJA', 'AB']"
      ]
     },
     "execution_count": 85,
     "metadata": {},
     "output_type": "execute_result"
    }
   ],
   "source": [
    "str_list = ['Abc', 'EbHw', 'XuMJa', 'aB']\n",
    "\n",
    "# 대문자로 변경\n",
    "result = list(map(lambda x: x.upper(), str_list))\n",
    "result"
   ]
  },
  {
   "cell_type": "code",
   "execution_count": 89,
   "metadata": {},
   "outputs": [
    {
     "data": {
      "text/plain": [
       "[3, 4, 5, 2]"
      ]
     },
     "execution_count": 89,
     "metadata": {},
     "output_type": "execute_result"
    }
   ],
   "source": [
    "# 문자열 길이 출력\n",
    "def getStrLen(str):\n",
    "    return len(str)\n",
    "\n",
    "# result = list(map(getStrLen, str_list))  # 1\n",
    "# result = list(map(lambda x: len(x), str_list))  # 2\n",
    "result = list(map(len, str_list))  # 3\n",
    "result"
   ]
  },
  {
   "cell_type": "code",
   "execution_count": 93,
   "metadata": {},
   "outputs": [
    {
     "data": {
      "text/plain": [
       "['279', '67', '123']"
      ]
     },
     "execution_count": 93,
     "metadata": {},
     "output_type": "execute_result"
    }
   ],
   "source": [
    "# 숫자를 문자로 변환\n",
    "int_value = [279,67,123]\n",
    "\n",
    "def intToStr(val):\n",
    "    return str(val)\n",
    "\n",
    "# result = list(map(intToStr, int_value))  # 1\n",
    "# result = list(map(lambda x: str(x), int_value))  # 2\n",
    "result = list(map(str, int_value))  # 3\n",
    "result"
   ]
  },
  {
   "cell_type": "markdown",
   "metadata": {},
   "source": [
    "### 랜덤값 반환\n",
    "- import random"
   ]
  },
  {
   "cell_type": "code",
   "execution_count": 94,
   "metadata": {},
   "outputs": [],
   "source": [
    "import random"
   ]
  },
  {
   "cell_type": "code",
   "execution_count": null,
   "metadata": {},
   "outputs": [],
   "source": [
    "random.seed(1234)  # 랜덤값 고정"
   ]
  },
  {
   "cell_type": "code",
   "execution_count": 96,
   "metadata": {},
   "outputs": [
    {
     "data": {
      "text/plain": [
       "0.7773813139296173"
      ]
     },
     "execution_count": 96,
     "metadata": {},
     "output_type": "execute_result"
    }
   ],
   "source": [
    "result = random.random()\n",
    "result"
   ]
  },
  {
   "cell_type": "code",
   "execution_count": 104,
   "metadata": {},
   "outputs": [
    {
     "data": {
      "text/plain": [
       "2"
      ]
     },
     "execution_count": 104,
     "metadata": {},
     "output_type": "execute_result"
    }
   ],
   "source": [
    "result = random.randint(1, 5)  # 1 <= N <= 5\n",
    "result"
   ]
  },
  {
   "cell_type": "code",
   "execution_count": 107,
   "metadata": {},
   "outputs": [
    {
     "data": {
      "text/plain": [
       "1"
      ]
     },
     "execution_count": 107,
     "metadata": {},
     "output_type": "execute_result"
    }
   ],
   "source": [
    "result = random.randrange(1, 5)  # 1 <= N < 5\n",
    "result"
   ]
  },
  {
   "cell_type": "code",
   "execution_count": 108,
   "metadata": {},
   "outputs": [
    {
     "data": {
      "text/plain": [
       "'A'"
      ]
     },
     "execution_count": 108,
     "metadata": {},
     "output_type": "execute_result"
    }
   ],
   "source": [
    "x = ['A', 'B', 'C']\n",
    "result = random.choice(x)\n",
    "result"
   ]
  },
  {
   "cell_type": "code",
   "execution_count": 112,
   "metadata": {},
   "outputs": [
    {
     "data": {
      "text/plain": [
       "['C', 'A', 'B']"
      ]
     },
     "execution_count": 112,
     "metadata": {},
     "output_type": "execute_result"
    }
   ],
   "source": [
    "random.shuffle(x)\n",
    "x"
   ]
  },
  {
   "cell_type": "code",
   "execution_count": null,
   "metadata": {},
   "outputs": [],
   "source": []
  }
 ],
 "metadata": {
  "interpreter": {
   "hash": "7d187b49f34d1b1c19be91b0849dadb3820f61465f758bb4c66e79bb24cc2fe2"
  },
  "kernelspec": {
   "display_name": "Python 3",
   "language": "python",
   "name": "python3"
  },
  "language_info": {
   "codemirror_mode": {
    "name": "ipython",
    "version": 3
   },
   "file_extension": ".py",
   "mimetype": "text/x-python",
   "name": "python",
   "nbconvert_exporter": "python",
   "pygments_lexer": "ipython3",
   "version": "3.7.10"
  },
  "toc-autonumbering": false,
  "toc-showcode": false,
  "toc-showmarkdowntxt": false,
  "toc-showtags": false
 },
 "nbformat": 4,
 "nbformat_minor": 4
}
