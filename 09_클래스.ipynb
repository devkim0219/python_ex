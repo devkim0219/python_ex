{
 "cells": [
  {
   "cell_type": "markdown",
   "id": "1ad2ce13-b25f-4808-8440-78a2a60d618a",
   "metadata": {},
   "source": [
    "# 클래스\n",
    "1. 등장배경\n",
    "    - 객체지향 프로그래밍언어(Object Oriented Programming: OOP)에서 등장한 개념\n",
    "2. OOP\n",
    "    - 객체(object)를 지향해서 프로그램을 개발하는 방법론\n",
    "3. 객체(object)\n",
    "    - 현실세계의 주체(subject)가 바라보는 사물(대상)\n",
    "    - 객체는 2가지 요소로 구성됨\n",
    "        - 속성: 객체를 나타내는 특징\n",
    "        - 동작: 객체의 행위\n",
    "4. OOP에 기반한 개발 프로세스\n",
    "    - 객체 -> 클래스\n",
    "    - 속성 -> 변수\n",
    "    - 동작 -> 메서드"
   ]
  },
  {
   "cell_type": "code",
   "execution_count": null,
   "id": "eb66bcd5-4941-4333-b2bf-cb5adb8f89e9",
   "metadata": {},
   "outputs": [],
   "source": []
  }
 ],
 "metadata": {
  "kernelspec": {
   "display_name": "Python 3",
   "language": "python",
   "name": "python3"
  },
  "language_info": {
   "codemirror_mode": {
    "name": "ipython",
    "version": 3
   },
   "file_extension": ".py",
   "mimetype": "text/x-python",
   "name": "python",
   "nbconvert_exporter": "python",
   "pygments_lexer": "ipython3",
   "version": "3.7.10"
  }
 },
 "nbformat": 4,
 "nbformat_minor": 5
}
