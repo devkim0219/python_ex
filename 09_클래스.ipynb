{
 "cells": [
  {
   "cell_type": "markdown",
   "id": "1ad2ce13-b25f-4808-8440-78a2a60d618a",
   "metadata": {},
   "source": [
    "# 클래스\n",
    "1. 등장배경\n",
    "    - 객체지향 프로그래밍언어(Object Oriented Programming: OOP)에서 등장한 개념\n",
    "2. OOP\n",
    "    - 객체(object)를 지향해서 프로그램을 개발하는 방법론\n",
    "3. 객체(object)\n",
    "    - 현실세계의 주체(subject)가 바라보는 사물(대상)\n",
    "    - 객체는 2가지 요소로 구성됨\n",
    "        - 속성: 객체를 나타내는 특징\n",
    "        - 동작: 객체의 행위\n",
    "4. OOP에 기반한 개발 프로세스\n",
    "    - 객체 -> 클래스\n",
    "    - 속성 -> 변수\n",
    "    - 동작 -> 메서드"
   ]
  },
  {
   "cell_type": "code",
   "execution_count": null,
   "id": "eb66bcd5-4941-4333-b2bf-cb5adb8f89e9",
   "metadata": {},
   "outputs": [],
   "source": [
    "'''\n",
    "1. 클래스 문법\n",
    "class 클래스명:  # 첫글자는 대문자로(camel 표기법)\n",
    "    pass\n",
    "    \n",
    "2. 클래스 구성요소\n",
    "calss 클래스명:\n",
    "    구성요소\n",
    "    - 메서드\n",
    "        - 인스턴스 메서드 : 함수문법과 동일 + self 파라미터 필수\n",
    "        - 클래스 매서드\n",
    "    - 변수\n",
    "        - 인스턴스 변수 : 함수내에서 self.변수명\n",
    "        - 클래스 변수\n",
    "    - 생성자\n",
    "3. 클래스 사용방법\n",
    "    - 반드시 객체생성 필요\n",
    "        변수명 = 클래스명()\n",
    "'''"
   ]
  },
  {
   "cell_type": "markdown",
   "id": "c37d53ad-0685-446b-aaa8-22cf6aad4638",
   "metadata": {},
   "source": [
    "## 클래스 생성"
   ]
  },
  {
   "cell_type": "code",
   "execution_count": 1,
   "id": "90a966f3-254a-4e53-8ea5-1b45d0e09622",
   "metadata": {},
   "outputs": [],
   "source": [
    "# 학생관리 프로그램 개발\n",
    "'''\n",
    "1. 분석\n",
    "    학생 객체\n",
    "    - 속성: 학번, 이름, 나이\n",
    "    - 동작: pass\n",
    "2. 설계\n",
    "    학생 객체 -> 학생 클래스\n",
    "    속성 -> 변수\n",
    "    동작 -> 메서드\n",
    "'''\n",
    "class Student:\n",
    "    pass"
   ]
  },
  {
   "cell_type": "code",
   "execution_count": 4,
   "id": "a3c59c18-f685-4067-926e-0f72d54fb068",
   "metadata": {},
   "outputs": [],
   "source": [
    "stu = Student()  # 객체 생성(인스턴스)\n",
    "stu2 = Student()  # 객체 생성(인스턴스)"
   ]
  },
  {
   "cell_type": "code",
   "execution_count": 6,
   "id": "8ead2939-7535-4fc7-8ebc-cbcaf294b0d6",
   "metadata": {},
   "outputs": [
    {
     "data": {
      "text/plain": [
       "(<__main__.Student at 0x7fd51848d290>, <__main__.Student at 0x7fd51848d250>)"
      ]
     },
     "execution_count": 6,
     "metadata": {},
     "output_type": "execute_result"
    }
   ],
   "source": [
    "stu, stu2"
   ]
  },
  {
   "cell_type": "markdown",
   "id": "aa677ea2-ab0c-466f-a927-dbb8f5e4675b",
   "metadata": {},
   "source": [
    "## 생성자(constructor)\n",
    "- '생성자 함수'라도고 함\n",
    "- 모든 클래스의 생성자 함수명(\\__init__)은 항상 고정\n",
    "- \\__init__()으로 호출하지 않고 클래스명()으로 호출함\n",
    "- 용도: 객체의 속성 초기화"
   ]
  },
  {
   "cell_type": "code",
   "execution_count": 7,
   "id": "0aecad00-ee69-4d15-9ab2-77f4ccd34b5f",
   "metadata": {},
   "outputs": [],
   "source": [
    "class Student():\n",
    "    # 생성자\n",
    "    def __init__(self):\n",
    "        print('__init__ 생성자')"
   ]
  },
  {
   "cell_type": "code",
   "execution_count": 9,
   "id": "3bb5af8b-7fcc-4e8a-ae34-e822cfd1770f",
   "metadata": {},
   "outputs": [
    {
     "name": "stdout",
     "output_type": "stream",
     "text": [
      "__init__ 생성자\n",
      "__init__ 생성자\n"
     ]
    }
   ],
   "source": [
    "stu = Student()\n",
    "stu2 = Student()"
   ]
  },
  {
   "cell_type": "code",
   "execution_count": 14,
   "id": "032f0572-0fb7-47e9-8fc5-5492714393a7",
   "metadata": {},
   "outputs": [],
   "source": [
    "class Student():\n",
    "    def __init__(self, std_no, name, age):\n",
    "        self.std_no = std_no\n",
    "        self.name = name\n",
    "        self.age = age"
   ]
  },
  {
   "cell_type": "code",
   "execution_count": 16,
   "id": "2a348b46-2a95-4888-8336-e40e35069654",
   "metadata": {},
   "outputs": [
    {
     "name": "stdout",
     "output_type": "stream",
     "text": [
      "140553211777872\n"
     ]
    },
    {
     "data": {
      "text/plain": [
       "('A01', 'Kim', 20)"
      ]
     },
     "execution_count": 16,
     "metadata": {},
     "output_type": "execute_result"
    }
   ],
   "source": [
    "stu1 = Student('A01', 'Kim', 20)\n",
    "stu1.std_no, stu1.name, stu1.age"
   ]
  },
  {
   "cell_type": "code",
   "execution_count": 2,
   "id": "96a529b0-2953-49e7-9276-4a131c9aeea6",
   "metadata": {},
   "outputs": [],
   "source": [
    "# 실습\n",
    "'''\n",
    "반려동물(고양이) 관리 프로그램 개발\n",
    "속성: 이름, 나이, 성별\n",
    "동작: 먹기, 울기\n",
    "야옹이, 2, 암컷\n",
    "망치, 1, 수컷\n",
    "'''\n",
    "class Cat():\n",
    "    def __init__(self, name, age, gender):\n",
    "        self.name = name\n",
    "        self.age = age\n",
    "        self.gender = gender\n",
    "    \n",
    "    def get_info(self):\n",
    "#         print(f'이름: {self.name}, 나이: {self.age}, 성별: {self.gender}')\n",
    "        return f'이름: {self.name}, 나이: {self.age}, 성별: {self.gender}'\n",
    "    \n",
    "    def eat(self):\n",
    "        print(f'{self.name}(이)가 사료를 먹는다.')\n",
    "    \n",
    "    def cry(self):\n",
    "        print(f'{self.name}(이)가 운다.')"
   ]
  },
  {
   "cell_type": "code",
   "execution_count": 4,
   "id": "04986f6c-2a4a-4e87-99c3-358194554317",
   "metadata": {},
   "outputs": [],
   "source": [
    "my_cat1 = Cat('야옹이', 2, '암컷')\n",
    "my_cat2 = Cat('망치', 1, '수컷')"
   ]
  },
  {
   "cell_type": "code",
   "execution_count": 38,
   "id": "0418b8af-36f0-4944-bf02-6af0419f0c41",
   "metadata": {},
   "outputs": [
    {
     "name": "stdout",
     "output_type": "stream",
     "text": [
      "이름: 야옹이, 나이: 2, 성별: 암컷\n"
     ]
    }
   ],
   "source": [
    "my_cat1.get_info()"
   ]
  },
  {
   "cell_type": "code",
   "execution_count": 39,
   "id": "efbf1ccd-f315-4daf-a0d9-8586f7ffe418",
   "metadata": {},
   "outputs": [
    {
     "name": "stdout",
     "output_type": "stream",
     "text": [
      "이름: 망치, 나이: 1, 성별: 수컷\n"
     ]
    }
   ],
   "source": [
    "my_cat2.get_info()"
   ]
  },
  {
   "cell_type": "code",
   "execution_count": 40,
   "id": "acedacbe-a3c0-487a-8604-fa6808bf8d29",
   "metadata": {},
   "outputs": [
    {
     "name": "stdout",
     "output_type": "stream",
     "text": [
      "야옹이(이)가 사료를 먹는다.\n"
     ]
    }
   ],
   "source": [
    "my_cat1.eat()"
   ]
  },
  {
   "cell_type": "code",
   "execution_count": 41,
   "id": "475fa612-32d5-424e-8bbb-3193104199f6",
   "metadata": {},
   "outputs": [
    {
     "name": "stdout",
     "output_type": "stream",
     "text": [
      "망치(이)가 운다.\n"
     ]
    }
   ],
   "source": [
    "my_cat2.cry()"
   ]
  },
  {
   "cell_type": "code",
   "execution_count": 5,
   "id": "52e84cb5-1b23-40ca-8b77-6c31593a14cd",
   "metadata": {},
   "outputs": [
    {
     "data": {
      "text/plain": [
       "'이름: 야옹이, 나이: 2, 성별: 암컷'"
      ]
     },
     "execution_count": 5,
     "metadata": {},
     "output_type": "execute_result"
    }
   ],
   "source": [
    "my_cat1.get_info()"
   ]
  },
  {
   "cell_type": "code",
   "execution_count": 7,
   "id": "3dcacd86-7bff-46eb-a6e7-e9291befe9ba",
   "metadata": {},
   "outputs": [
    {
     "data": {
      "text/plain": [
       "'<__main__.Cat object at 0x7f28ed3f6090>'"
      ]
     },
     "execution_count": 7,
     "metadata": {},
     "output_type": "execute_result"
    }
   ],
   "source": [
    "# 매직 메서드 -> 임의로 수정해서 사용\n",
    "my_cat1.__str__()"
   ]
  },
  {
   "cell_type": "markdown",
   "id": "92945ae5-56c7-4a80-b47e-a1a6b6fa0477",
   "metadata": {},
   "source": [
    "## 매직메서드(magic method)\n",
    "- 사용자가 직접 호출 가능하지만, 직접 호출하지 않고 특정 작업에 대해서 시스템이 내부적으로 호출하는 메서드\n",
    "- 사용자가 필요에 의해서 임의로 수정할 수 있음\n",
    "- 확인은 print(dir(객체명)) -> \\__메서드명__(self) 형식으로 되어있음"
   ]
  },
  {
   "cell_type": "code",
   "execution_count": 10,
   "id": "b48fc5e8-9cbf-44b1-b39b-5ae8870d8731",
   "metadata": {},
   "outputs": [],
   "source": [
    "# 1. __init__\n",
    "class Person:\n",
    "    def __init__(self):\n",
    "        print('init..')"
   ]
  },
  {
   "cell_type": "code",
   "execution_count": 11,
   "id": "9656662f-4221-4380-9b4d-a31750af36fe",
   "metadata": {},
   "outputs": [
    {
     "name": "stdout",
     "output_type": "stream",
     "text": [
      "init..\n"
     ]
    }
   ],
   "source": [
    "p = Person()"
   ]
  },
  {
   "cell_type": "code",
   "execution_count": 13,
   "id": "e37a808f-599e-4bcf-8721-5f54a0cf2d2f",
   "metadata": {},
   "outputs": [],
   "source": [
    "# 2. __str__ : 문자열로 변경시킬 때 자동으로 호출된다. str(), print(), format()\n",
    "class Person:\n",
    "    def __str__(self):\n",
    "        return 'str..'"
   ]
  },
  {
   "cell_type": "code",
   "execution_count": 22,
   "id": "791ff308-b628-4eb3-aff6-b75b6c0457b3",
   "metadata": {},
   "outputs": [
    {
     "data": {
      "text/plain": [
       "'str..'"
      ]
     },
     "execution_count": 22,
     "metadata": {},
     "output_type": "execute_result"
    }
   ],
   "source": [
    "p = Person()\n",
    "str(p)"
   ]
  },
  {
   "cell_type": "code",
   "execution_count": 23,
   "id": "d0a98d93-53e0-4d76-8cbb-9b2989485d43",
   "metadata": {},
   "outputs": [
    {
     "name": "stdout",
     "output_type": "stream",
     "text": [
      "str..\n"
     ]
    }
   ],
   "source": [
    "print(p)"
   ]
  },
  {
   "cell_type": "code",
   "execution_count": 25,
   "id": "c4e01792-cded-4f1b-8ae0-1083d62328a3",
   "metadata": {},
   "outputs": [
    {
     "data": {
      "text/plain": [
       "'str..'"
      ]
     },
     "execution_count": 25,
     "metadata": {},
     "output_type": "execute_result"
    }
   ],
   "source": [
    "'{}'.format(p)"
   ]
  },
  {
   "cell_type": "code",
   "execution_count": 26,
   "id": "97f1622c-9d41-4088-80e3-00936ff3efc0",
   "metadata": {},
   "outputs": [],
   "source": [
    "# 3. __format__ : format() 사용 시 자동 호출\n",
    "class Person:\n",
    "    def __format__(self, format_spec):\n",
    "        return 'format..'"
   ]
  },
  {
   "cell_type": "code",
   "execution_count": 27,
   "id": "3f0af1ab-7f13-4cd7-ab8c-e946a89615d1",
   "metadata": {},
   "outputs": [
    {
     "data": {
      "text/plain": [
       "'format..'"
      ]
     },
     "execution_count": 27,
     "metadata": {},
     "output_type": "execute_result"
    }
   ],
   "source": [
    "p = Person()\n",
    "'{}'.format(p)"
   ]
  },
  {
   "cell_type": "code",
   "execution_count": 28,
   "id": "7440f8f2-bfc1-4cd2-82b7-512ee0114c7b",
   "metadata": {},
   "outputs": [],
   "source": [
    "# 4. __len__ : len() 사용 시 자동 호출\n",
    "class Person:\n",
    "    def __len__(self):\n",
    "        return 100"
   ]
  },
  {
   "cell_type": "code",
   "execution_count": 30,
   "id": "89028a51-2c90-477a-bde6-e97bcdd91fa9",
   "metadata": {},
   "outputs": [
    {
     "data": {
      "text/plain": [
       "100"
      ]
     },
     "execution_count": 30,
     "metadata": {},
     "output_type": "execute_result"
    }
   ],
   "source": [
    "p = Person()\n",
    "len(p)"
   ]
  },
  {
   "cell_type": "markdown",
   "id": "3768e259-63c5-416c-90f5-90201eb0bbc7",
   "metadata": {},
   "source": [
    "## 클래스 변수(class variable)\n",
    "- 프로그램 실행 시 생성되어서 프로그램 종료 시 제거되기 때문에 가장 오래 메모리에 남아있으며, 한 번만 생성됨\n",
    "- 누적용으로 생성"
   ]
  },
  {
   "cell_type": "code",
   "execution_count": 32,
   "id": "269941fa-01ea-4883-a3f8-7b6fce7e2388",
   "metadata": {},
   "outputs": [],
   "source": [
    "class Person:\n",
    "    age = 10  # 클래스 변수(클래스 정보만 저장하는 메모리 -> method area, 프로그램 실행 시 생성 ~ 프로그램 종료 시 삭제, 한 번만 생성됨)\n",
    "    def __init__(self, name):  # name은 로컬 변수(메서드 안에서 선언, stack메모리에 생성, 메서드 호출 시 생성 ~ 메서드 종료 시 삭제)\n",
    "        self.name = name  # self.name은 인스턴스 변수(heap메모리에 생성, 객체 생성 시 생성 ~ 객체 소멸 시 삭제)\n",
    "    def get_name(self):\n",
    "        return self.name"
   ]
  },
  {
   "cell_type": "markdown",
   "id": "3eeb3d2c-8e9f-4dee-a296-b06fde69f5c9",
   "metadata": {},
   "source": [
    "### 메모리 공간 할당 정보\n",
    "![메모리](uploads/memory_info_20210719.png)"
   ]
  },
  {
   "cell_type": "code",
   "execution_count": 34,
   "id": "7cec9a5d-ded4-4171-8ab0-58322030b16d",
   "metadata": {},
   "outputs": [
    {
     "data": {
      "text/plain": [
       "'Kim'"
      ]
     },
     "execution_count": 34,
     "metadata": {},
     "output_type": "execute_result"
    }
   ],
   "source": [
    "p = Person('Kim')\n",
    "p.name"
   ]
  },
  {
   "cell_type": "code",
   "execution_count": 36,
   "id": "3e22e188-2d62-418d-b579-d868ebae9624",
   "metadata": {},
   "outputs": [
    {
     "data": {
      "text/plain": [
       "'Kim'"
      ]
     },
     "execution_count": 36,
     "metadata": {},
     "output_type": "execute_result"
    }
   ],
   "source": [
    "p.get_name()"
   ]
  },
  {
   "cell_type": "code",
   "execution_count": 37,
   "id": "bb4cfe58-d6d8-4a0b-a1f1-4d168260a16a",
   "metadata": {},
   "outputs": [
    {
     "data": {
      "text/plain": [
       "10"
      ]
     },
     "execution_count": 37,
     "metadata": {},
     "output_type": "execute_result"
    }
   ],
   "source": [
    "Person.age"
   ]
  },
  {
   "cell_type": "code",
   "execution_count": 50,
   "id": "b53cfac2-bd0b-4fbe-bc69-878fb09eca51",
   "metadata": {},
   "outputs": [],
   "source": [
    "# 실습 : Person 객체를 몇 번 생성했는지 카운트\n",
    "class Person:\n",
    "    cnt = 0\n",
    "    def __init__(self, name):\n",
    "        Person.cnt += 1"
   ]
  },
  {
   "cell_type": "code",
   "execution_count": 51,
   "id": "71f2d0a6-80ea-4073-be6b-9500e73dc9d8",
   "metadata": {},
   "outputs": [
    {
     "data": {
      "text/plain": [
       "1"
      ]
     },
     "execution_count": 51,
     "metadata": {},
     "output_type": "execute_result"
    }
   ],
   "source": [
    "p = Person('Kim')\n",
    "Person.cnt"
   ]
  },
  {
   "cell_type": "code",
   "execution_count": 52,
   "id": "6448c480-1d45-4d95-aad8-129fd30e667f",
   "metadata": {},
   "outputs": [
    {
     "data": {
      "text/plain": [
       "2"
      ]
     },
     "execution_count": 52,
     "metadata": {},
     "output_type": "execute_result"
    }
   ],
   "source": [
    "p2 = Person('Lee')\n",
    "Person.cnt"
   ]
  },
  {
   "cell_type": "markdown",
   "id": "93530e97-4f86-4975-ae11-5962e9b1c1c1",
   "metadata": {},
   "source": [
    "## 클래스 메서드(class method)\n",
    "- 프로그램 실행 시 생성 ~ 프로그램 종료 시 삭제\n",
    "- 클래스명.메서드명 형식으로 사용\n",
    "- 개별적 속성값 저장용으로 생성"
   ]
  },
  {
   "cell_type": "code",
   "execution_count": null,
   "id": "43b357c6-9a44-45d5-9b17-6252acfa5b4e",
   "metadata": {},
   "outputs": [],
   "source": [
    "'''\n",
    "@classmethod  # @ -> 데코레이터(decorator)\n",
    "def 클래스명(cls):\n",
    "    pass\n",
    "'''"
   ]
  },
  {
   "cell_type": "code",
   "execution_count": 64,
   "id": "2fae1b38-ef6e-4657-abfd-1f8f95143206",
   "metadata": {},
   "outputs": [],
   "source": [
    "class Student:\n",
    "    age = 10\n",
    "    def __init__(self, name):\n",
    "        self.name = name\n",
    "        \n",
    "    def get_name(self):\n",
    "        return self.name\n",
    "    \n",
    "    def set_name(self, name):\n",
    "        self.name = name\n",
    "        \n",
    "    def get_age(self):\n",
    "        return Student.age\n",
    "    \n",
    "    @classmethod\n",
    "    def class_func(cls):\n",
    "        print('class_func..', id(cls))\n",
    "        print(cls.age, Student.age)"
   ]
  },
  {
   "cell_type": "code",
   "execution_count": 65,
   "id": "ab096412-4ece-4cb6-a60d-94f45f70965a",
   "metadata": {},
   "outputs": [
    {
     "name": "stdout",
     "output_type": "stream",
     "text": [
      "class_func.. 94874467582096\n",
      "10 10\n"
     ]
    }
   ],
   "source": [
    "Student.class_func()"
   ]
  },
  {
   "cell_type": "code",
   "execution_count": 66,
   "id": "f568f811-5d8b-41d3-8df5-bc4dac371cd3",
   "metadata": {},
   "outputs": [
    {
     "name": "stdout",
     "output_type": "stream",
     "text": [
      "Student 클래스:  94874467582096\n"
     ]
    }
   ],
   "source": [
    "print('Student 클래스: ', id(Student))"
   ]
  },
  {
   "cell_type": "code",
   "execution_count": null,
   "id": "23639704-825c-4b00-a3d4-aee120db8784",
   "metadata": {},
   "outputs": [],
   "source": []
  }
 ],
 "metadata": {
  "kernelspec": {
   "display_name": "Python 3",
   "language": "python",
   "name": "python3"
  },
  "language_info": {
   "codemirror_mode": {
    "name": "ipython",
    "version": 3
   },
   "file_extension": ".py",
   "mimetype": "text/x-python",
   "name": "python",
   "nbconvert_exporter": "python",
   "pygments_lexer": "ipython3",
   "version": "3.7.10"
  }
 },
 "nbformat": 4,
 "nbformat_minor": 5
}
