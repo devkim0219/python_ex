{
 "cells": [
  {
   "cell_type": "markdown",
   "id": "1ad2ce13-b25f-4808-8440-78a2a60d618a",
   "metadata": {},
   "source": [
    "# 클래스\n",
    "1. 등장배경\n",
    "    - 객체지향 프로그래밍언어(Object Oriented Programming: OOP)에서 등장한 개념\n",
    "2. OOP\n",
    "    - 객체(object)를 지향해서 프로그램을 개발하는 방법론\n",
    "3. 객체(object)\n",
    "    - 현실세계의 주체(subject)가 바라보는 사물(대상)\n",
    "    - 객체는 2가지 요소로 구성됨\n",
    "        - 속성: 객체를 나타내는 특징\n",
    "        - 동작: 객체의 행위\n",
    "4. OOP에 기반한 개발 프로세스\n",
    "    - 객체 -> 클래스\n",
    "    - 속성 -> 변수\n",
    "    - 동작 -> 메서드"
   ]
  },
  {
   "cell_type": "code",
   "execution_count": null,
   "id": "eb66bcd5-4941-4333-b2bf-cb5adb8f89e9",
   "metadata": {},
   "outputs": [],
   "source": [
    "'''\n",
    "1. 클래스 문법\n",
    "class 클래스명:  # 첫글자는 대문자로(camel 표기법)\n",
    "    pass\n",
    "    \n",
    "2. 클래스 구성요소\n",
    "calss 클래스명:\n",
    "    구성요소\n",
    "    - 메서드\n",
    "        - 인스턴스 메서드 : 함수문법과 동일 + self 파라미터 필수\n",
    "        - 클래스 매서드\n",
    "    - 변수\n",
    "        - 인스턴스 변수 : 함수내에서 self.변수명\n",
    "        - 클래스 변수\n",
    "    - 생성자\n",
    "3. 클래스 사용방법\n",
    "    - 반드시 객체생성 필요\n",
    "        변수명 = 클래스명()\n",
    "'''"
   ]
  },
  {
   "cell_type": "markdown",
   "id": "c37d53ad-0685-446b-aaa8-22cf6aad4638",
   "metadata": {},
   "source": [
    "## 클래스 생성"
   ]
  },
  {
   "cell_type": "code",
   "execution_count": 1,
   "id": "90a966f3-254a-4e53-8ea5-1b45d0e09622",
   "metadata": {},
   "outputs": [],
   "source": [
    "# 학생관리 프로그램 개발\n",
    "'''\n",
    "1. 분석\n",
    "    학생 객체\n",
    "    - 속성: 학번, 이름, 나이\n",
    "    - 동작: pass\n",
    "2. 설계\n",
    "    학생 객체 -> 학생 클래스\n",
    "    속성 -> 변수\n",
    "    동작 -> 메서드\n",
    "'''\n",
    "class Student:\n",
    "    pass"
   ]
  },
  {
   "cell_type": "code",
   "execution_count": 4,
   "id": "a3c59c18-f685-4067-926e-0f72d54fb068",
   "metadata": {},
   "outputs": [],
   "source": [
    "stu = Student()  # 객체 생성(인스턴스)\n",
    "stu2 = Student()  # 객체 생성(인스턴스)"
   ]
  },
  {
   "cell_type": "code",
   "execution_count": 6,
   "id": "8ead2939-7535-4fc7-8ebc-cbcaf294b0d6",
   "metadata": {},
   "outputs": [
    {
     "data": {
      "text/plain": [
       "(<__main__.Student at 0x7fd51848d290>, <__main__.Student at 0x7fd51848d250>)"
      ]
     },
     "execution_count": 6,
     "metadata": {},
     "output_type": "execute_result"
    }
   ],
   "source": [
    "stu, stu2"
   ]
  },
  {
   "cell_type": "markdown",
   "id": "aa677ea2-ab0c-466f-a927-dbb8f5e4675b",
   "metadata": {},
   "source": [
    "## 생성자(constructor)\n",
    "- '생성자 함수'라도고 함\n",
    "- 모든 클래스의 생성자 함수명(\\__init__)은 항상 고정\n",
    "- \\__init__()으로 호출하지 않고 클래스명()으로 호출함\n",
    "- 용도: 객체의 속성 초기화"
   ]
  },
  {
   "cell_type": "code",
   "execution_count": 7,
   "id": "0aecad00-ee69-4d15-9ab2-77f4ccd34b5f",
   "metadata": {},
   "outputs": [],
   "source": [
    "class Student():\n",
    "    # 생성자\n",
    "    def __init__(self):\n",
    "        print('__init__ 생성자')"
   ]
  },
  {
   "cell_type": "code",
   "execution_count": 9,
   "id": "3bb5af8b-7fcc-4e8a-ae34-e822cfd1770f",
   "metadata": {},
   "outputs": [
    {
     "name": "stdout",
     "output_type": "stream",
     "text": [
      "__init__ 생성자\n",
      "__init__ 생성자\n"
     ]
    }
   ],
   "source": [
    "stu = Student()\n",
    "stu2 = Student()"
   ]
  },
  {
   "cell_type": "code",
   "execution_count": 14,
   "id": "032f0572-0fb7-47e9-8fc5-5492714393a7",
   "metadata": {},
   "outputs": [],
   "source": [
    "class Student():\n",
    "    def __init__(self, std_no, name, age):\n",
    "        self.std_no = std_no\n",
    "        self.name = name\n",
    "        self.age = age"
   ]
  },
  {
   "cell_type": "code",
   "execution_count": 16,
   "id": "2a348b46-2a95-4888-8336-e40e35069654",
   "metadata": {},
   "outputs": [
    {
     "name": "stdout",
     "output_type": "stream",
     "text": [
      "140553211777872\n"
     ]
    },
    {
     "data": {
      "text/plain": [
       "('A01', 'Kim', 20)"
      ]
     },
     "execution_count": 16,
     "metadata": {},
     "output_type": "execute_result"
    }
   ],
   "source": [
    "stu1 = Student('A01', 'Kim', 20)\n",
    "stu1.std_no, stu1.name, stu1.age"
   ]
  },
  {
   "cell_type": "code",
   "execution_count": 36,
   "id": "96a529b0-2953-49e7-9276-4a131c9aeea6",
   "metadata": {},
   "outputs": [],
   "source": [
    "# 실습\n",
    "'''\n",
    "반려동물(고양이) 관리 프로그램 개발\n",
    "이름, 나이, 성별\n",
    "먹기, 울기\n",
    "야옹이, 2, 암컷\n",
    "망치, 1, 수컷\n",
    "'''\n",
    "class Cat():\n",
    "    def __init__(self, name, age, gender):\n",
    "        self.name = name\n",
    "        self.age = age\n",
    "        self.gender = gender\n",
    "    \n",
    "    def get_info(self):\n",
    "        print(f'이름: {self.name}, 나이: {self.age}, 성별: {self.gender}')\n",
    "    \n",
    "    def eat(self):\n",
    "        print(f'{self.name}(이)가 사료를 먹는다.')\n",
    "    \n",
    "    def cry(self):\n",
    "        print(f'{self.name}(이)가 운다.')"
   ]
  },
  {
   "cell_type": "code",
   "execution_count": 37,
   "id": "04986f6c-2a4a-4e87-99c3-358194554317",
   "metadata": {},
   "outputs": [],
   "source": [
    "my_cat1 = Cat('야옹이', 2, '암컷')\n",
    "my_cat2 = Cat('망치', 1, '수컷')"
   ]
  },
  {
   "cell_type": "code",
   "execution_count": 38,
   "id": "0418b8af-36f0-4944-bf02-6af0419f0c41",
   "metadata": {},
   "outputs": [
    {
     "name": "stdout",
     "output_type": "stream",
     "text": [
      "이름: 야옹이, 나이: 2, 성별: 암컷\n"
     ]
    }
   ],
   "source": [
    "my_cat1.get_info()"
   ]
  },
  {
   "cell_type": "code",
   "execution_count": 39,
   "id": "efbf1ccd-f315-4daf-a0d9-8586f7ffe418",
   "metadata": {},
   "outputs": [
    {
     "name": "stdout",
     "output_type": "stream",
     "text": [
      "이름: 망치, 나이: 1, 성별: 수컷\n"
     ]
    }
   ],
   "source": [
    "my_cat2.get_info()"
   ]
  },
  {
   "cell_type": "code",
   "execution_count": 40,
   "id": "acedacbe-a3c0-487a-8604-fa6808bf8d29",
   "metadata": {},
   "outputs": [
    {
     "name": "stdout",
     "output_type": "stream",
     "text": [
      "야옹이(이)가 사료를 먹는다.\n"
     ]
    }
   ],
   "source": [
    "my_cat1.eat()"
   ]
  },
  {
   "cell_type": "code",
   "execution_count": 41,
   "id": "475fa612-32d5-424e-8bbb-3193104199f6",
   "metadata": {},
   "outputs": [
    {
     "name": "stdout",
     "output_type": "stream",
     "text": [
      "망치(이)가 운다.\n"
     ]
    }
   ],
   "source": [
    "my_cat2.cry()"
   ]
  },
  {
   "cell_type": "code",
   "execution_count": null,
   "id": "52e84cb5-1b23-40ca-8b77-6c31593a14cd",
   "metadata": {},
   "outputs": [],
   "source": []
  }
 ],
 "metadata": {
  "kernelspec": {
   "display_name": "Python 3",
   "language": "python",
   "name": "python3"
  },
  "language_info": {
   "codemirror_mode": {
    "name": "ipython",
    "version": 3
   },
   "file_extension": ".py",
   "mimetype": "text/x-python",
   "name": "python",
   "nbconvert_exporter": "python",
   "pygments_lexer": "ipython3",
   "version": "3.7.10"
  }
 },
 "nbformat": 4,
 "nbformat_minor": 5
}
