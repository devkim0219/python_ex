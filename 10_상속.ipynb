{
 "cells": [
  {
   "cell_type": "markdown",
   "id": "17e046ba-cb17-4407-b8ca-2f6e72f87790",
   "metadata": {},
   "source": [
    "# 클래스 상속(inheritance)\n",
    "- 재사용(변수, 메서드), 생성자는 제외\n",
    "- 여러 클래스들간의 공통적인 속성과 동작을 추출해서 큰 개념의 클래스를 생성\n",
    "- 표현 : class 자식클래스(부모클래스): pass\n",
    "- 모든 클래스의 최상위 클래스는 Object\n",
    "- 다중 상속 지원\n",
    "- 상속 개념 UML\n",
    "\n",
    "![상속 UML](uploads/inheritance_uml.png)"
   ]
  },
  {
   "cell_type": "code",
   "execution_count": 19,
   "id": "c948df42-7b0e-4b06-9e53-dae5a83e31b3",
   "metadata": {},
   "outputs": [],
   "source": [
    "# 애완동물 관리 프로그램(고양이, 강아지)\n",
    "class Pet:\n",
    "    def __init__(self, name, age, gender):\n",
    "        self.name = name\n",
    "        self.age = age\n",
    "        self.gender = gender\n",
    "        \n",
    "    def eat(self):\n",
    "        print(f'Pet:{self.name}(이)가 사료를 먹어요~')\n",
    "    \n",
    "class Cat(Pet):\n",
    "    def __init__(self, name, age, gender, alias):\n",
    "        super().__init__(name, age, gender)  # 부모(super)클래스의 생성자 호출\n",
    "        self.alias = alias\n",
    "    \n",
    "    # 오버라이딩(overriding) : 부모클래스의 메서드를 자식클래스에서 필요에 의해 재정의\n",
    "    def eat(self):\n",
    "        print(f'Cat:{self.name}(이)가 사료를 먹어요~')\n",
    "    \n",
    "    def __str__(self):\n",
    "        return f'이름: {self.name}, 나이: {self.age}, 성별: {self.gender}, 별칭: {self.alias}'\n",
    "\n",
    "class Dog(Pet):\n",
    "    def __init__(self, name, age, gender):\n",
    "        super().__init__(name, age, gender)  # 부모(super)클래스의 생성자 호출\n",
    "        \n",
    "    # 오버라이딩(overriding) : 부모클래스의 메서드를 자식클래스에서 필요에 의해 재정의\n",
    "    def eat(self):\n",
    "        print(f'Dog:{self.name}(이)가 사료를 먹어요~')\n",
    "        \n",
    "    def swim(self):\n",
    "        print(f'{self.name}(이)가 수영을 해요~')\n",
    "\n",
    "    def __str__(self):\n",
    "        return f'이름: {self.name}, 나이: {self.age}, 성별: {self.gender}'"
   ]
  },
  {
   "cell_type": "code",
   "execution_count": 20,
   "id": "e4442d3e-1410-4e0c-af27-4923fa8cc5cc",
   "metadata": {},
   "outputs": [],
   "source": [
    "my_cat = Cat('야옹이', 2, '암컷', '냐옹')\n",
    "my_dog = Dog('망치', 1, '수컷')"
   ]
  },
  {
   "cell_type": "code",
   "execution_count": 21,
   "id": "75adeb04-4db0-420c-8b68-22cd44bf65e9",
   "metadata": {},
   "outputs": [
    {
     "name": "stdout",
     "output_type": "stream",
     "text": [
      "이름: 야옹이, 나이: 2, 성별: 암컷, 별칭: 냐옹\n"
     ]
    }
   ],
   "source": [
    "print(my_cat)"
   ]
  },
  {
   "cell_type": "code",
   "execution_count": 22,
   "id": "478cbe0a-a60c-4187-bf69-146aeb177a59",
   "metadata": {},
   "outputs": [
    {
     "name": "stdout",
     "output_type": "stream",
     "text": [
      "이름: 망치, 나이: 1, 성별: 수컷\n"
     ]
    }
   ],
   "source": [
    "print(my_dog)"
   ]
  },
  {
   "cell_type": "code",
   "execution_count": 23,
   "id": "d0010874-e32d-4f00-bf30-c29a3929f5bb",
   "metadata": {},
   "outputs": [
    {
     "name": "stdout",
     "output_type": "stream",
     "text": [
      "Cat:야옹이(이)가 사료를 먹어요~\n"
     ]
    }
   ],
   "source": [
    "my_cat.eat()"
   ]
  },
  {
   "cell_type": "code",
   "execution_count": 24,
   "id": "1b743ae9-8ebf-46b5-b16d-956e88581f58",
   "metadata": {},
   "outputs": [
    {
     "name": "stdout",
     "output_type": "stream",
     "text": [
      "Dog:망치(이)가 사료를 먹어요~\n"
     ]
    }
   ],
   "source": [
    "my_dog.eat()"
   ]
  },
  {
   "cell_type": "code",
   "execution_count": 26,
   "id": "d61e68d3-6895-4618-9cfe-c5f4b99d45e0",
   "metadata": {},
   "outputs": [
    {
     "data": {
      "text/plain": [
       "[__main__.Cat, __main__.Pet, object]"
      ]
     },
     "execution_count": 26,
     "metadata": {},
     "output_type": "execute_result"
    }
   ],
   "source": [
    "# 상속관계의 계층구조 확인\n",
    "Cat.mro()"
   ]
  },
  {
   "cell_type": "markdown",
   "id": "69f20c7e-3d26-494e-835d-0c77c23ffa1c",
   "metadata": {},
   "source": [
    "## 다중 상속"
   ]
  },
  {
   "cell_type": "code",
   "execution_count": 27,
   "id": "aaed4ae9-fe44-4d49-90d0-b98ab1e3cb3e",
   "metadata": {},
   "outputs": [],
   "source": [
    "class Flyer:\n",
    "    pass\n",
    "\n",
    "class Bird(Pet, Flyer):\n",
    "    pass"
   ]
  },
  {
   "cell_type": "code",
   "execution_count": null,
   "id": "0d6d50b8-0b1a-4d85-8157-c25208228af1",
   "metadata": {},
   "outputs": [],
   "source": []
  }
 ],
 "metadata": {
  "kernelspec": {
   "display_name": "Python 3",
   "language": "python",
   "name": "python3"
  },
  "language_info": {
   "codemirror_mode": {
    "name": "ipython",
    "version": 3
   },
   "file_extension": ".py",
   "mimetype": "text/x-python",
   "name": "python",
   "nbconvert_exporter": "python",
   "pygments_lexer": "ipython3",
   "version": "3.7.10"
  }
 },
 "nbformat": 4,
 "nbformat_minor": 5
}
