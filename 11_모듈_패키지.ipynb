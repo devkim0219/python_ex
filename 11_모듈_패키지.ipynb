{
 "cells": [
  {
   "cell_type": "markdown",
   "id": "ff33a9c2-960a-4231-8c92-aea14abf0abf",
   "metadata": {},
   "source": [
    "# 모듈(module)과 패키지(package)\n",
    "- 윈도우 개념으로 설명\n",
    "    - 모듈: 파일 -> 파일명.py\n",
    "    - 패키지: 폴더 -> 모듈의 묶음\n",
    "    - 모듈 관리가 용이하도록 하기 위해 패키지를 사용\n",
    "    - 서로간에 접근 불가\n",
    "- import\n",
    "    - 서로간에 접근이 가능하도록 해줌\n",
    "    - 경로를 알려주는 방법\n",
    "        - import 패키지명.모듈명\n",
    "        - from 패키지명 import 모듈명, 모듈명2\n",
    "        - from 패키지명.모듈명 import 요소\n",
    "- 시스템에서 제공해준 패키지 및 모듈을 사용하기 위해서는 반드시 import해야 한다."
   ]
  },
  {
   "cell_type": "code",
   "execution_count": null,
   "id": "34be8d59-2770-4dfe-8d1e-83be0a1d0489",
   "metadata": {},
   "outputs": [],
   "source": []
  }
 ],
 "metadata": {
  "kernelspec": {
   "display_name": "Python 3",
   "language": "python",
   "name": "python3"
  },
  "language_info": {
   "codemirror_mode": {
    "name": "ipython",
    "version": 3
   },
   "file_extension": ".py",
   "mimetype": "text/x-python",
   "name": "python",
   "nbconvert_exporter": "python",
   "pygments_lexer": "ipython3",
   "version": "3.7.10"
  }
 },
 "nbformat": 4,
 "nbformat_minor": 5
}
