{
 "cells": [
  {
   "cell_type": "markdown",
   "id": "11738116-7edd-4943-b7fb-bf938d32228e",
   "metadata": {},
   "source": [
    "# 예외처리(exception handling)\n",
    "- 예외(exception)\n",
    "    - 일반적으로 '에러'라고 부름\n",
    "    - 실행 중에 발생하는 __문제 발생__\n",
    "    - 예외가 발생하면 프로그램이 __비정상종료__ 됨\n",
    "- 예외처리(exception handling)\n",
    "    - 프로그램 실행 중에 어쩔 수 없이 발생하는 예외를 __정상종료__ 하도록 유도하는 작업\n",
    "- 예외처리 방법\n",
    "    - 예외클래스 사용(시스템에서 제공)\n",
    "        - 예외클래스도 상속관계로 되어있음\n",
    "        - XXXError\n",
    "    - 예외클래스\n",
    "        - SyntaxError: 문법 오류\n",
    "        - ZeroDivisionError: 0으로 나누었을 때 발생\n",
    "        - IndexError: 인덱스 범위가 넘어갔을 때\n",
    "        - KeyError: dict에서 key값이 없을 때\n",
    "        - FileNotFoundError: 파일이 없을 때\n",
    "- 명시적 예외 발생\n",
    "    - raise Exception('error message')"
   ]
  },
  {
   "cell_type": "code",
   "execution_count": null,
   "id": "fe9a3972-fac5-4a8b-929f-04c18d7b6255",
   "metadata": {},
   "outputs": [],
   "source": [
    "'''\n",
    "# try ~ except\n",
    "try:\n",
    "    실행하고자 하는 문장\n",
    "except 예외클래스명 as 별칭:\n",
    "    예외가 발생했을 때 처리하는 문장 : 사용자가 실행하고자 했던 작업이 실패한 이유를 알려줌\n",
    "    \n",
    "-> except에는 예외처리를 담당할 수 있는 적합한 예외클래스를 지정해야 함\n",
    "-> 상속관계 구조로 봤을 때 부모 예외클래스를 사용할 수도 있음\n",
    "-> Exception은 예외클래스의 최상위 클래스로 간주되어 처리됨\n",
    "\n",
    "# try ~ except ~ finally\n",
    "-> 예외 발생 여부에 상관없이 무조건 실행됨\n",
    "try:\n",
    "    문장\n",
    "except Exception as e:\n",
    "    문장\n",
    "finally:\n",
    "    문장(반드시 실행)\n",
    "'''"
   ]
  },
  {
   "cell_type": "code",
   "execution_count": 8,
   "id": "cf02bec5-97cc-469c-bde4-2fccb8879f9b",
   "metadata": {},
   "outputs": [
    {
     "name": "stdout",
     "output_type": "stream",
     "text": [
      "1\n",
      "0으로 나눌 수 없습니다. error:  division by zero\n",
      "정상 종료\n"
     ]
    }
   ],
   "source": [
    "print('1')\n",
    "\n",
    "try:\n",
    "    num = 0\n",
    "    result = 10 / num\n",
    "    print('result: ', result)\n",
    "except ZeroDivisionError as e:\n",
    "    print('0으로 나눌 수 없습니다. error: ', e)\n",
    "\n",
    "print('정상 종료')"
   ]
  },
  {
   "cell_type": "code",
   "execution_count": 3,
   "id": "2d5af72d-8cce-466a-8091-613b3dab9c02",
   "metadata": {},
   "outputs": [
    {
     "data": {
      "text/plain": [
       "[ZeroDivisionError, ArithmeticError, Exception, BaseException, object]"
      ]
     },
     "execution_count": 3,
     "metadata": {},
     "output_type": "execute_result"
    }
   ],
   "source": [
    "ZeroDivisionError.mro()"
   ]
  },
  {
   "cell_type": "markdown",
   "id": "f5ff75c6-1cc1-4811-92fd-f59412f8907b",
   "metadata": {},
   "source": [
    "## 다중 except문"
   ]
  },
  {
   "cell_type": "code",
   "execution_count": null,
   "id": "e3cc64d6-4ae3-4e40-a45a-41dcc37bc699",
   "metadata": {},
   "outputs": [],
   "source": [
    "'''\n",
    "try:\n",
    "    문장1 -> ZeroDivisionError가 발생할 수 있는 코드\n",
    "    문장2 -> KeyError가 발생할 수 있는 코드\n",
    "    문장3 -> ?\n",
    "except ZeroDivisionError as e:\n",
    "    문장\n",
    "except KeyError as e:\n",
    "    문장\n",
    "except Exception as e:\n",
    "    문장\n",
    "'''"
   ]
  },
  {
   "cell_type": "code",
   "execution_count": 13,
   "id": "a1bce90b-8652-486b-9686-977677aeb6aa",
   "metadata": {},
   "outputs": [
    {
     "name": "stdout",
     "output_type": "stream",
     "text": [
      "1\n",
      "result:  5.0\n",
      "해당 key값이 없습니다. error:  'key3'\n",
      "반드시 실행\n",
      "정상 종료\n"
     ]
    }
   ],
   "source": [
    "print('1')\n",
    "\n",
    "try:\n",
    "    num = 2\n",
    "    result = 10 / num\n",
    "    print('result: ', result)\n",
    "    \n",
    "    a = {'key1': 'value1', 'key2': 'value2'}\n",
    "    print(a['key3'])\n",
    "    \n",
    "except ZeroDivisionError as e:\n",
    "    print('0으로 나눌 수 없습니다. error: ', e)\n",
    "except KeyError as e:\n",
    "    print('해당 key값이 없습니다. error: ', e)\n",
    "except Exception as e:\n",
    "    print('오류가 발생했습니다.', e)\n",
    "finally:\n",
    "    print('반드시 실행')\n",
    "\n",
    "print('정상 종료')"
   ]
  },
  {
   "cell_type": "code",
   "execution_count": null,
   "id": "d496abe7-fbb8-4b7b-9087-03b6f8a73140",
   "metadata": {},
   "outputs": [],
   "source": []
  }
 ],
 "metadata": {
  "kernelspec": {
   "display_name": "Python 3",
   "language": "python",
   "name": "python3"
  },
  "language_info": {
   "codemirror_mode": {
    "name": "ipython",
    "version": 3
   },
   "file_extension": ".py",
   "mimetype": "text/x-python",
   "name": "python",
   "nbconvert_exporter": "python",
   "pygments_lexer": "ipython3",
   "version": "3.7.10"
  }
 },
 "nbformat": 4,
 "nbformat_minor": 5
}
