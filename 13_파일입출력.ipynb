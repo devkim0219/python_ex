{
 "cells": [
  {
   "cell_type": "markdown",
   "id": "bee13cca-3363-45d6-998c-d594fef2c10e",
   "metadata": {},
   "source": [
    "# 파일 입/출력\n",
    "1. 사용하겠습니다. -> open()\n",
    "2. 사용 (읽기/쓰기)\n",
    "3. 잘 사용했습니다. -> close()"
   ]
  },
  {
   "cell_type": "code",
   "execution_count": 34,
   "id": "d35bc516-b23e-46bf-8213-221c1fba3830",
   "metadata": {},
   "outputs": [
    {
     "name": "stdout",
     "output_type": "stream",
     "text": [
      "HelloHelloHelloHello가나다라마바사\n",
      "\n"
     ]
    }
   ],
   "source": [
    "# 1. 파일 읽기\n",
    "try:\n",
    "    f = open('uploads/resources/review.txt', 'r', encoding='utf-8')\n",
    "    print(f.read())\n",
    "except Exception as e:\n",
    "    print('예외 발생: ', e)\n",
    "finally:\n",
    "    if f is not None:\n",
    "        f.close()"
   ]
  },
  {
   "cell_type": "code",
   "execution_count": 28,
   "id": "cf685cb4-d4c4-41c8-92b1-550f20ce084a",
   "metadata": {},
   "outputs": [
    {
     "name": "stdout",
     "output_type": "stream",
     "text": [
      "The film, projected in the form of animation,\n",
      "imparts the lesson of how wars can be eluded through reasoning and peaceful dialogues,\n",
      "which eventually paves the path for gaining a fresh perspective on an age-old problem.\n",
      "The story also happens to centre around two parallel characters, Shundi King and Hundi King,\n",
      "who are twins, but they constantly fight over unresolved issues planted in their minds\n",
      "by external forces from within their very own units."
     ]
    }
   ],
   "source": [
    "# 2. 파일 읽기 - with문 사용(자동 close)\n",
    "try:\n",
    "    with open('uploads/resources/review.txt', 'r', encoding='utf-8') as f:\n",
    "#         data = f.read()  # 파일 전체를 읽음 \n",
    "#         data = f.readline()  # 파일의 첫 줄만 읽음\n",
    "#         data = f.readlines()  # 파일 전체를 읽어서 한 줄씩 리스트에 저장\n",
    "#         for line in data:\n",
    "        for line in f:\n",
    "            print(line, end='')\n",
    "except Exception as e:\n",
    "    print('예외 발생: ', e)"
   ]
  },
  {
   "cell_type": "code",
   "execution_count": 36,
   "id": "01b2a815-677f-4cc8-8a6a-7156ec46dcf4",
   "metadata": {},
   "outputs": [],
   "source": [
    "# 3. 파일 쓰기\n",
    "'''\n",
    "- mode\n",
    "    - r: read\n",
    "    - w: write(덮어쓰기)\n",
    "    - a: append(기존 파일에 추가)\n",
    "- 파일 읽기에서는 파일이 없으면 자동으로 생성해주기 때문에 예외처리가 불필요\n",
    "'''\n",
    "with open('uploads/resources/devkim0219.txt', 'w', encoding='utf-8') as f:\n",
    "    f.write('abcdefg\\n')\n",
    "    f.write('1234567\\n')\n",
    "    f.write('가나다라마바사\\n')"
   ]
  },
  {
   "cell_type": "code",
   "execution_count": null,
   "id": "ed711e3c-d2a2-4b4b-93a3-4dd6eeece5a6",
   "metadata": {},
   "outputs": [],
   "source": []
  }
 ],
 "metadata": {
  "kernelspec": {
   "display_name": "Python 3",
   "language": "python",
   "name": "python3"
  },
  "language_info": {
   "codemirror_mode": {
    "name": "ipython",
    "version": 3
   },
   "file_extension": ".py",
   "mimetype": "text/x-python",
   "name": "python",
   "nbconvert_exporter": "python",
   "pygments_lexer": "ipython3",
   "version": "3.7.10"
  }
 },
 "nbformat": 4,
 "nbformat_minor": 5
}
