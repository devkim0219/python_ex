{
 "cells": [
  {
   "cell_type": "markdown",
   "metadata": {},
   "source": [
    "## 집합형 데이터\n",
    "### 1. 문자열 생성"
   ]
  },
  {
   "cell_type": "code",
   "execution_count": 2,
   "metadata": {},
   "outputs": [
    {
     "name": "stdout",
     "output_type": "stream",
     "text": [
      "aasadwqqegwgrerjrklajsdlkjsdflksajdlksjadlksdja asadwqqegwgrerjrklajsdlkjsdflksajdlksjadlksdjaasadw qqegwgrerjrklajsdlkjsdflksajdlksjadlksdjaasadwqqegwg rerjrklajsdlkjsdflksajdlksjadlksdjaasadwqqegwgrerjrk lajsdlkjsdflksajdlksjadlksdjaasadwqqegwgrerjrklajsdlk jsdflksajdlksjadlksdjaasadwqqegwgrerjrklajsdlkjsdflks ajdlksjadlksdjaasadwqqegwgrerjrklajsdlkjsdflksajdlksj adlksdjaasadwqqegwgrerjrklajsdlkjsdflksajdlksjadlksdj aasadwqqegwgrerjrklajsdlkjsdflksajdlksjadlksdjaasadwq qegwgrerjrklajsdlkjsdflksajdlksjadlksdj\n",
      "aasadwqqegwgrerjrklajsdlkjsdflksajdlksjadlksdjaas\n",
      "adwqqegwgrerjrklajsdlkjsdflksajdlksjadlksdjaasadwqqeg\n",
      "wgrerjrklajsdlkjsdflksajdlksjadlksdjaasadwqqegwgrerjr\n",
      "klajsdlkjsdflksajdlksjadlksdjaasadwqqegwgrerjrklajsd\n",
      "kjsdflksajdlksjadlksdjaasadwqqegwgrerjrklajsdlkjsdflk\n",
      "sajdlksjadlksdjaasadwqqegwgrerjrklajsdlkjsdflksajdlksja\n",
      "dlksdjaasadwqqegwgrerjrklajsdlkjsdflksajdlksjadlksdjaasa\n",
      "dwqqegwgrerjrklajsdlkjsdflksajdlksjadlksdjaasadwqqegwgrer\n",
      "rklajsdlkjsdflksajdlksjadlksdjaasadwqqegwgrerjrklajsdlkjsd\n",
      "flksajdlksjadlksdjaasadwqqegwgrerjrklajsdlkjsdflksajdlksjadlksdj\n"
     ]
    }
   ],
   "source": [
    "# triple 사용 용도\n",
    "'''\n",
    "멀티 라인 주석\n",
    "'''\n",
    "x = 'aasadwqqegwgrerjrklajsdlkjsdflksajdlksjadlksdja \\\n",
    "asadwqqegwgrerjrklajsdlkjsdflksajdlksjadlksdjaasadw \\\n",
    "qqegwgrerjrklajsdlkjsdflksajdlksjadlksdjaasadwqqegwg \\\n",
    "rerjrklajsdlkjsdflksajdlksjadlksdjaasadwqqegwgrerjrk \\\n",
    "lajsdlkjsdflksajdlksjadlksdjaasadwqqegwgrerjrklajsdlk \\\n",
    "jsdflksajdlksjadlksdjaasadwqqegwgrerjrklajsdlkjsdflks \\\n",
    "ajdlksjadlksdjaasadwqqegwgrerjrklajsdlkjsdflksajdlksj \\\n",
    "adlksdjaasadwqqegwgrerjrklajsdlkjsdflksajdlksjadlksdj \\\n",
    "aasadwqqegwgrerjrklajsdlkjsdflksajdlksjadlksdjaasadwq \\\n",
    "qegwgrerjrklajsdlkjsdflksajdlksjadlksdj'\n",
    "x2 = '''aasadwqqegwgrerjrklajsdlkjsdflksajdlksjadlksdjaas\n",
    "adwqqegwgrerjrklajsdlkjsdflksajdlksjadlksdjaasadwqqeg\n",
    "wgrerjrklajsdlkjsdflksajdlksjadlksdjaasadwqqegwgrerjr\n",
    "klajsdlkjsdflksajdlksjadlksdjaasadwqqegwgrerjrklajsd\n",
    "kjsdflksajdlksjadlksdjaasadwqqegwgrerjrklajsdlkjsdflk\n",
    "sajdlksjadlksdjaasadwqqegwgrerjrklajsdlkjsdflksajdlksja\n",
    "dlksdjaasadwqqegwgrerjrklajsdlkjsdflksajdlksjadlksdjaasa\n",
    "dwqqegwgrerjrklajsdlkjsdflksajdlksjadlksdjaasadwqqegwgrer\n",
    "rklajsdlkjsdflksajdlksjadlksdjaasadwqqegwgrerjrklajsdlkjsd\n",
    "flksajdlksjadlksdjaasadwqqegwgrerjrklajsdlkjsdflksajdlksjadlksdj'''\n",
    "\n",
    "print(x)\n",
    "print(x2)"
   ]
  }
 ],
 "metadata": {
  "kernelspec": {
   "display_name": "Python 3",
   "language": "python",
   "name": "python3"
  },
  "language_info": {
   "codemirror_mode": {
    "name": "ipython",
    "version": 3
   },
   "file_extension": ".py",
   "mimetype": "text/x-python",
   "name": "python",
   "nbconvert_exporter": "python",
   "pygments_lexer": "ipython3",
   "version": "3.7.6"
  }
 },
 "nbformat": 4,
 "nbformat_minor": 4
}
